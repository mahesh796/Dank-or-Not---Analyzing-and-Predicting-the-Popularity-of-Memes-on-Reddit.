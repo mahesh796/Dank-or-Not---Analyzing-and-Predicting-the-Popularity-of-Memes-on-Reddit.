{
  "nbformat": 4,
  "nbformat_minor": 0,
  "metadata": {
    "colab": {
      "name": "FE_LSTM.ipynb",
      "provenance": [],
      "collapsed_sections": []
    },
    "kernelspec": {
      "display_name": "Python 3",
      "language": "python",
      "name": "python3"
    },
    "language_info": {
      "codemirror_mode": {
        "name": "ipython",
        "version": 3
      },
      "file_extension": ".py",
      "mimetype": "text/x-python",
      "name": "python",
      "nbconvert_exporter": "python",
      "pygments_lexer": "ipython3",
      "version": "3.7.1"
    }
  },
  "cells": [
    {
      "cell_type": "code",
      "metadata": {
        "id": "syggWtlVFcAe"
      },
      "source": [
        "#!unzip dank_data-master.zip\n",
        "#!pip install tensorflow_addons\n",
        "#!wget http://nlp.stanford.edu/data/glove.6B.zip\n",
        "#!unzip glove*.zip"
      ],
      "execution_count": 1,
      "outputs": []
    },
    {
      "cell_type": "code",
      "metadata": {
        "id": "gFiNdYaV7sCy"
      },
      "source": [
        "import glob\n",
        "import pandas as pd\n",
        "import warnings\n",
        "warnings.filterwarnings(\"ignore\")\n",
        "from tensorflow.keras.preprocessing.image import ImageDataGenerator\n",
        "from tensorflow.keras.layers import Dense,Input,MaxPool1D,Activation,Dropout,Flatten,Embedding,LSTM,concatenate\n",
        "from tensorflow.keras.models import Model\n",
        "import tensorflow as tf\n",
        "import numpy as np\n",
        "from tensorflow.keras.preprocessing.text import Tokenizer\n",
        "from sklearn.preprocessing import LabelEncoder\n",
        "from sklearn.preprocessing import StandardScaler\n",
        "import tensorflow_addons as tfa\n",
        "from tensorflow.keras.callbacks import LearningRateScheduler\n",
        "from tensorflow.keras.callbacks import ReduceLROnPlateau\n",
        "from tensorflow.keras.callbacks import ModelCheckpoint\n",
        "from tensorflow.keras.callbacks import EarlyStopping\n",
        "from sklearn.metrics import confusion_matrix,accuracy_score,f1_score\n",
        "import seaborn as sns\n",
        "import matplotlib.pyplot as plt"
      ],
      "execution_count": 2,
      "outputs": []
    },
    {
      "cell_type": "code",
      "metadata": {
        "id": "ZHmexA12FYHb"
      },
      "source": [
        "training='/content/dank_data-master/data/training/*'\n",
        "test='/content/dank_data-master/data/test/*'\n",
        "validation='/content/dank_data-master/data/validation/*'"
      ],
      "execution_count": 3,
      "outputs": []
    },
    {
      "cell_type": "code",
      "metadata": {
        "id": "qhZByVWRFYJ7"
      },
      "source": [
        "training = glob.glob(training)\n",
        "test = glob.glob(test)\n",
        "validation = glob.glob(validation)"
      ],
      "execution_count": 4,
      "outputs": []
    },
    {
      "cell_type": "code",
      "metadata": {
        "id": "oY7Ch0DDFYNS"
      },
      "source": [
        "final_dank=pd.read_csv('/content/dank_data-master/data/final_dank.csv')\n",
        "train_labels = [fn.split('/')[-1].split('.')[0].strip() for fn in training]\n",
        "validation_labels = [fn.split('/')[-1].split('.')[0].strip() for fn in validation]\n",
        "test_labels = [fn.split('/')[-1].split('.')[0].strip() for fn in test]"
      ],
      "execution_count": 5,
      "outputs": []
    },
    {
      "cell_type": "code",
      "metadata": {
        "colab": {
          "base_uri": "https://localhost:8080/",
          "height": 445
        },
        "id": "74jyXu1WFjVz",
        "outputId": "8409b577-9ed4-4ad9-a926-b2e0d45c3f88"
      },
      "source": [
        "for labels in train_labels:\n",
        "    if labels==train_labels[0]:\n",
        "        train_data =final_dank[final_dank['id']==labels]\n",
        "    else :\n",
        "        train_data =train_data.append(final_dank[final_dank['id']==labels],sort=False)\n",
        "for labels in validation_labels:\n",
        "    if labels==validation_labels[0]:\n",
        "        val_data =final_dank[final_dank['id']==labels]\n",
        "    else :\n",
        "        val_data =val_data.append(final_dank[final_dank['id']==labels],sort=False)\n",
        "for labels in test_labels:\n",
        "    if labels==test_labels[0]:\n",
        "        test_data =final_dank[final_dank['id']==labels]\n",
        "    else :\n",
        "        test_data =test_data.append(final_dank[final_dank['id']==labels],sort=False)\n",
        "print(train_data.shape)\n",
        "print(test_data.shape)\n",
        "print(val_data.shape)\n",
        "train_data.head(5)"
      ],
      "execution_count": 6,
      "outputs": [
        {
          "output_type": "stream",
          "text": [
            "(3405, 68)\n",
            "(1719, 68)\n",
            "(1688, 68)\n"
          ],
          "name": "stdout"
        },
        {
          "output_type": "execute_result",
          "data": {
            "text/html": [
              "<div>\n",
              "<style scoped>\n",
              "    .dataframe tbody tr th:only-of-type {\n",
              "        vertical-align: middle;\n",
              "    }\n",
              "\n",
              "    .dataframe tbody tr th {\n",
              "        vertical-align: top;\n",
              "    }\n",
              "\n",
              "    .dataframe thead th {\n",
              "        text-align: right;\n",
              "    }\n",
              "</style>\n",
              "<table border=\"1\" class=\"dataframe\">\n",
              "  <thead>\n",
              "    <tr style=\"text-align: right;\">\n",
              "      <th></th>\n",
              "      <th>Unnamed: 0</th>\n",
              "      <th>level_0</th>\n",
              "      <th>index</th>\n",
              "      <th>author</th>\n",
              "      <th>awards</th>\n",
              "      <th>processed_words</th>\n",
              "      <th>created_utc</th>\n",
              "      <th>downs</th>\n",
              "      <th>id</th>\n",
              "      <th>is_nsfw</th>\n",
              "      <th>media</th>\n",
              "      <th>subreddit</th>\n",
              "      <th>subscribers</th>\n",
              "      <th>thumbnail.height</th>\n",
              "      <th>thumbnail.thumbnail</th>\n",
              "      <th>thumbnail.width</th>\n",
              "      <th>title</th>\n",
              "      <th>ups</th>\n",
              "      <th>url</th>\n",
              "      <th>datetime_temp</th>\n",
              "      <th>time_of_day</th>\n",
              "      <th>ups_normed</th>\n",
              "      <th>dank_level</th>\n",
              "      <th>TextLength</th>\n",
              "      <th>Sentiment</th>\n",
              "      <th>word_count</th>\n",
              "      <th>avg_blueRGB</th>\n",
              "      <th>avg_greenRGB</th>\n",
              "      <th>avg_hue</th>\n",
              "      <th>avg_redRGB</th>\n",
              "      <th>avg_saturation</th>\n",
              "      <th>avg_value</th>\n",
              "      <th>off-white</th>\n",
              "      <th>aqua</th>\n",
              "      <th>mustard</th>\n",
              "      <th>pure-black</th>\n",
              "      <th>purple</th>\n",
              "      <th>red-brown</th>\n",
              "      <th>dust-brown</th>\n",
              "      <th>gray-blue</th>\n",
              "      <th>orange</th>\n",
              "      <th>salmon</th>\n",
              "      <th>dark-green</th>\n",
              "      <th>pink</th>\n",
              "      <th>pure-white</th>\n",
              "      <th>yellow-green</th>\n",
              "      <th>bright-yellow</th>\n",
              "      <th>teal</th>\n",
              "      <th>cyan</th>\n",
              "      <th>gray</th>\n",
              "      <th>maroon</th>\n",
              "      <th>olive</th>\n",
              "      <th>light-blue</th>\n",
              "      <th>plum</th>\n",
              "      <th>siena-brown</th>\n",
              "      <th>gold</th>\n",
              "      <th>pure-red</th>\n",
              "      <th>pure-green</th>\n",
              "      <th>pure-blue</th>\n",
              "      <th>coral</th>\n",
              "      <th>peach</th>\n",
              "      <th>col</th>\n",
              "      <th>vgg1_prob</th>\n",
              "      <th>vgg2_prob</th>\n",
              "      <th>vgg3_prob</th>\n",
              "      <th>vgg_feature_1</th>\n",
              "      <th>vgg_feature_2</th>\n",
              "      <th>vgg_feature_3</th>\n",
              "    </tr>\n",
              "  </thead>\n",
              "  <tbody>\n",
              "    <tr>\n",
              "      <th>15987</th>\n",
              "      <td>32142</td>\n",
              "      <td>33669.0</td>\n",
              "      <td>33669.0</td>\n",
              "      <td>orby9990</td>\n",
              "      <td>[]</td>\n",
              "      <td>['true', 'stori', 'btwthe', 'world', 'iranian'...</td>\n",
              "      <td>1.584339e+09</td>\n",
              "      <td>0.0</td>\n",
              "      <td>fjgc0b</td>\n",
              "      <td>False</td>\n",
              "      <td>https://i.redd.it/ecqosvb39zm41.jpg</td>\n",
              "      <td>r/memes</td>\n",
              "      <td>9552845.0</td>\n",
              "      <td>114.0</td>\n",
              "      <td>https://b.thumbs.redditmedia.com/kPMxyOg6OK08X...</td>\n",
              "      <td>140.0</td>\n",
              "      <td>A true story btw</td>\n",
              "      <td>34.0</td>\n",
              "      <td>/r/memes/comments/fjgc0b/a_true_story_btw/</td>\n",
              "      <td>2020-03-16 01:17:30</td>\n",
              "      <td>0.0</td>\n",
              "      <td>0.000004</td>\n",
              "      <td>0.0</td>\n",
              "      <td>107.0</td>\n",
              "      <td>0.50</td>\n",
              "      <td>11.0</td>\n",
              "      <td>95.052708</td>\n",
              "      <td>107.050196</td>\n",
              "      <td>19.760304</td>\n",
              "      <td>116.770135</td>\n",
              "      <td>52.584005</td>\n",
              "      <td>116.941465</td>\n",
              "      <td>0.016667</td>\n",
              "      <td>0.000000</td>\n",
              "      <td>0.0</td>\n",
              "      <td>11.433333</td>\n",
              "      <td>0.0</td>\n",
              "      <td>1.361806</td>\n",
              "      <td>0.018056</td>\n",
              "      <td>0.129861</td>\n",
              "      <td>0.000000</td>\n",
              "      <td>0.016667</td>\n",
              "      <td>0.0</td>\n",
              "      <td>0.0</td>\n",
              "      <td>0.0</td>\n",
              "      <td>0.0</td>\n",
              "      <td>0.0</td>\n",
              "      <td>0.009375</td>\n",
              "      <td>0.000000</td>\n",
              "      <td>2.212153</td>\n",
              "      <td>0.537500</td>\n",
              "      <td>0.0</td>\n",
              "      <td>0.0</td>\n",
              "      <td>0.0</td>\n",
              "      <td>0.0</td>\n",
              "      <td>0.506944</td>\n",
              "      <td>0.0</td>\n",
              "      <td>0.000000</td>\n",
              "      <td>0.0</td>\n",
              "      <td>0.0</td>\n",
              "      <td>0.016667</td>\n",
              "      <td>2.763194</td>\n",
              "      <td>0.668729</td>\n",
              "      <td>0.097587</td>\n",
              "      <td>0.028324</td>\n",
              "      <td>Afghan_hound</td>\n",
              "      <td>Saluki</td>\n",
              "      <td>flat-coated_retriever</td>\n",
              "    </tr>\n",
              "    <tr>\n",
              "      <th>58209</th>\n",
              "      <td>103760</td>\n",
              "      <td>8570.0</td>\n",
              "      <td>40223.0</td>\n",
              "      <td>DarkKnight_Jedi</td>\n",
              "      <td>[]</td>\n",
              "      <td>['deserv', 'march', 'prove', 'cost', 'husband'...</td>\n",
              "      <td>1.584860e+09</td>\n",
              "      <td>0.0</td>\n",
              "      <td>fmvmdh</td>\n",
              "      <td>False</td>\n",
              "      <td>https://i.redd.it/ghi2kxtz76o41.jpg</td>\n",
              "      <td>r/memes</td>\n",
              "      <td>10674303.0</td>\n",
              "      <td>140.0</td>\n",
              "      <td>https://b.thumbs.redditmedia.com/CSEjpMx6xBGMC...</td>\n",
              "      <td>140.0</td>\n",
              "      <td>You get what you deserve.</td>\n",
              "      <td>45.0</td>\n",
              "      <td>/r/memes/comments/fmvmdh/you_get_what_you_dese...</td>\n",
              "      <td>2020-03-22 01:48:01</td>\n",
              "      <td>0.0</td>\n",
              "      <td>0.000004</td>\n",
              "      <td>0.0</td>\n",
              "      <td>309.0</td>\n",
              "      <td>0.31</td>\n",
              "      <td>23.0</td>\n",
              "      <td>87.360511</td>\n",
              "      <td>96.420800</td>\n",
              "      <td>34.500770</td>\n",
              "      <td>99.303545</td>\n",
              "      <td>45.131488</td>\n",
              "      <td>104.335300</td>\n",
              "      <td>34.190586</td>\n",
              "      <td>0.000000</td>\n",
              "      <td>0.0</td>\n",
              "      <td>71.467504</td>\n",
              "      <td>0.0</td>\n",
              "      <td>0.096762</td>\n",
              "      <td>0.194482</td>\n",
              "      <td>0.046944</td>\n",
              "      <td>0.007185</td>\n",
              "      <td>0.035927</td>\n",
              "      <td>0.0</td>\n",
              "      <td>0.0</td>\n",
              "      <td>0.0</td>\n",
              "      <td>0.0</td>\n",
              "      <td>0.0</td>\n",
              "      <td>0.003832</td>\n",
              "      <td>0.000000</td>\n",
              "      <td>0.947503</td>\n",
              "      <td>0.003832</td>\n",
              "      <td>0.0</td>\n",
              "      <td>0.0</td>\n",
              "      <td>0.0</td>\n",
              "      <td>0.0</td>\n",
              "      <td>0.121671</td>\n",
              "      <td>0.0</td>\n",
              "      <td>0.000000</td>\n",
              "      <td>0.0</td>\n",
              "      <td>0.0</td>\n",
              "      <td>0.035927</td>\n",
              "      <td>43.983208</td>\n",
              "      <td>0.482307</td>\n",
              "      <td>0.176615</td>\n",
              "      <td>0.056003</td>\n",
              "      <td>web_site</td>\n",
              "      <td>television</td>\n",
              "      <td>desktop_computer</td>\n",
              "    </tr>\n",
              "    <tr>\n",
              "      <th>45465</th>\n",
              "      <td>76129</td>\n",
              "      <td>79789.0</td>\n",
              "      <td>11442.0</td>\n",
              "      <td>LifeAfterRedditFalls</td>\n",
              "      <td>[]</td>\n",
              "      <td>['think', 'share', 'peac', 'final', 'option']</td>\n",
              "      <td>1.584535e+09</td>\n",
              "      <td>0.0</td>\n",
              "      <td>fkorwm</td>\n",
              "      <td>False</td>\n",
              "      <td>https://i.redd.it/ljdoxllqdfn41.jpg</td>\n",
              "      <td>r/memes</td>\n",
              "      <td>10674191.0</td>\n",
              "      <td>140.0</td>\n",
              "      <td>default</td>\n",
              "      <td>140.0</td>\n",
              "      <td>I found it somewhere and I thought I share it ...</td>\n",
              "      <td>2940.0</td>\n",
              "      <td>/r/memes/comments/fkorwm/i_found_it_somewhere_...</td>\n",
              "      <td>2020-03-18 07:32:02</td>\n",
              "      <td>1.0</td>\n",
              "      <td>0.000275</td>\n",
              "      <td>1.0</td>\n",
              "      <td>88.0</td>\n",
              "      <td>0.50</td>\n",
              "      <td>5.0</td>\n",
              "      <td>104.484860</td>\n",
              "      <td>112.086209</td>\n",
              "      <td>45.902677</td>\n",
              "      <td>122.528087</td>\n",
              "      <td>50.572989</td>\n",
              "      <td>125.251816</td>\n",
              "      <td>20.869998</td>\n",
              "      <td>0.000000</td>\n",
              "      <td>0.0</td>\n",
              "      <td>3.331331</td>\n",
              "      <td>0.0</td>\n",
              "      <td>0.056033</td>\n",
              "      <td>0.769947</td>\n",
              "      <td>0.444231</td>\n",
              "      <td>0.000000</td>\n",
              "      <td>0.000000</td>\n",
              "      <td>0.0</td>\n",
              "      <td>0.0</td>\n",
              "      <td>0.0</td>\n",
              "      <td>0.0</td>\n",
              "      <td>0.0</td>\n",
              "      <td>0.000000</td>\n",
              "      <td>0.000000</td>\n",
              "      <td>1.530622</td>\n",
              "      <td>0.000000</td>\n",
              "      <td>0.0</td>\n",
              "      <td>0.0</td>\n",
              "      <td>0.0</td>\n",
              "      <td>0.0</td>\n",
              "      <td>0.249930</td>\n",
              "      <td>0.0</td>\n",
              "      <td>0.000000</td>\n",
              "      <td>0.0</td>\n",
              "      <td>0.0</td>\n",
              "      <td>0.000000</td>\n",
              "      <td>0.609105</td>\n",
              "      <td>0.054990</td>\n",
              "      <td>0.042113</td>\n",
              "      <td>0.041233</td>\n",
              "      <td>laptop</td>\n",
              "      <td>library</td>\n",
              "      <td>golfcart</td>\n",
              "    </tr>\n",
              "    <tr>\n",
              "      <th>9635</th>\n",
              "      <td>22567</td>\n",
              "      <td>23666.0</td>\n",
              "      <td>23666.0</td>\n",
              "      <td>subbot9</td>\n",
              "      <td>[]</td>\n",
              "      <td>['love', 'love', 'reddit']</td>\n",
              "      <td>1.584394e+09</td>\n",
              "      <td>0.0</td>\n",
              "      <td>fjsw1y</td>\n",
              "      <td>False</td>\n",
              "      <td>https://i.redd.it/fmk7ialms3n41.jpg</td>\n",
              "      <td>r/memes</td>\n",
              "      <td>9552814.0</td>\n",
              "      <td>140.0</td>\n",
              "      <td>default</td>\n",
              "      <td>140.0</td>\n",
              "      <td>oooooooooooooooooooooooooooooooooooooooooooooo...</td>\n",
              "      <td>912.0</td>\n",
              "      <td>/r/memes/comments/fjsw1y/ooooooooooooooooooooo...</td>\n",
              "      <td>2020-03-16 16:34:13</td>\n",
              "      <td>3.0</td>\n",
              "      <td>0.000095</td>\n",
              "      <td>1.0</td>\n",
              "      <td>144.0</td>\n",
              "      <td>0.57</td>\n",
              "      <td>3.0</td>\n",
              "      <td>200.440603</td>\n",
              "      <td>205.574394</td>\n",
              "      <td>14.710818</td>\n",
              "      <td>218.989681</td>\n",
              "      <td>29.078702</td>\n",
              "      <td>220.450936</td>\n",
              "      <td>2.380445</td>\n",
              "      <td>0.359848</td>\n",
              "      <td>0.0</td>\n",
              "      <td>7.722538</td>\n",
              "      <td>0.0</td>\n",
              "      <td>0.870916</td>\n",
              "      <td>2.168857</td>\n",
              "      <td>0.009766</td>\n",
              "      <td>0.000000</td>\n",
              "      <td>16.912287</td>\n",
              "      <td>0.0</td>\n",
              "      <td>0.0</td>\n",
              "      <td>0.0</td>\n",
              "      <td>0.0</td>\n",
              "      <td>0.0</td>\n",
              "      <td>0.005327</td>\n",
              "      <td>0.057706</td>\n",
              "      <td>9.030836</td>\n",
              "      <td>0.002071</td>\n",
              "      <td>0.0</td>\n",
              "      <td>0.0</td>\n",
              "      <td>0.0</td>\n",
              "      <td>0.0</td>\n",
              "      <td>0.314867</td>\n",
              "      <td>0.0</td>\n",
              "      <td>2.368904</td>\n",
              "      <td>0.0</td>\n",
              "      <td>0.0</td>\n",
              "      <td>16.912287</td>\n",
              "      <td>0.554273</td>\n",
              "      <td>0.846116</td>\n",
              "      <td>0.014850</td>\n",
              "      <td>0.007782</td>\n",
              "      <td>web_site</td>\n",
              "      <td>stethoscope</td>\n",
              "      <td>comic_book</td>\n",
              "    </tr>\n",
              "    <tr>\n",
              "      <th>40396</th>\n",
              "      <td>68463</td>\n",
              "      <td>71751.0</td>\n",
              "      <td>3404.0</td>\n",
              "      <td>CalmProfit</td>\n",
              "      <td>[]</td>\n",
              "      <td>['behistorian', 'wonder', 'internet', 'respond...</td>\n",
              "      <td>1.584577e+09</td>\n",
              "      <td>0.0</td>\n",
              "      <td>fl0bhn</td>\n",
              "      <td>False</td>\n",
              "      <td>https://i.redd.it/xa17g8jovin41.jpg</td>\n",
              "      <td>r/memes</td>\n",
              "      <td>10674171.0</td>\n",
              "      <td>140.0</td>\n",
              "      <td>https://a.thumbs.redditmedia.com/GDpKrFmwQLKB7...</td>\n",
              "      <td>140.0</td>\n",
              "      <td>That's how it be</td>\n",
              "      <td>12853.0</td>\n",
              "      <td>/r/memes/comments/fl0bhn/thats_how_it_be/</td>\n",
              "      <td>2020-03-18 19:17:57</td>\n",
              "      <td>4.0</td>\n",
              "      <td>0.001204</td>\n",
              "      <td>1.0</td>\n",
              "      <td>138.0</td>\n",
              "      <td>0.42</td>\n",
              "      <td>8.0</td>\n",
              "      <td>NaN</td>\n",
              "      <td>NaN</td>\n",
              "      <td>NaN</td>\n",
              "      <td>NaN</td>\n",
              "      <td>NaN</td>\n",
              "      <td>NaN</td>\n",
              "      <td>NaN</td>\n",
              "      <td>NaN</td>\n",
              "      <td>NaN</td>\n",
              "      <td>NaN</td>\n",
              "      <td>NaN</td>\n",
              "      <td>NaN</td>\n",
              "      <td>NaN</td>\n",
              "      <td>NaN</td>\n",
              "      <td>NaN</td>\n",
              "      <td>NaN</td>\n",
              "      <td>NaN</td>\n",
              "      <td>NaN</td>\n",
              "      <td>NaN</td>\n",
              "      <td>NaN</td>\n",
              "      <td>NaN</td>\n",
              "      <td>NaN</td>\n",
              "      <td>NaN</td>\n",
              "      <td>NaN</td>\n",
              "      <td>NaN</td>\n",
              "      <td>NaN</td>\n",
              "      <td>NaN</td>\n",
              "      <td>NaN</td>\n",
              "      <td>NaN</td>\n",
              "      <td>NaN</td>\n",
              "      <td>NaN</td>\n",
              "      <td>NaN</td>\n",
              "      <td>NaN</td>\n",
              "      <td>NaN</td>\n",
              "      <td>NaN</td>\n",
              "      <td>NaN</td>\n",
              "      <td>NaN</td>\n",
              "      <td>NaN</td>\n",
              "      <td>NaN</td>\n",
              "      <td>NaN</td>\n",
              "      <td>NaN</td>\n",
              "      <td>NaN</td>\n",
              "    </tr>\n",
              "  </tbody>\n",
              "</table>\n",
              "</div>"
            ],
            "text/plain": [
              "       Unnamed: 0  level_0  ...  vgg_feature_2          vgg_feature_3\n",
              "15987       32142  33669.0  ...         Saluki  flat-coated_retriever\n",
              "58209      103760   8570.0  ...     television       desktop_computer\n",
              "45465       76129  79789.0  ...        library               golfcart\n",
              "9635        22567  23666.0  ...    stethoscope             comic_book\n",
              "40396       68463  71751.0  ...            NaN                    NaN\n",
              "\n",
              "[5 rows x 68 columns]"
            ]
          },
          "metadata": {
            "tags": []
          },
          "execution_count": 6
        }
      ]
    },
    {
      "cell_type": "code",
      "metadata": {
        "id": "rFNg0cmxZb4S"
      },
      "source": [
        "train_data_words=train_data['processed_words'].values\n",
        "validation_words=val_data['processed_words'].values\n",
        "test_data_words=test_data['processed_words'].values\n",
        "\n",
        "tokenizer = Tokenizer()\n",
        "tokenizer.fit_on_texts(train_data_words)\n",
        "vocab_size=len(tokenizer.word_index)\n",
        "encoded_Xtrain_words = [tf.keras.preprocessing.text.one_hot(d, vocab_size,filters='!\"#$%&()*+,-./:;<=>?@[\\\\]^`{|}~\\t\\n') for d in train_data_words]\n",
        "encoded_validation_words = [tf.keras.preprocessing.text.one_hot(d, vocab_size,filters='!\"#$%&()*+,-./:;<=>?@[\\\\]^`{|}~\\t\\n') for d in validation_words]\n",
        "encoded_Xtest_words = [tf.keras.preprocessing.text.one_hot(d, vocab_size,filters='!\"#$%&()*+,-./:;<=>?@[\\\\]^`{|}~\\t\\n') for d in test_data_words]\n",
        "\n",
        "padded_Xtrain_words = tf.keras.preprocessing.sequence.pad_sequences(encoded_Xtrain_words, maxlen=20, padding='post')\n",
        "padded_Xvalidation_words = tf.keras.preprocessing.sequence.pad_sequences(encoded_validation_words, maxlen=20, padding='post')\n",
        "padded_Xtest_words = tf.keras.preprocessing.sequence.pad_sequences(encoded_Xtest_words, maxlen=20, padding='post')"
      ],
      "execution_count": 7,
      "outputs": []
    },
    {
      "cell_type": "code",
      "metadata": {
        "colab": {
          "base_uri": "https://localhost:8080/"
        },
        "id": "49j1GzopchRu",
        "outputId": "dd4f5036-af25-4d0d-bb0a-0c8dce1b3d0c"
      },
      "source": [
        "embeddings_index = dict()\n",
        "f = open('/content/glove.6B.300d.txt')\n",
        "\n",
        "for line in f:\n",
        "    values = line.split()\n",
        "    word = values[0]\n",
        "    coefs = np.asarray(values[1:], dtype='float32')\n",
        "    embeddings_index[word] = coefs\n",
        "\n",
        "f.close()\n",
        "print('Loaded %s word vectors.' % len(embeddings_index))"
      ],
      "execution_count": 8,
      "outputs": [
        {
          "output_type": "stream",
          "text": [
            "Loaded 400000 word vectors.\n"
          ],
          "name": "stdout"
        }
      ]
    },
    {
      "cell_type": "code",
      "metadata": {
        "id": "Qe0WH8a5cjTl"
      },
      "source": [
        "embedding_matrix = np.zeros((vocab_size+1, 300))\n",
        "for word, i in tokenizer.word_index.items():\n",
        "    embedding_vector = embeddings_index.get(word)\n",
        "    if embedding_vector is not None:\n",
        "        embedding_matrix[i] = embedding_vector"
      ],
      "execution_count": 9,
      "outputs": []
    },
    {
      "cell_type": "code",
      "metadata": {
        "colab": {
          "base_uri": "https://localhost:8080/"
        },
        "id": "ndF0iJfsleCd",
        "outputId": "1bf90491-4c54-405d-c1e7-931184ca8341"
      },
      "source": [
        "labelencoder = LabelEncoder()\n",
        "labelencoder.fit(train_data['subreddit'].values)\n",
        "subreddit_train=labelencoder.transform(train_data['subreddit'].values).reshape(-1,1)\n",
        "subreddit_validation=labelencoder.transform(val_data['subreddit'].values).reshape(-1,1)\n",
        "subreddit_test=labelencoder.transform(test_data['subreddit'].values).reshape(-1, 1)\n",
        "\n",
        "print(subreddit_train.shape)\n",
        "print(subreddit_test.shape)\n",
        "print(subreddit_validation.shape)"
      ],
      "execution_count": 10,
      "outputs": [
        {
          "output_type": "stream",
          "text": [
            "(3405, 1)\n",
            "(1719, 1)\n",
            "(1688, 1)\n"
          ],
          "name": "stdout"
        }
      ]
    },
    {
      "cell_type": "code",
      "metadata": {
        "colab": {
          "base_uri": "https://localhost:8080/"
        },
        "id": "YjgMwFZUmAQk",
        "outputId": "7ed2978f-e534-4454-8257-a8a4540b26f6"
      },
      "source": [
        "labelencoder = LabelEncoder()\n",
        "labelencoder.fit(train_data['is_nsfw'].values)\n",
        "is_nsfw_train=labelencoder.transform(train_data['is_nsfw'].values).reshape(-1,1)\n",
        "is_nsfw_validation=labelencoder.transform(val_data['is_nsfw'].values).reshape(-1,1)\n",
        "is_nsfw_test=labelencoder.transform(test_data['is_nsfw'].values).reshape(-1,1)\n",
        "\n",
        "print(is_nsfw_train.shape)\n",
        "print(is_nsfw_test.shape)\n",
        "print(is_nsfw_validation.shape)"
      ],
      "execution_count": 11,
      "outputs": [
        {
          "output_type": "stream",
          "text": [
            "(3405, 1)\n",
            "(1719, 1)\n",
            "(1688, 1)\n"
          ],
          "name": "stdout"
        }
      ]
    },
    {
      "cell_type": "code",
      "metadata": {
        "colab": {
          "base_uri": "https://localhost:8080/"
        },
        "id": "Aa6NydGgmIS2",
        "outputId": "b729d264-5287-43aa-f0fb-b684bdcb553d"
      },
      "source": [
        "scaler = StandardScaler()\n",
        "scaler=scaler.fit(train_data['created_utc'].values.reshape(-1, 1))\n",
        "\n",
        "created_utc_train=scaler.transform(train_data['created_utc'].values.reshape(-1, 1))\n",
        "created_utc_validation=scaler.transform(val_data['created_utc'].values.reshape(-1, 1))\n",
        "created_utc_test=scaler.transform(test_data['created_utc'].values.reshape(-1, 1))\n",
        "\n",
        "print(created_utc_train.shape)\n",
        "print(created_utc_test.shape)\n",
        "print(created_utc_validation.shape)"
      ],
      "execution_count": 12,
      "outputs": [
        {
          "output_type": "stream",
          "text": [
            "(3405, 1)\n",
            "(1719, 1)\n",
            "(1688, 1)\n"
          ],
          "name": "stdout"
        }
      ]
    },
    {
      "cell_type": "code",
      "metadata": {
        "colab": {
          "base_uri": "https://localhost:8080/"
        },
        "id": "x10IP7a4lda_",
        "outputId": "f074d033-211e-477d-cb5d-f519feeabe25"
      },
      "source": [
        "time_of_day_train=(train_data['time_of_day'].values).reshape(-1,1)\n",
        "time_of_day_validation=(val_data['time_of_day'].values).reshape(-1,1)\n",
        "time_of_day_test=(test_data['time_of_day'].values).reshape(-1,1)\n",
        "\n",
        "print(time_of_day_train.shape)\n",
        "print(time_of_day_validation.shape)\n",
        "print(time_of_day_test.shape)"
      ],
      "execution_count": 13,
      "outputs": [
        {
          "output_type": "stream",
          "text": [
            "(3405, 1)\n",
            "(1688, 1)\n",
            "(1719, 1)\n"
          ],
          "name": "stdout"
        }
      ]
    },
    {
      "cell_type": "code",
      "metadata": {
        "colab": {
          "base_uri": "https://localhost:8080/"
        },
        "id": "QfBJVtPTnSJZ",
        "outputId": "bd52e2fe-e8f0-461c-a871-e5f84d46c842"
      },
      "source": [
        "scaler = StandardScaler()\n",
        "scaler=scaler.fit(train_data['subscribers'].values.reshape(-1, 1))\n",
        "\n",
        "subscribers_train=scaler.transform(train_data['subscribers'].values.reshape(-1, 1))\n",
        "subscribers_validation=scaler.transform(val_data['subscribers'].values.reshape(-1, 1))\n",
        "subscribers_test=scaler.transform(test_data['subscribers'].values.reshape(-1, 1))\n",
        "\n",
        "print(subscribers_train.shape)\n",
        "print(subscribers_validation.shape)\n",
        "print(subscribers_test.shape)"
      ],
      "execution_count": 14,
      "outputs": [
        {
          "output_type": "stream",
          "text": [
            "(3405, 1)\n",
            "(1688, 1)\n",
            "(1719, 1)\n"
          ],
          "name": "stdout"
        }
      ]
    },
    {
      "cell_type": "code",
      "metadata": {
        "colab": {
          "base_uri": "https://localhost:8080/"
        },
        "id": "LUgMvLDuoIRe",
        "outputId": "e214b65e-36ba-4f6b-e872-371530c732dc"
      },
      "source": [
        "\n",
        "#words  embeding layer\n",
        "words =Input(shape=(20,),name=\"words\")\n",
        "embeding=Embedding(vocab_size+1,300,weights=[embedding_matrix],input_length=20,trainable=False)(words)\n",
        "lstm_layer=LSTM(100)(embeding)\n",
        "flatten1 = Flatten(data_format='channels_last')(lstm_layer)\n",
        "\n",
        "#categore_data\n",
        "subreddit_train_layer =Input(shape=(subreddit_train.shape[1],),name=\"subreddit_train_layer\")\n",
        "flatten2= Flatten(data_format='channels_last')(subreddit_train_layer)\n",
        "###\n",
        "is_nsfw_train_layer =Input(shape=(is_nsfw_train.shape[1],),name=\"is_nsfw_train_layer\")\n",
        "flatten3 = Flatten(data_format='channels_last')(is_nsfw_train_layer)\n",
        "####\n",
        "time_of_day_train_layer =Input(shape=(time_of_day_train.shape[1],),name=\"time_of_day_train_layer\")\n",
        "flatten4 = Flatten(data_format='channels_last')(time_of_day_train_layer)\n",
        "\n",
        "#numeric_data\n",
        "created_utc_train_layer =Input(shape=(created_utc_train.shape[1],),name=\"created_utc_train_layer\")\n",
        "created_utc_dence = Dense(units=3,activation='relu',kernel_initializer=tf.keras.initializers.glorot_normal(seed=33))(created_utc_train_layer)\n",
        "\n",
        "#numeric_data\n",
        "subscribers_train_layer =Input(shape=(subscribers_train.shape[1],),name=\"subscribers_train_layer\")\n",
        "subscribers_dence = Dense(units=3,activation='relu',kernel_initializer=tf.keras.initializers.glorot_normal(seed=33))(subscribers_train_layer)\n",
        "\n",
        "#concat layer\n",
        "concatenated = concatenate([subscribers_train_layer,created_utc_dence,flatten4,flatten3,flatten2,flatten1],axis = -1)\n",
        "\n",
        "dense_layer1 = Dense(units=128,activation='relu',kernel_initializer=tf.keras.initializers.glorot_normal(seed=33))(concatenated)\n",
        "dropout1=Dropout(0.3)(dense_layer1)\n",
        "\n",
        "dense_layer2 = Dense(units=64,activation='relu',kernel_initializer=tf.keras.initializers.glorot_normal(seed=33))(dropout1)\n",
        "dropout2=Dropout(0.3)(dense_layer2)\n",
        "\n",
        "dense_layer3 = Dense(units=64,activation='relu',kernel_initializer=tf.keras.initializers.glorot_normal(seed=33))(dropout2)\n",
        "\n",
        "\n",
        "Out = Dense(units=2,activation='softmax',kernel_initializer=tf.keras.initializers.glorot_normal(seed=3),name='Output')(dense_layer3)\n",
        "\n",
        "model = Model(inputs=[words,subreddit_train_layer,is_nsfw_train_layer,time_of_day_train_layer,created_utc_train_layer,subscribers_train_layer],outputs=Out)\n",
        "#model = Model(inputs=[words,subreddit_train_layer,is_nsfw_train_layer,time_of_day_train_layer,created_utc_train_layer,subscribers_train_layer],outputs=Out)\n",
        "model.summary()"
      ],
      "execution_count": 15,
      "outputs": [
        {
          "output_type": "stream",
          "text": [
            "Model: \"model\"\n",
            "__________________________________________________________________________________________________\n",
            "Layer (type)                    Output Shape         Param #     Connected to                     \n",
            "==================================================================================================\n",
            "words (InputLayer)              [(None, 20)]         0                                            \n",
            "__________________________________________________________________________________________________\n",
            "embedding (Embedding)           (None, 20, 300)      2712000     words[0][0]                      \n",
            "__________________________________________________________________________________________________\n",
            "created_utc_train_layer (InputL [(None, 1)]          0                                            \n",
            "__________________________________________________________________________________________________\n",
            "time_of_day_train_layer (InputL [(None, 1)]          0                                            \n",
            "__________________________________________________________________________________________________\n",
            "is_nsfw_train_layer (InputLayer [(None, 1)]          0                                            \n",
            "__________________________________________________________________________________________________\n",
            "subreddit_train_layer (InputLay [(None, 1)]          0                                            \n",
            "__________________________________________________________________________________________________\n",
            "lstm (LSTM)                     (None, 100)          160400      embedding[0][0]                  \n",
            "__________________________________________________________________________________________________\n",
            "subscribers_train_layer (InputL [(None, 1)]          0                                            \n",
            "__________________________________________________________________________________________________\n",
            "dense (Dense)                   (None, 3)            6           created_utc_train_layer[0][0]    \n",
            "__________________________________________________________________________________________________\n",
            "flatten_3 (Flatten)             (None, 1)            0           time_of_day_train_layer[0][0]    \n",
            "__________________________________________________________________________________________________\n",
            "flatten_2 (Flatten)             (None, 1)            0           is_nsfw_train_layer[0][0]        \n",
            "__________________________________________________________________________________________________\n",
            "flatten_1 (Flatten)             (None, 1)            0           subreddit_train_layer[0][0]      \n",
            "__________________________________________________________________________________________________\n",
            "flatten (Flatten)               (None, 100)          0           lstm[0][0]                       \n",
            "__________________________________________________________________________________________________\n",
            "concatenate (Concatenate)       (None, 107)          0           subscribers_train_layer[0][0]    \n",
            "                                                                 dense[0][0]                      \n",
            "                                                                 flatten_3[0][0]                  \n",
            "                                                                 flatten_2[0][0]                  \n",
            "                                                                 flatten_1[0][0]                  \n",
            "                                                                 flatten[0][0]                    \n",
            "__________________________________________________________________________________________________\n",
            "dense_2 (Dense)                 (None, 128)          13824       concatenate[0][0]                \n",
            "__________________________________________________________________________________________________\n",
            "dropout (Dropout)               (None, 128)          0           dense_2[0][0]                    \n",
            "__________________________________________________________________________________________________\n",
            "dense_3 (Dense)                 (None, 64)           8256        dropout[0][0]                    \n",
            "__________________________________________________________________________________________________\n",
            "dropout_1 (Dropout)             (None, 64)           0           dense_3[0][0]                    \n",
            "__________________________________________________________________________________________________\n",
            "dense_4 (Dense)                 (None, 64)           4160        dropout_1[0][0]                  \n",
            "__________________________________________________________________________________________________\n",
            "Output (Dense)                  (None, 2)            130         dense_4[0][0]                    \n",
            "==================================================================================================\n",
            "Total params: 2,898,776\n",
            "Trainable params: 186,776\n",
            "Non-trainable params: 2,712,000\n",
            "__________________________________________________________________________________________________\n"
          ],
          "name": "stdout"
        }
      ]
    },
    {
      "cell_type": "code",
      "metadata": {
        "id": "Ja2TC9to4eEU"
      },
      "source": [
        "def scheduler(epoch,lr):\n",
        "    if((epoch+1)%3==0):\n",
        "        lr=lr*0.95\n",
        "        return lr\n",
        "    else:\n",
        "        return lr"
      ],
      "execution_count": 16,
      "outputs": []
    },
    {
      "cell_type": "code",
      "metadata": {
        "id": "hJY2U-CdRZPz"
      },
      "source": [
        "filepath=\"model_save/weights-{epoch:02d}-{val_accuracy:.4f}.h5\"\n",
        "checkpoint = ModelCheckpoint(filepath=filepath, monitor='val_accuracy',mode='auto')\n",
        "\n",
        "\n",
        "\n",
        "lrschedule = tf.keras.callbacks.LearningRateScheduler(scheduler,verbose=0.1)\n",
        "\n",
        "#stop the training if your validation accuracy is not increased in last 2 epochs.\n",
        "early_stop= EarlyStopping(monitor='val_accuracy', patience=2,verbose=1) \n",
        "\n",
        "#If your validation accuracy at that epoch is less than previous epoch accuracy, you have to decrese the\n",
        "#learning rate by 10%\n",
        "reduce_lr = ReduceLROnPlateau(monitor='val_accuracy', factor=0.9,\n",
        "                              patience=0, min_lr=0.001,verbose=1)\n",
        "\n",
        "model.compile(\n",
        "  loss='categorical_crossentropy',\n",
        "  optimizer=tf.keras.optimizers.Adam(learning_rate=0.00001, beta_1=0.9, beta_2=0.999, epsilon=1e-07, amsgrad=False), \n",
        "  metrics=['accuracy',tf.keras.metrics.Precision(),tf.keras.metrics.Recall(),tfa.metrics.F1Score(num_classes=2)]\n",
        ")\n"
      ],
      "execution_count": 17,
      "outputs": []
    },
    {
      "cell_type": "code",
      "metadata": {
        "colab": {
          "base_uri": "https://localhost:8080/"
        },
        "id": "W735aWvas7Bg",
        "outputId": "7868499d-ea83-483d-d3d4-3e8e6382a6f3"
      },
      "source": [
        "y_train =tf.keras.utils.to_categorical(train_data['dank_level'].values,2)\n",
        "y_test =tf.keras.utils.to_categorical(test_data['dank_level'].values,2)\n",
        "y_test.shape"
      ],
      "execution_count": 21,
      "outputs": [
        {
          "output_type": "execute_result",
          "data": {
            "text/plain": [
              "(1719, 2)"
            ]
          },
          "metadata": {
            "tags": []
          },
          "execution_count": 21
        }
      ]
    },
    {
      "cell_type": "code",
      "metadata": {
        "colab": {
          "base_uri": "https://localhost:8080/"
        },
        "id": "06Eh2-ceruAt",
        "outputId": "28cfba37-67f6-4dd3-d5cb-a8a48e125aef"
      },
      "source": [
        "history=model.fit({\"words\":padded_Xtrain_words,\"subreddit_train_layer\":subreddit_train,\"is_nsfw_train_layer\":is_nsfw_train,\"time_of_day_train_layer\":time_of_day_train,\n",
        "                    \"created_utc_train_layer\":created_utc_train,\"subscribers_train_layer\":subscribers_train},\n",
        "                     y_train,epochs=20,batch_size=30,\n",
        "                  validation_data=({\"words\":padded_Xtest_words,\"subreddit_train_layer\":subreddit_test,\"is_nsfw_train_layer\":is_nsfw_test,\"time_of_day_train_layer\":time_of_day_test,\n",
        "                    \"created_utc_train_layer\":created_utc_test,\"subscribers_train_layer\":subscribers_test},y_test),callbacks=[lrschedule,checkpoint,reduce_lr])\n"
      ],
      "execution_count": 22,
      "outputs": [
        {
          "output_type": "stream",
          "text": [
            "Epoch 1/20\n",
            "\n",
            "Epoch 00001: LearningRateScheduler reducing learning rate to 9.999999747378752e-06.\n",
            "114/114 [==============================] - 4s 33ms/step - loss: 0.7058 - accuracy: 0.4996 - precision: 0.4996 - recall: 0.4996 - f1_score: 0.4580 - val_loss: 0.6930 - val_accuracy: 0.5183 - val_precision: 0.5183 - val_recall: 0.5183 - val_f1_score: 0.3839\n",
            "Epoch 2/20\n",
            "\n",
            "Epoch 00002: LearningRateScheduler reducing learning rate to 9.999999747378752e-06.\n",
            "114/114 [==============================] - 3s 26ms/step - loss: 0.7045 - accuracy: 0.5022 - precision: 0.5022 - recall: 0.5022 - f1_score: 0.4708 - val_loss: 0.6923 - val_accuracy: 0.5265 - val_precision: 0.5265 - val_recall: 0.5265 - val_f1_score: 0.4133\n",
            "Epoch 3/20\n",
            "\n",
            "Epoch 00003: LearningRateScheduler reducing learning rate to 9.499999760009813e-06.\n",
            "114/114 [==============================] - 3s 27ms/step - loss: 0.7013 - accuracy: 0.5063 - precision: 0.5063 - recall: 0.5063 - f1_score: 0.4829 - val_loss: 0.6918 - val_accuracy: 0.5393 - val_precision: 0.5393 - val_recall: 0.5393 - val_f1_score: 0.4486\n",
            "Epoch 4/20\n",
            "\n",
            "Epoch 00004: LearningRateScheduler reducing learning rate to 9.499999578110874e-06.\n",
            "114/114 [==============================] - 3s 26ms/step - loss: 0.7001 - accuracy: 0.4996 - precision: 0.4996 - recall: 0.4996 - f1_score: 0.4812 - val_loss: 0.6915 - val_accuracy: 0.5398 - val_precision: 0.5398 - val_recall: 0.5398 - val_f1_score: 0.4527\n",
            "Epoch 5/20\n",
            "\n",
            "Epoch 00005: LearningRateScheduler reducing learning rate to 9.499999578110874e-06.\n",
            "114/114 [==============================] - 3s 26ms/step - loss: 0.6979 - accuracy: 0.5110 - precision: 0.5110 - recall: 0.5110 - f1_score: 0.5002 - val_loss: 0.6914 - val_accuracy: 0.5468 - val_precision: 0.5468 - val_recall: 0.5468 - val_f1_score: 0.4760\n",
            "Epoch 6/20\n",
            "\n",
            "Epoch 00006: LearningRateScheduler reducing learning rate to 9.02499959920533e-06.\n",
            "114/114 [==============================] - 3s 26ms/step - loss: 0.6968 - accuracy: 0.5034 - precision: 0.5034 - recall: 0.5034 - f1_score: 0.4930 - val_loss: 0.6911 - val_accuracy: 0.5439 - val_precision: 0.5439 - val_recall: 0.5439 - val_f1_score: 0.4750\n",
            "Epoch 7/20\n",
            "\n",
            "Epoch 00007: LearningRateScheduler reducing learning rate to 9.02499959920533e-06.\n",
            "114/114 [==============================] - 3s 26ms/step - loss: 0.6989 - accuracy: 0.5013 - precision: 0.5013 - recall: 0.5013 - f1_score: 0.4937 - val_loss: 0.6909 - val_accuracy: 0.5474 - val_precision: 0.5474 - val_recall: 0.5474 - val_f1_score: 0.4769\n",
            "Epoch 8/20\n",
            "\n",
            "Epoch 00008: LearningRateScheduler reducing learning rate to 9.02499959920533e-06.\n",
            "114/114 [==============================] - 3s 27ms/step - loss: 0.6990 - accuracy: 0.5010 - precision: 0.5010 - recall: 0.5010 - f1_score: 0.4932 - val_loss: 0.6907 - val_accuracy: 0.5521 - val_precision: 0.5521 - val_recall: 0.5521 - val_f1_score: 0.5214\n",
            "Epoch 9/20\n",
            "\n",
            "Epoch 00009: LearningRateScheduler reducing learning rate to 8.573749619245064e-06.\n",
            "114/114 [==============================] - 3s 26ms/step - loss: 0.6961 - accuracy: 0.5075 - precision: 0.5075 - recall: 0.5075 - f1_score: 0.4987 - val_loss: 0.6906 - val_accuracy: 0.5590 - val_precision: 0.5590 - val_recall: 0.5590 - val_f1_score: 0.5403\n",
            "Epoch 10/20\n",
            "\n",
            "Epoch 00010: LearningRateScheduler reducing learning rate to 8.573749255447183e-06.\n",
            "114/114 [==============================] - 3s 28ms/step - loss: 0.6993 - accuracy: 0.5075 - precision: 0.5075 - recall: 0.5075 - f1_score: 0.5015 - val_loss: 0.6905 - val_accuracy: 0.5457 - val_precision: 0.5457 - val_recall: 0.5457 - val_f1_score: 0.5340\n",
            "Epoch 11/20\n",
            "\n",
            "Epoch 00011: LearningRateScheduler reducing learning rate to 8.573749255447183e-06.\n",
            "114/114 [==============================] - 3s 27ms/step - loss: 0.6994 - accuracy: 0.4990 - precision: 0.4990 - recall: 0.4990 - f1_score: 0.4958 - val_loss: 0.6905 - val_accuracy: 0.5480 - val_precision: 0.5480 - val_recall: 0.5480 - val_f1_score: 0.5398\n",
            "Epoch 12/20\n",
            "\n",
            "Epoch 00012: LearningRateScheduler reducing learning rate to 8.145061792674824e-06.\n",
            "114/114 [==============================] - 3s 26ms/step - loss: 0.6952 - accuracy: 0.5095 - precision: 0.5095 - recall: 0.5095 - f1_score: 0.5067 - val_loss: 0.6903 - val_accuracy: 0.5445 - val_precision: 0.5445 - val_recall: 0.5445 - val_f1_score: 0.5414\n",
            "Epoch 13/20\n",
            "\n",
            "Epoch 00013: LearningRateScheduler reducing learning rate to 8.145061656250618e-06.\n",
            "114/114 [==============================] - 3s 27ms/step - loss: 0.6958 - accuracy: 0.5072 - precision: 0.5072 - recall: 0.5072 - f1_score: 0.5043 - val_loss: 0.6903 - val_accuracy: 0.5439 - val_precision: 0.5439 - val_recall: 0.5439 - val_f1_score: 0.5408\n",
            "Epoch 14/20\n",
            "\n",
            "Epoch 00014: LearningRateScheduler reducing learning rate to 8.145061656250618e-06.\n",
            "114/114 [==============================] - 3s 26ms/step - loss: 0.6960 - accuracy: 0.5189 - precision: 0.5189 - recall: 0.5189 - f1_score: 0.5154 - val_loss: 0.6901 - val_accuracy: 0.5445 - val_precision: 0.5445 - val_recall: 0.5445 - val_f1_score: 0.5415\n",
            "Epoch 15/20\n",
            "\n",
            "Epoch 00015: LearningRateScheduler reducing learning rate to 7.737808573438087e-06.\n",
            "114/114 [==============================] - 3s 26ms/step - loss: 0.6954 - accuracy: 0.5242 - precision: 0.5242 - recall: 0.5242 - f1_score: 0.5207 - val_loss: 0.6901 - val_accuracy: 0.5404 - val_precision: 0.5404 - val_recall: 0.5404 - val_f1_score: 0.5390\n",
            "Epoch 16/20\n",
            "\n",
            "Epoch 00016: LearningRateScheduler reducing learning rate to 7.737808118690737e-06.\n",
            "114/114 [==============================] - 3s 26ms/step - loss: 0.6948 - accuracy: 0.5192 - precision: 0.5192 - recall: 0.5192 - f1_score: 0.5176 - val_loss: 0.6900 - val_accuracy: 0.5398 - val_precision: 0.5398 - val_recall: 0.5398 - val_f1_score: 0.5385\n",
            "Epoch 17/20\n",
            "\n",
            "Epoch 00017: LearningRateScheduler reducing learning rate to 7.737808118690737e-06.\n",
            "114/114 [==============================] - 3s 27ms/step - loss: 0.6948 - accuracy: 0.5257 - precision: 0.5257 - recall: 0.5257 - f1_score: 0.5240 - val_loss: 0.6899 - val_accuracy: 0.5381 - val_precision: 0.5381 - val_recall: 0.5381 - val_f1_score: 0.5366\n",
            "Epoch 18/20\n",
            "\n",
            "Epoch 00018: LearningRateScheduler reducing learning rate to 7.3509177127562e-06.\n",
            "114/114 [==============================] - 3s 26ms/step - loss: 0.6927 - accuracy: 0.5101 - precision: 0.5101 - recall: 0.5101 - f1_score: 0.5087 - val_loss: 0.6899 - val_accuracy: 0.5393 - val_precision: 0.5393 - val_recall: 0.5393 - val_f1_score: 0.5378\n",
            "Epoch 19/20\n",
            "\n",
            "Epoch 00019: LearningRateScheduler reducing learning rate to 7.3509177127562e-06.\n",
            "114/114 [==============================] - 3s 27ms/step - loss: 0.6958 - accuracy: 0.5148 - precision: 0.5148 - recall: 0.5148 - f1_score: 0.5130 - val_loss: 0.6898 - val_accuracy: 0.5398 - val_precision: 0.5398 - val_recall: 0.5398 - val_f1_score: 0.5384\n",
            "Epoch 20/20\n",
            "\n",
            "Epoch 00020: LearningRateScheduler reducing learning rate to 7.3509177127562e-06.\n",
            "114/114 [==============================] - 3s 27ms/step - loss: 0.6877 - accuracy: 0.5392 - precision: 0.5392 - recall: 0.5392 - f1_score: 0.5374 - val_loss: 0.6897 - val_accuracy: 0.5393 - val_precision: 0.5393 - val_recall: 0.5393 - val_f1_score: 0.5377\n"
          ],
          "name": "stdout"
        }
      ]
    },
    {
      "cell_type": "code",
      "metadata": {
        "colab": {
          "base_uri": "https://localhost:8080/"
        },
        "id": "MIadTmvgGecn",
        "outputId": "dda7f765-62e8-4b5c-f375-0f67132a7aaf"
      },
      "source": [
        "model_checkpoint = Model(inputs=[words,subreddit_train_layer,is_nsfw_train_layer,time_of_day_train_layer,created_utc_train_layer,subscribers_train_layer],outputs=Out)\n",
        "model_checkpoint.load_weights('/content/model_save/weights-09-0.5590.h5')\n",
        "model_checkpoint.save('bestmodel_lstm.h5')\n",
        "new_model = tf.keras.models.load_model('bestmodel_lstm.h5')"
      ],
      "execution_count": 24,
      "outputs": [
        {
          "output_type": "stream",
          "text": [
            "WARNING:tensorflow:No training configuration found in the save file, so the model was *not* compiled. Compile it manually.\n"
          ],
          "name": "stdout"
        }
      ]
    },
    {
      "cell_type": "code",
      "metadata": {
        "colab": {
          "base_uri": "https://localhost:8080/"
        },
        "id": "YS-zbNSH6A5k",
        "outputId": "b0153a93-e4e9-4d79-e7e6-d9c2f383f11a"
      },
      "source": [
        "test_prediction=new_model.predict([padded_Xtest_words,subreddit_test,is_nsfw_test,time_of_day_test,\n",
        "                    created_utc_test,subscribers_test])\n",
        "test_prediction=np.argmax(test_prediction,axis=-1)\n",
        "print(test_prediction.shape)\n",
        "y_test =tf.keras.utils.to_categorical(test_data['dank_level'].values,2)\n",
        "y_test=np.argmax(y_test,axis=-1)\n",
        "y_test.shape"
      ],
      "execution_count": 28,
      "outputs": [
        {
          "output_type": "stream",
          "text": [
            "(1719,)\n"
          ],
          "name": "stdout"
        },
        {
          "output_type": "execute_result",
          "data": {
            "text/plain": [
              "(1719,)"
            ]
          },
          "metadata": {
            "tags": []
          },
          "execution_count": 28
        }
      ]
    },
    {
      "cell_type": "code",
      "metadata": {
        "colab": {
          "base_uri": "https://localhost:8080/",
          "height": 363
        },
        "id": "MJwNyE776Ijz",
        "outputId": "a8b06590-eda8-49c9-ae3f-5c3907804b4e"
      },
      "source": [
        "accuracy=accuracy_score(y_test,test_prediction)\n",
        "print(\"Test accuracy_score\",accuracy)\n",
        "f1_test_score=f1_score(y_test,test_prediction)\n",
        "print(\"Test F1_score\",f1_test_score)\n",
        "print(\"Test confusion matrix\")\n",
        "cnf_matrix2=confusion_matrix(y_test,test_prediction)\n",
        "p = sns.heatmap(pd.DataFrame(cnf_matrix2), annot=True, cmap=\"YlGnBu\" ,fmt='g')\n",
        "plt.title('Test confusion matrix', y=1.1)\n",
        "plt.ylabel('Actual label')\n",
        "plt.xlabel('Predicted label')"
      ],
      "execution_count": 29,
      "outputs": [
        {
          "output_type": "stream",
          "text": [
            "Test accuracy_score 0.5590459569517161\n",
            "Test F1_score 0.44752186588921283\n",
            "Test confusion matrix\n"
          ],
          "name": "stdout"
        },
        {
          "output_type": "execute_result",
          "data": {
            "text/plain": [
              "Text(0.5, 15.0, 'Predicted label')"
            ]
          },
          "metadata": {
            "tags": []
          },
          "execution_count": 29
        },
        {
          "output_type": "display_data",
          "data": {
            "image/png": "[encoded data removed]",
            "text/plain": [
              "<Figure size 432x288 with 2 Axes>"
            ]
          },
          "metadata": {
            "tags": [],
            "needs_background": "light"
          }
        }
      ]
    },
    {
      "cell_type": "code",
      "metadata": {
        "colab": {
          "base_uri": "https://localhost:8080/",
          "height": 450
        },
        "id": "TuK_dkH3G6pO",
        "outputId": "06402fff-002a-4b8e-d3f8-2b33c7a5e6c4"
      },
      "source": [
        "file = '/content/model_1.png'\n",
        "tf.keras.utils.plot_model(model,to_file=file, show_shapes=True)"
      ],
      "execution_count": 27,
      "outputs": [
        {
          "output_type": "execute_result",
          "data": {
            "image/png": "[encoded data removed]",
            "text/plain": [
              "<IPython.core.display.Image object>"
            ]
          },
          "metadata": {
            "tags": []
          },
          "execution_count": 27
        }
      ]
    }
  ]
}