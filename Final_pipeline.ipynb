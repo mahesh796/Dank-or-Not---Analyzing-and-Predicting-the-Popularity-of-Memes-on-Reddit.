{
 "cells": [
  {
   "cell_type": "code",
   "execution_count": 1,
   "metadata": {
    "id": "PCA_Mvw0FXSS"
   },
   "outputs": [],
   "source": [
    "#!unzip dank_data-master.zip"
   ]
  },
  {
   "cell_type": "code",
   "execution_count": 2,
   "metadata": {
    "id": "syggWtlVFcAe"
   },
   "outputs": [],
   "source": [
    "import pandas as pd\n",
    "from tensorflow.keras.preprocessing.image import ImageDataGenerator\n",
    "import tensorflow as tf\n",
    "import numpy as np\n",
    "from tensorflow.keras.applications.vgg16 import preprocess_input\n",
    "from sklearn.metrics import confusion_matrix,accuracy_score,f1_score\n",
    "import matplotlib.pyplot as plt\n",
    "import logging\n",
    "import numpy as np\n",
    "import seaborn as sns\n",
    "from tensorflow.keras.preprocessing import image"
   ]
  },
  {
   "cell_type": "code",
   "execution_count": 3,
   "metadata": {
    "id": "YCKmxCqu9KPE"
   },
   "outputs": [],
   "source": [
    "test_data = pd.read_csv('test_data.csv')"
   ]
  },
  {
   "cell_type": "code",
   "execution_count": 4,
   "metadata": {
    "colab": {
     "base_uri": "https://localhost:8080/"
    },
    "id": "uFKP75HJFjYH",
    "outputId": "78e3db1a-190e-47e6-9b02-ceecc5771f99"
   },
   "outputs": [
    {
     "name": "stdout",
     "output_type": "stream",
     "text": [
      "Found 1719 validated image filenames.\n"
     ]
    }
   ],
   "source": [
    "logger = logging.getLogger()\n",
    "logger.disabled = False\n",
    "predict_datagen = ImageDataGenerator(preprocessing_function=preprocess_input)\n",
    "test_prediction_generator = predict_datagen.flow_from_dataframe(\n",
    "              dataframe=test_data,\n",
    "              directory=\"/content/dank_data-master/data/test/\",\n",
    "              x_col=\"id\",\n",
    "              batch_size=30,\n",
    "              seed=42,\n",
    "              shuffle=False,\n",
    "              class_mode=None,\n",
    "              target_size= (512,512))"
   ]
  },
  {
   "cell_type": "code",
   "execution_count": 5,
   "metadata": {
    "colab": {
     "base_uri": "https://localhost:8080/"
    },
    "id": "2mMtExjtbon3",
    "outputId": "662aca25-5780-4d8c-f610-250ccd62f433"
   },
   "outputs": [
    {
     "name": "stderr",
     "output_type": "stream",
     "text": [
      "/usr/local/lib/python3.7/dist-packages/tensorflow/python/keras/engine/training.py:1905: UserWarning: `Model.predict_generator` is deprecated and will be removed in a future version. Please use `Model.predict`, which supports generators.\n",
      "  warnings.warn('`Model.predict_generator` is deprecated and '\n"
     ]
    }
   ],
   "source": [
    "def final_1(test_prediction_generator,test_data):\n",
    "    model = tf.keras.models.load_model('/content/bestmodel_512.h5',compile=False)\n",
    "    prediction=model.predict_generator(test_prediction_generator,steps=len(test_prediction_generator),workers=12)\n",
    "    prediction=((prediction > 0.5)+0).ravel()     \n",
    "    return prediction\n",
    "test_prediction=final_1(test_prediction_generator,test_data)"
   ]
  },
  {
   "cell_type": "code",
   "execution_count": 6,
   "metadata": {
    "colab": {
     "base_uri": "https://localhost:8080/",
     "height": 363
    },
    "id": "wvgBu40BcXYZ",
    "outputId": "dc3b5cc3-7b73-4f60-e7f5-0e0a35780325"
   },
   "outputs": [
    {
     "name": "stdout",
     "output_type": "stream",
     "text": [
      "Test accuracy_score 0.6009307737056429\n",
      "Test F1_score 0.5674653215636822\n",
      "Test confusion matrix\n"
     ]
    },
    {
     "data": {
      "text/plain": [
       "Text(0.5, 15.0, 'Predicted label')"
      ]
     },
     "execution_count": 6,
     "metadata": {
      "tags": []
     },
     "output_type": "execute_result"
    },
    {
     "data": {
      "image/png": "[encoded data removed]",
      "text/plain": [
       "<Figure size 432x288 with 2 Axes>"
      ]
     },
     "metadata": {
      "needs_background": "light",
      "tags": []
     },
     "output_type": "display_data"
    }
   ],
   "source": [
    "y_test=test_data['dank_level'].values\n",
    "accuracy=accuracy_score(y_test,test_prediction)\n",
    "print(\"Test accuracy_score\",accuracy)\n",
    "f1_test_score=f1_score(y_test,test_prediction)\n",
    "print(\"Test F1_score\",f1_test_score)\n",
    "print(\"Test confusion matrix\")\n",
    "cnf_matrix2=confusion_matrix(y_test,test_prediction)\n",
    "p = sns.heatmap(pd.DataFrame(cnf_matrix2), annot=True, cmap=\"YlGnBu\" ,fmt='g')\n",
    "plt.title('Test confusion matrix', y=1.1)\n",
    "plt.ylabel('Actual label')\n",
    "plt.xlabel('Predicted label')"
   ]
  },
  {
   "cell_type": "code",
   "execution_count": 7,
   "metadata": {
    "colab": {
     "base_uri": "https://localhost:8080/"
    },
    "id": "AubskMzHG6Ej",
    "outputId": "fc820189-585d-4632-8109-f2243a2ea624"
   },
   "outputs": [
    {
     "name": "stdout",
     "output_type": "stream",
     "text": [
      "The image classified is Not Dank\n"
     ]
    }
   ],
   "source": [
    "def final_2(image_id):\n",
    "    model = tf.keras.models.load_model('/content/bestmodel_512.h5',compile=False)\n",
    "    test_image = image.load_img('/content/dank_data-master/data/test/'+image_id,target_size=(512,512))\n",
    "    test_image = image.img_to_array(test_image)\n",
    "    test_image=test_image/255\n",
    "    test_image = np.expand_dims(test_image, axis = 0)\n",
    "    prediction = model.predict(test_image)  \n",
    "    if prediction[0]<=0.5:\n",
    "        return print(\"The image classified is Not Dank\")\n",
    "    else:\n",
    "        return print(\"The image classified is Dank\")\n",
    "prediction=final_2(image_id='fki2jc.jpg')\n",
    "prediction"
   ]
  },
  {
   "cell_type": "code",
   "execution_count": 3,
   "metadata": {
    "colab": {
     "base_uri": "https://localhost:8080/",
     "height": 345
    },
    "id": "4JUBGoWVS_Fl",
    "outputId": "eb2286e7-71a1-492c-9229-56c89a5d946c"
   },
   "outputs": [
    {
     "name": "stdout",
     "output_type": "stream",
     "text": [
      "Performance Chart\n"
     ]
    },
    {
     "data": {
      "text/html": [
       "<div>\n",
       "<style scoped>\n",
       "    .dataframe tbody tr th:only-of-type {\n",
       "        vertical-align: middle;\n",
       "    }\n",
       "\n",
       "    .dataframe tbody tr th {\n",
       "        vertical-align: top;\n",
       "    }\n",
       "\n",
       "    .dataframe thead th {\n",
       "        text-align: right;\n",
       "    }\n",
       "</style>\n",
       "<table border=\"1\" class=\"dataframe\">\n",
       "  <thead>\n",
       "    <tr style=\"text-align: right;\">\n",
       "      <th></th>\n",
       "      <th>Model</th>\n",
       "      <th>Accuracy</th>\n",
       "      <th>F1score</th>\n",
       "      <th>Cnn_Model_size</th>\n",
       "      <th>lstm_Model_size</th>\n",
       "    </tr>\n",
       "  </thead>\n",
       "  <tbody>\n",
       "    <tr>\n",
       "      <th>0</th>\n",
       "      <td>simple convultion model</td>\n",
       "      <td>0.5142</td>\n",
       "      <td>0.5394</td>\n",
       "      <td>1.64 MB</td>\n",
       "      <td>-</td>\n",
       "    </tr>\n",
       "    <tr>\n",
       "      <th>1</th>\n",
       "      <td>lstm model</td>\n",
       "      <td>0.5590</td>\n",
       "      <td>0.4475</td>\n",
       "      <td>-</td>\n",
       "      <td>11.1 MB</td>\n",
       "    </tr>\n",
       "    <tr>\n",
       "      <th>2</th>\n",
       "      <td>simple conv with lstm mode</td>\n",
       "      <td>0.5479</td>\n",
       "      <td>0.4373</td>\n",
       "      <td>1.64 MB</td>\n",
       "      <td>14.1 MB</td>\n",
       "    </tr>\n",
       "    <tr>\n",
       "      <th>3</th>\n",
       "      <td>VGG16 with lstm</td>\n",
       "      <td>0.5799</td>\n",
       "      <td>0.5441</td>\n",
       "      <td>313 MB</td>\n",
       "      <td>26.8 MB</td>\n",
       "    </tr>\n",
       "    <tr>\n",
       "      <th>4</th>\n",
       "      <td>VGG19 with lstm</td>\n",
       "      <td>0.5072</td>\n",
       "      <td>0.5468</td>\n",
       "      <td>93.1 MB</td>\n",
       "      <td>25.6 MB</td>\n",
       "    </tr>\n",
       "    <tr>\n",
       "      <th>5</th>\n",
       "      <td>Resnet with lstm</td>\n",
       "      <td>0.5584</td>\n",
       "      <td>0.5435</td>\n",
       "      <td>191 MB</td>\n",
       "      <td>25.4 MB</td>\n",
       "    </tr>\n",
       "    <tr>\n",
       "      <th>6</th>\n",
       "      <td>VGG16</td>\n",
       "      <td>0.6009</td>\n",
       "      <td>0.5674</td>\n",
       "      <td>184 MB</td>\n",
       "      <td>-</td>\n",
       "    </tr>\n",
       "    <tr>\n",
       "      <th>7</th>\n",
       "      <td>VGG19</td>\n",
       "      <td>0.5503</td>\n",
       "      <td>0.5683</td>\n",
       "      <td>93.1 MB</td>\n",
       "      <td>-</td>\n",
       "    </tr>\n",
       "    <tr>\n",
       "      <th>8</th>\n",
       "      <td>ResNet50</td>\n",
       "      <td>0.5078</td>\n",
       "      <td>0.4994</td>\n",
       "      <td>191 MB</td>\n",
       "      <td>-</td>\n",
       "    </tr>\n",
       "  </tbody>\n",
       "</table>\n",
       "</div>"
      ],
      "text/plain": [
       "                        Model  Accuracy  F1score Cnn_Model_size  \\\n",
       "0     simple convultion model    0.5142   0.5394        1.64 MB   \n",
       "1                  lstm model    0.5590   0.4475              -   \n",
       "2  simple conv with lstm mode    0.5479   0.4373        1.64 MB   \n",
       "3             VGG16 with lstm    0.5799   0.5441         313 MB   \n",
       "4             VGG19 with lstm    0.5072   0.5468        93.1 MB   \n",
       "5            Resnet with lstm    0.5584   0.5435         191 MB   \n",
       "6                       VGG16    0.6009   0.5674         184 MB   \n",
       "7                       VGG19    0.5503   0.5683        93.1 MB   \n",
       "8                    ResNet50    0.5078   0.4994         191 MB   \n",
       "\n",
       "  lstm_Model_size  \n",
       "0               -  \n",
       "1         11.1 MB  \n",
       "2         14.1 MB  \n",
       "3         26.8 MB  \n",
       "4         25.6 MB  \n",
       "5         25.4 MB  \n",
       "6               -  \n",
       "7               -  \n",
       "8               -  "
      ]
     },
     "execution_count": 3,
     "metadata": {},
     "output_type": "execute_result"
    }
   ],
   "source": [
    "print('Performance Chart')\n",
    "performance = {'Model': ['simple convultion model','lstm model','simple conv with lstm mode','VGG16 with lstm','VGG19 with lstm','Resnet with lstm','VGG16','VGG19','ResNet50'],\n",
    "             'Accuracy': [0.5142,0.5590,0.5479,0.5799,0.5072,0.5584,0.6009,0.5503,0.5078],\n",
    "             'F1score': [0.5394,0.4475,0.4373,0.5441,0.5468,0.5435,0.5674,0.5683,0.4994],\n",
    "             'Cnn_Model_size':['1.64 MB','-','1.64 MB','313 MB','93.1 MB','191 MB','184 MB','93.1 MB','191 MB'],\n",
    "             'lstm_Model_size':['-','11.1 MB','14.1 MB','26.8 MB','25.6 MB','25.4 MB','-','-','-']           \n",
    "            } \n",
    "df = pd.DataFrame(performance, columns= ['Model','Accuracy','F1score','Cnn_Model_size','lstm_Model_size'])\n",
    "df"
   ]
  },
  {
   "cell_type": "code",
   "execution_count": null,
   "metadata": {},
   "outputs": [],
   "source": []
  }
 ],
 "metadata": {
  "accelerator": "GPU",
  "colab": {
   "collapsed_sections": [],
   "name": "Final_pipeline.ipynb",
   "provenance": []
  },
  "kernelspec": {
   "display_name": "Python 3",
   "language": "python",
   "name": "python3"
  },
  "language_info": {
   "codemirror_mode": {
    "name": "ipython",
    "version": 3
   },
   "file_extension": ".py",
   "mimetype": "text/x-python",
   "name": "python",
   "nbconvert_exporter": "python",
   "pygments_lexer": "ipython3",
   "version": "3.7.1"
  }
 },
 "nbformat": 4,
 "nbformat_minor": 1
}
