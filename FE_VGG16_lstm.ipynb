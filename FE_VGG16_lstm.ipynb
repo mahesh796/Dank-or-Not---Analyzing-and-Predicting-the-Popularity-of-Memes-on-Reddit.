{
  "nbformat": 4,
  "nbformat_minor": 0,
  "metadata": {
    "colab": {
      "name": "FE_VGG16_lstm.ipynb",
      "provenance": [],
      "collapsed_sections": []
    },
    "kernelspec": {
      "display_name": "Python 3",
      "language": "python",
      "name": "python3"
    },
    "language_info": {
      "codemirror_mode": {
        "name": "ipython",
        "version": 3
      },
      "file_extension": ".py",
      "mimetype": "text/x-python",
      "name": "python",
      "nbconvert_exporter": "python",
      "pygments_lexer": "ipython3",
      "version": "3.7.1"
    },
    "accelerator": "GPU"
  },
  "cells": [
    {
      "cell_type": "code",
      "metadata": {
        "id": "PCA_Mvw0FXSS"
      },
      "source": [
        "#!unzip dank_data-master.zip\n",
        "#!pip install tensorflow_addons\n",
        "#!wget http://nlp.stanford.edu/data/glove.6B.zip\n",
        "#!unzip glove*.zip"
      ],
      "execution_count": 1,
      "outputs": []
    },
    {
      "cell_type": "code",
      "metadata": {
        "id": "syggWtlVFcAe"
      },
      "source": [
        "import glob\n",
        "import pandas as pd\n",
        "import warnings\n",
        "warnings.filterwarnings(\"ignore\")\n",
        "from tensorflow.keras.preprocessing.image import ImageDataGenerator\n",
        "from tensorflow.keras.layers import Dense,Input,Conv2D,MaxPool2D,Activation,Dropout,Flatten,Embedding,LSTM,concatenate\n",
        "from tensorflow.keras.models import Model\n",
        "import tensorflow as tf\n",
        "import logging\n",
        "import numpy as np\n",
        "import tensorflow_addons as tfa\n",
        "from tensorflow.keras.preprocessing.text import Tokenizer\n",
        "from sklearn.preprocessing import LabelEncoder\n",
        "from sklearn.preprocessing import StandardScaler\n",
        "from tensorflow.keras.applications.vgg16 import VGG16\n",
        "from tensorflow.keras.applications.vgg16 import preprocess_input\n",
        "from tensorflow.keras.callbacks import LearningRateScheduler\n",
        "from tensorflow.keras.callbacks import ReduceLROnPlateau\n",
        "from tensorflow.keras.callbacks import ModelCheckpoint\n",
        "from tensorflow.keras.callbacks import EarlyStopping\n",
        "from sklearn.metrics import confusion_matrix,accuracy_score,f1_score\n",
        "import seaborn as sns\n",
        "import matplotlib.pyplot as plt"
      ],
      "execution_count": 2,
      "outputs": []
    },
    {
      "cell_type": "code",
      "metadata": {
        "id": "ZHmexA12FYHb"
      },
      "source": [
        "training='/content/dank_data-master/data/training/*'\n",
        "test='/content/dank_data-master/data/test/*'\n",
        "validation='/content/dank_data-master/data/validation/*'"
      ],
      "execution_count": 3,
      "outputs": []
    },
    {
      "cell_type": "code",
      "metadata": {
        "id": "qhZByVWRFYJ7"
      },
      "source": [
        "training = glob.glob(training)\n",
        "test = glob.glob(test)\n",
        "validation = glob.glob(validation)"
      ],
      "execution_count": 4,
      "outputs": []
    },
    {
      "cell_type": "code",
      "metadata": {
        "id": "oY7Ch0DDFYNS"
      },
      "source": [
        "final_dank=pd.read_csv('/content/dank_data-master/data/final_dank.csv')\n",
        "train_labels = [fn.split('/')[-1].split('.')[0].strip() for fn in training]\n",
        "validation_labels = [fn.split('/')[-1].split('.')[0].strip() for fn in validation]\n",
        "test_labels = [fn.split('/')[-1].split('.')[0].strip() for fn in test]"
      ],
      "execution_count": 5,
      "outputs": []
    },
    {
      "cell_type": "code",
      "metadata": {
        "colab": {
          "base_uri": "https://localhost:8080/",
          "height": 547
        },
        "id": "74jyXu1WFjVz",
        "outputId": "5b86b24c-5d00-4b94-efc1-0f9d22b00117"
      },
      "source": [
        "for labels in train_labels:\n",
        "    if labels==train_labels[0]:\n",
        "        train_data =final_dank[final_dank['id']==labels]\n",
        "    else :\n",
        "        train_data =train_data.append(final_dank[final_dank['id']==labels],sort=False)\n",
        "for labels in validation_labels:\n",
        "    if labels==validation_labels[0]:\n",
        "        val_data =final_dank[final_dank['id']==labels]\n",
        "    else :\n",
        "        val_data =val_data.append(final_dank[final_dank['id']==labels],sort=False)\n",
        "for labels in test_labels:\n",
        "    if labels==test_labels[0]:\n",
        "        test_data =final_dank[final_dank['id']==labels]\n",
        "    else :\n",
        "        test_data =test_data.append(final_dank[final_dank['id']==labels],sort=False)\n",
        "print(train_data.shape)\n",
        "print(test_data.shape)\n",
        "print(val_data.shape)\n",
        "train_data.head(5)"
      ],
      "execution_count": 6,
      "outputs": [
        {
          "output_type": "stream",
          "text": [
            "(3405, 68)\n",
            "(1719, 68)\n",
            "(1688, 68)\n"
          ],
          "name": "stdout"
        },
        {
          "output_type": "execute_result",
          "data": {
            "text/html": [
              "<div>\n",
              "<style scoped>\n",
              "    .dataframe tbody tr th:only-of-type {\n",
              "        vertical-align: middle;\n",
              "    }\n",
              "\n",
              "    .dataframe tbody tr th {\n",
              "        vertical-align: top;\n",
              "    }\n",
              "\n",
              "    .dataframe thead th {\n",
              "        text-align: right;\n",
              "    }\n",
              "</style>\n",
              "<table border=\"1\" class=\"dataframe\">\n",
              "  <thead>\n",
              "    <tr style=\"text-align: right;\">\n",
              "      <th></th>\n",
              "      <th>Unnamed: 0</th>\n",
              "      <th>level_0</th>\n",
              "      <th>index</th>\n",
              "      <th>author</th>\n",
              "      <th>awards</th>\n",
              "      <th>processed_words</th>\n",
              "      <th>created_utc</th>\n",
              "      <th>downs</th>\n",
              "      <th>id</th>\n",
              "      <th>is_nsfw</th>\n",
              "      <th>media</th>\n",
              "      <th>subreddit</th>\n",
              "      <th>subscribers</th>\n",
              "      <th>thumbnail.height</th>\n",
              "      <th>thumbnail.thumbnail</th>\n",
              "      <th>thumbnail.width</th>\n",
              "      <th>title</th>\n",
              "      <th>ups</th>\n",
              "      <th>url</th>\n",
              "      <th>datetime_temp</th>\n",
              "      <th>time_of_day</th>\n",
              "      <th>ups_normed</th>\n",
              "      <th>dank_level</th>\n",
              "      <th>TextLength</th>\n",
              "      <th>Sentiment</th>\n",
              "      <th>word_count</th>\n",
              "      <th>avg_blueRGB</th>\n",
              "      <th>avg_greenRGB</th>\n",
              "      <th>avg_hue</th>\n",
              "      <th>avg_redRGB</th>\n",
              "      <th>avg_saturation</th>\n",
              "      <th>avg_value</th>\n",
              "      <th>off-white</th>\n",
              "      <th>aqua</th>\n",
              "      <th>mustard</th>\n",
              "      <th>pure-black</th>\n",
              "      <th>purple</th>\n",
              "      <th>red-brown</th>\n",
              "      <th>dust-brown</th>\n",
              "      <th>gray-blue</th>\n",
              "      <th>orange</th>\n",
              "      <th>salmon</th>\n",
              "      <th>dark-green</th>\n",
              "      <th>pink</th>\n",
              "      <th>pure-white</th>\n",
              "      <th>yellow-green</th>\n",
              "      <th>bright-yellow</th>\n",
              "      <th>teal</th>\n",
              "      <th>cyan</th>\n",
              "      <th>gray</th>\n",
              "      <th>maroon</th>\n",
              "      <th>olive</th>\n",
              "      <th>light-blue</th>\n",
              "      <th>plum</th>\n",
              "      <th>siena-brown</th>\n",
              "      <th>gold</th>\n",
              "      <th>pure-red</th>\n",
              "      <th>pure-green</th>\n",
              "      <th>pure-blue</th>\n",
              "      <th>coral</th>\n",
              "      <th>peach</th>\n",
              "      <th>col</th>\n",
              "      <th>vgg1_prob</th>\n",
              "      <th>vgg2_prob</th>\n",
              "      <th>vgg3_prob</th>\n",
              "      <th>vgg_feature_1</th>\n",
              "      <th>vgg_feature_2</th>\n",
              "      <th>vgg_feature_3</th>\n",
              "    </tr>\n",
              "  </thead>\n",
              "  <tbody>\n",
              "    <tr>\n",
              "      <th>27060</th>\n",
              "      <td>48660</td>\n",
              "      <td>50940.0</td>\n",
              "      <td>50940.0</td>\n",
              "      <td>FreezeY7</td>\n",
              "      <td>[]</td>\n",
              "      <td>['gamer', 'xbox', 'xbox', 'playstat']</td>\n",
              "      <td>1.584235e+09</td>\n",
              "      <td>0.0</td>\n",
              "      <td>fit80n</td>\n",
              "      <td>False</td>\n",
              "      <td>https://i.redd.it/5cpizrgflqm41.jpg</td>\n",
              "      <td>r/memes</td>\n",
              "      <td>9552902.0</td>\n",
              "      <td>136.0</td>\n",
              "      <td>default</td>\n",
              "      <td>140.0</td>\n",
              "      <td>Gamers unite</td>\n",
              "      <td>4430.0</td>\n",
              "      <td>/r/memes/comments/fit80n/gamers_unite/</td>\n",
              "      <td>2020-03-14 20:10:36</td>\n",
              "      <td>4.0</td>\n",
              "      <td>4.637334e-04</td>\n",
              "      <td>1.0</td>\n",
              "      <td>61.0</td>\n",
              "      <td>0.49</td>\n",
              "      <td>4.0</td>\n",
              "      <td>NaN</td>\n",
              "      <td>NaN</td>\n",
              "      <td>NaN</td>\n",
              "      <td>NaN</td>\n",
              "      <td>NaN</td>\n",
              "      <td>NaN</td>\n",
              "      <td>NaN</td>\n",
              "      <td>NaN</td>\n",
              "      <td>NaN</td>\n",
              "      <td>NaN</td>\n",
              "      <td>NaN</td>\n",
              "      <td>NaN</td>\n",
              "      <td>NaN</td>\n",
              "      <td>NaN</td>\n",
              "      <td>NaN</td>\n",
              "      <td>NaN</td>\n",
              "      <td>NaN</td>\n",
              "      <td>NaN</td>\n",
              "      <td>NaN</td>\n",
              "      <td>NaN</td>\n",
              "      <td>NaN</td>\n",
              "      <td>NaN</td>\n",
              "      <td>NaN</td>\n",
              "      <td>NaN</td>\n",
              "      <td>NaN</td>\n",
              "      <td>NaN</td>\n",
              "      <td>NaN</td>\n",
              "      <td>NaN</td>\n",
              "      <td>NaN</td>\n",
              "      <td>NaN</td>\n",
              "      <td>NaN</td>\n",
              "      <td>NaN</td>\n",
              "      <td>NaN</td>\n",
              "      <td>NaN</td>\n",
              "      <td>NaN</td>\n",
              "      <td>NaN</td>\n",
              "      <td>NaN</td>\n",
              "      <td>NaN</td>\n",
              "      <td>NaN</td>\n",
              "      <td>NaN</td>\n",
              "      <td>NaN</td>\n",
              "      <td>NaN</td>\n",
              "    </tr>\n",
              "    <tr>\n",
              "      <th>29398</th>\n",
              "      <td>52076</td>\n",
              "      <td>54537.0</td>\n",
              "      <td>54537.0</td>\n",
              "      <td>sraff57</td>\n",
              "      <td>[]</td>\n",
              "      <td>['wait', 'metowißi', 'stick', 'know', 'rule', ...</td>\n",
              "      <td>1.584217e+09</td>\n",
              "      <td>0.0</td>\n",
              "      <td>fios8u</td>\n",
              "      <td>False</td>\n",
              "      <td>https://i.redd.it/t23cfasb5pm41.jpg</td>\n",
              "      <td>r/memes</td>\n",
              "      <td>9552912.0</td>\n",
              "      <td>140.0</td>\n",
              "      <td>https://a.thumbs.redditmedia.com/I-6emwPP50CaM...</td>\n",
              "      <td>140.0</td>\n",
              "      <td>Wait, what are you doing?!?!</td>\n",
              "      <td>2085.0</td>\n",
              "      <td>/r/memes/comments/fios8u/wait_what_are_you_doing/</td>\n",
              "      <td>2020-03-14 15:18:34</td>\n",
              "      <td>3.0</td>\n",
              "      <td>2.182581e-04</td>\n",
              "      <td>1.0</td>\n",
              "      <td>100.0</td>\n",
              "      <td>0.43</td>\n",
              "      <td>6.0</td>\n",
              "      <td>117.131659</td>\n",
              "      <td>135.557786</td>\n",
              "      <td>9.252348</td>\n",
              "      <td>161.599832</td>\n",
              "      <td>112.027603</td>\n",
              "      <td>161.619876</td>\n",
              "      <td>1.452131</td>\n",
              "      <td>0.0</td>\n",
              "      <td>0.0</td>\n",
              "      <td>1.479624</td>\n",
              "      <td>0.0</td>\n",
              "      <td>3.574983</td>\n",
              "      <td>0.000000</td>\n",
              "      <td>0.000000</td>\n",
              "      <td>0.000000</td>\n",
              "      <td>0.000000</td>\n",
              "      <td>0.0</td>\n",
              "      <td>0.0</td>\n",
              "      <td>0.0</td>\n",
              "      <td>0.0</td>\n",
              "      <td>0.0</td>\n",
              "      <td>0.000000</td>\n",
              "      <td>0.0</td>\n",
              "      <td>0.306579</td>\n",
              "      <td>3.693118</td>\n",
              "      <td>0.0</td>\n",
              "      <td>0.0</td>\n",
              "      <td>0.0</td>\n",
              "      <td>0.0</td>\n",
              "      <td>59.748012</td>\n",
              "      <td>0.0</td>\n",
              "      <td>0.0</td>\n",
              "      <td>0.0</td>\n",
              "      <td>0.0</td>\n",
              "      <td>0.000000</td>\n",
              "      <td>0.014749</td>\n",
              "      <td>0.565066</td>\n",
              "      <td>0.060382</td>\n",
              "      <td>0.035474</td>\n",
              "      <td>web_site</td>\n",
              "      <td>book_jacket</td>\n",
              "      <td>bulletproof_vest</td>\n",
              "    </tr>\n",
              "    <tr>\n",
              "      <th>53584</th>\n",
              "      <td>96576</td>\n",
              "      <td>1088.0</td>\n",
              "      <td>32741.0</td>\n",
              "      <td>sdrisc2692</td>\n",
              "      <td>[]</td>\n",
              "      <td>['reddit', 'mobil', 'reddit', 'mobil', 'mind']</td>\n",
              "      <td>1.584914e+09</td>\n",
              "      <td>0.0</td>\n",
              "      <td>fn80tk</td>\n",
              "      <td>False</td>\n",
              "      <td>https://i.redd.it/647g7iqfpao41.jpg</td>\n",
              "      <td>r/memes</td>\n",
              "      <td>10674286.0</td>\n",
              "      <td>140.0</td>\n",
              "      <td>https://b.thumbs.redditmedia.com/Zh-ilteB7oXYR...</td>\n",
              "      <td>140.0</td>\n",
              "      <td>To sum up reddit mobile:</td>\n",
              "      <td>20.0</td>\n",
              "      <td>/r/memes/comments/fn80tk/to_sum_up_reddit_mobile/</td>\n",
              "      <td>2020-03-22 16:52:49</td>\n",
              "      <td>3.0</td>\n",
              "      <td>1.873662e-06</td>\n",
              "      <td>0.0</td>\n",
              "      <td>49.0</td>\n",
              "      <td>0.45</td>\n",
              "      <td>5.0</td>\n",
              "      <td>114.411775</td>\n",
              "      <td>150.795775</td>\n",
              "      <td>15.035978</td>\n",
              "      <td>161.424079</td>\n",
              "      <td>116.582826</td>\n",
              "      <td>162.304915</td>\n",
              "      <td>2.387553</td>\n",
              "      <td>0.0</td>\n",
              "      <td>0.0</td>\n",
              "      <td>6.700281</td>\n",
              "      <td>0.0</td>\n",
              "      <td>0.001293</td>\n",
              "      <td>1.151742</td>\n",
              "      <td>0.000000</td>\n",
              "      <td>0.065962</td>\n",
              "      <td>0.230866</td>\n",
              "      <td>0.0</td>\n",
              "      <td>0.0</td>\n",
              "      <td>0.0</td>\n",
              "      <td>0.0</td>\n",
              "      <td>0.0</td>\n",
              "      <td>0.000000</td>\n",
              "      <td>0.0</td>\n",
              "      <td>1.142689</td>\n",
              "      <td>0.000000</td>\n",
              "      <td>0.0</td>\n",
              "      <td>0.0</td>\n",
              "      <td>0.0</td>\n",
              "      <td>0.0</td>\n",
              "      <td>27.123174</td>\n",
              "      <td>0.0</td>\n",
              "      <td>0.0</td>\n",
              "      <td>0.0</td>\n",
              "      <td>0.0</td>\n",
              "      <td>0.230866</td>\n",
              "      <td>0.015520</td>\n",
              "      <td>0.680993</td>\n",
              "      <td>0.067452</td>\n",
              "      <td>0.050404</td>\n",
              "      <td>web_site</td>\n",
              "      <td>Granny_Smith</td>\n",
              "      <td>banana</td>\n",
              "    </tr>\n",
              "    <tr>\n",
              "      <th>27044</th>\n",
              "      <td>48639</td>\n",
              "      <td>50917.0</td>\n",
              "      <td>50917.0</td>\n",
              "      <td>meeeeeeeph</td>\n",
              "      <td>[]</td>\n",
              "      <td>['meme', 'youtub', 'break', 'real', 'genuin', ...</td>\n",
              "      <td>1.584235e+09</td>\n",
              "      <td>0.0</td>\n",
              "      <td>fit9g6</td>\n",
              "      <td>False</td>\n",
              "      <td>https://i.redd.it/dcz9h7bylqm41.jpg</td>\n",
              "      <td>r/memes</td>\n",
              "      <td>9552902.0</td>\n",
              "      <td>140.0</td>\n",
              "      <td>default</td>\n",
              "      <td>140.0</td>\n",
              "      <td>This isn’t a meme but this youtuber just broke...</td>\n",
              "      <td>1.0</td>\n",
              "      <td>/r/memes/comments/fit9g6/this_isnt_a_meme_but_...</td>\n",
              "      <td>2020-03-14 20:13:34</td>\n",
              "      <td>4.0</td>\n",
              "      <td>1.046802e-07</td>\n",
              "      <td>0.0</td>\n",
              "      <td>451.0</td>\n",
              "      <td>0.70</td>\n",
              "      <td>26.0</td>\n",
              "      <td>157.262803</td>\n",
              "      <td>150.143991</td>\n",
              "      <td>81.755107</td>\n",
              "      <td>154.083191</td>\n",
              "      <td>43.572516</td>\n",
              "      <td>167.579094</td>\n",
              "      <td>8.594830</td>\n",
              "      <td>0.0</td>\n",
              "      <td>0.0</td>\n",
              "      <td>1.996332</td>\n",
              "      <td>0.0</td>\n",
              "      <td>0.000555</td>\n",
              "      <td>0.143401</td>\n",
              "      <td>0.372659</td>\n",
              "      <td>0.000000</td>\n",
              "      <td>0.000000</td>\n",
              "      <td>0.0</td>\n",
              "      <td>0.0</td>\n",
              "      <td>0.0</td>\n",
              "      <td>0.0</td>\n",
              "      <td>0.0</td>\n",
              "      <td>0.006846</td>\n",
              "      <td>0.0</td>\n",
              "      <td>1.995962</td>\n",
              "      <td>0.000000</td>\n",
              "      <td>0.0</td>\n",
              "      <td>0.0</td>\n",
              "      <td>0.0</td>\n",
              "      <td>0.0</td>\n",
              "      <td>0.000000</td>\n",
              "      <td>0.0</td>\n",
              "      <td>0.0</td>\n",
              "      <td>0.0</td>\n",
              "      <td>0.0</td>\n",
              "      <td>0.000000</td>\n",
              "      <td>1.123341</td>\n",
              "      <td>0.312252</td>\n",
              "      <td>0.043995</td>\n",
              "      <td>0.039401</td>\n",
              "      <td>comic_book</td>\n",
              "      <td>refrigerator</td>\n",
              "      <td>can_opener</td>\n",
              "    </tr>\n",
              "    <tr>\n",
              "      <th>14024</th>\n",
              "      <td>29120</td>\n",
              "      <td>30519.0</td>\n",
              "      <td>30519.0</td>\n",
              "      <td>pronoob-_-</td>\n",
              "      <td>[]</td>\n",
              "      <td>['corona', 'ᕗfinal', 'report', 'test', 'dengu'...</td>\n",
              "      <td>1.584364e+09</td>\n",
              "      <td>0.0</td>\n",
              "      <td>fjkmt5</td>\n",
              "      <td>False</td>\n",
              "      <td>https://i.redd.it/xqrdd00s91n41.jpg</td>\n",
              "      <td>r/memes</td>\n",
              "      <td>9552837.0</td>\n",
              "      <td>140.0</td>\n",
              "      <td>https://b.thumbs.redditmedia.com/18UmvLAPuBZWb...</td>\n",
              "      <td>140.0</td>\n",
              "      <td>No Corona for me ᕙ( ͡◉ ͜ ʖ ͡◉)ᕗ</td>\n",
              "      <td>5753.0</td>\n",
              "      <td>/r/memes/comments/fjkmt5/no_corona_for_me_ᕙ_ʖ_ᕗ/</td>\n",
              "      <td>2020-03-16 08:04:56</td>\n",
              "      <td>1.0</td>\n",
              "      <td>6.022295e-04</td>\n",
              "      <td>1.0</td>\n",
              "      <td>290.0</td>\n",
              "      <td>0.44</td>\n",
              "      <td>21.0</td>\n",
              "      <td>87.709108</td>\n",
              "      <td>92.152124</td>\n",
              "      <td>68.006554</td>\n",
              "      <td>97.757133</td>\n",
              "      <td>62.503956</td>\n",
              "      <td>103.276077</td>\n",
              "      <td>2.418405</td>\n",
              "      <td>0.0</td>\n",
              "      <td>0.0</td>\n",
              "      <td>1.275989</td>\n",
              "      <td>0.0</td>\n",
              "      <td>0.008372</td>\n",
              "      <td>1.187321</td>\n",
              "      <td>0.125201</td>\n",
              "      <td>0.000000</td>\n",
              "      <td>0.000000</td>\n",
              "      <td>0.0</td>\n",
              "      <td>0.0</td>\n",
              "      <td>0.0</td>\n",
              "      <td>0.0</td>\n",
              "      <td>0.0</td>\n",
              "      <td>0.000000</td>\n",
              "      <td>0.0</td>\n",
              "      <td>3.162003</td>\n",
              "      <td>0.001142</td>\n",
              "      <td>0.0</td>\n",
              "      <td>0.0</td>\n",
              "      <td>0.0</td>\n",
              "      <td>0.0</td>\n",
              "      <td>0.144990</td>\n",
              "      <td>0.0</td>\n",
              "      <td>0.0</td>\n",
              "      <td>0.0</td>\n",
              "      <td>0.0</td>\n",
              "      <td>0.000000</td>\n",
              "      <td>0.641229</td>\n",
              "      <td>0.545186</td>\n",
              "      <td>0.064092</td>\n",
              "      <td>0.055442</td>\n",
              "      <td>lumbermill</td>\n",
              "      <td>thresher</td>\n",
              "      <td>horse_cart</td>\n",
              "    </tr>\n",
              "  </tbody>\n",
              "</table>\n",
              "</div>"
            ],
            "text/plain": [
              "       Unnamed: 0  level_0  ...  vgg_feature_2     vgg_feature_3\n",
              "27060       48660  50940.0  ...            NaN               NaN\n",
              "29398       52076  54537.0  ...    book_jacket  bulletproof_vest\n",
              "53584       96576   1088.0  ...   Granny_Smith            banana\n",
              "27044       48639  50917.0  ...   refrigerator        can_opener\n",
              "14024       29120  30519.0  ...       thresher        horse_cart\n",
              "\n",
              "[5 rows x 68 columns]"
            ]
          },
          "metadata": {
            "tags": []
          },
          "execution_count": 6
        }
      ]
    },
    {
      "cell_type": "code",
      "metadata": {
        "id": "fEzG_NQiP1VI"
      },
      "source": [
        "def file_extension(x):\n",
        "      return x+\".jpg\"\n",
        "train_data['id'] = train_data['id'].apply(file_extension)\n",
        "val_data['id'] = val_data['id'].apply(file_extension)\n",
        "test_data['id'] = test_data['id'].apply(file_extension)"
      ],
      "execution_count": 7,
      "outputs": []
    },
    {
      "cell_type": "code",
      "metadata": {
        "id": "Poy1fDYfMAPT"
      },
      "source": [
        "def numeric_to_string(x):\n",
        "    if (x==1.0):\n",
        "        return 'Not_dank'\n",
        "    elif (x==0.0):\n",
        "        return 'Dank'\n",
        "train_data['dank_level_new'] = train_data['dank_level'].apply(numeric_to_string)\n",
        "val_data['dank_level_new'] = val_data['dank_level'].apply(numeric_to_string)\n",
        "test_data['dank_level_new'] = test_data['dank_level'].apply(numeric_to_string)"
      ],
      "execution_count": 8,
      "outputs": []
    },
    {
      "cell_type": "code",
      "metadata": {
        "colab": {
          "base_uri": "https://localhost:8080/"
        },
        "id": "uFKP75HJFjYH",
        "outputId": "ecfdf741-8617-470f-c5eb-aa7cbfe0a12b"
      },
      "source": [
        "  logger = logging.getLogger()\n",
        "  logger.disabled = False  \n",
        "  train_datagen = ImageDataGenerator(zoom_range=0.3, rotation_range=50,\n",
        "                                    width_shift_range=0.2, height_shift_range=0.2, shear_range=0.2, \n",
        "                                    horizontal_flip=True, fill_mode='nearest')\n",
        "  train_generator = train_datagen.flow_from_dataframe(\n",
        "              dataframe=train_data,\n",
        "              directory=\"/content/dank_data-master/data/training/\",\n",
        "              x_col=\"id\",\n",
        "              y_col=\"dank_level_new\",\n",
        "              subset=\"training\",\n",
        "              batch_size=30,\n",
        "              seed=42,\n",
        "              class_mode=\"binary\",\n",
        "              target_size= (512,512))\n",
        "  predict_datagen = ImageDataGenerator(preprocessing_function=preprocess_input)\n",
        "  train_prediction_generator = predict_datagen.flow_from_dataframe(\n",
        "              dataframe=train_data,\n",
        "              directory=\"/content/dank_data-master/data/training/\",\n",
        "              x_col=\"id\",\n",
        "              y_col=\"dank_level_new\",\n",
        "              batch_size=30,\n",
        "              seed=42,\n",
        "              class_mode=\"binary\",\n",
        "              shuffle=False,\n",
        "              target_size= (512,512))\n",
        "  validation_prediction_generator = predict_datagen.flow_from_dataframe(\n",
        "              dataframe=val_data,\n",
        "              directory=\"/content/dank_data-master/data/validation/\",\n",
        "              x_col=\"id\",\n",
        "              y_col=\"dank_level_new\",\n",
        "              batch_size=30,\n",
        "              seed=42,\n",
        "              shuffle=False,\n",
        "              class_mode=\"binary\",\n",
        "              target_size= (512,512))\n",
        "  test_prediction_generator = predict_datagen.flow_from_dataframe(\n",
        "              dataframe=test_data,\n",
        "              directory=\"/content/dank_data-master/data/test/\",\n",
        "              x_col=\"id\",\n",
        "              y_col=\"dank_level_new\",\n",
        "              batch_size=30,\n",
        "              seed=42,\n",
        "              shuffle=False,\n",
        "              class_mode=\"binary\",\n",
        "              target_size= (512,512))"
      ],
      "execution_count": 9,
      "outputs": [
        {
          "output_type": "stream",
          "text": [
            "Found 3405 validated image filenames belonging to 2 classes.\n",
            "Found 3405 validated image filenames belonging to 2 classes.\n",
            "Found 1688 validated image filenames belonging to 2 classes.\n",
            "Found 1719 validated image filenames belonging to 2 classes.\n"
          ],
          "name": "stdout"
        }
      ]
    },
    {
      "cell_type": "code",
      "metadata": {
        "colab": {
          "base_uri": "https://localhost:8080/"
        },
        "id": "iv1HH5t8QSGX",
        "outputId": "d2ecdb24-cfe6-4e95-e1a8-489190b1f51a"
      },
      "source": [
        "IMAGE_SIZE = [512,512]\n",
        "vgg16 = VGG16(input_shape=IMAGE_SIZE + [3], weights='imagenet', include_top=False)"
      ],
      "execution_count": 10,
      "outputs": [
        {
          "output_type": "stream",
          "text": [
            "Downloading data from https://storage.googleapis.com/tensorflow/keras-applications/vgg16/vgg16_weights_tf_dim_ordering_tf_kernels_notop.h5\n",
            "58892288/58889256 [==============================] - 1s 0us/step\n"
          ],
          "name": "stdout"
        }
      ]
    },
    {
      "cell_type": "code",
      "metadata": {
        "id": "CgyI2e9cIT3K"
      },
      "source": [
        "for layer in vgg16.layers[:11]:\n",
        "    layer.trainable = False"
      ],
      "execution_count": 11,
      "outputs": []
    },
    {
      "cell_type": "code",
      "metadata": {
        "colab": {
          "base_uri": "https://localhost:8080/"
        },
        "id": "2E23wFGhIW_E",
        "outputId": "faf6b607-194c-4ef7-cb13-1d073b254196"
      },
      "source": [
        "#Flatten\n",
        "flatten = Flatten(data_format='channels_last',name='Flatten')(vgg16.output)\n",
        "\n",
        "#FC layer\n",
        "FC1 = Dense(units=512,activation='relu',kernel_initializer=tf.keras.initializers.glorot_normal(seed=32),name='FC1')(flatten)\n",
        "x = Dropout(0.3)(FC1)\n",
        "#FC layer\n",
        "FC2 = Dense(units=512,activation='relu',kernel_initializer=tf.keras.initializers.glorot_normal(seed=33),name='FC2')(x)\n",
        "x = Dropout(0.3)(FC2)\n",
        "\n",
        "#output layer\n",
        "Out = Dense(units=1,activation='sigmoid',kernel_initializer=tf.keras.initializers.glorot_normal(seed=3),name='Output')(x)\n",
        "\n",
        "model = Model(inputs=vgg16.input, outputs=Out)\n",
        "model.summary()"
      ],
      "execution_count": 12,
      "outputs": [
        {
          "output_type": "stream",
          "text": [
            "Model: \"model\"\n",
            "_________________________________________________________________\n",
            "Layer (type)                 Output Shape              Param #   \n",
            "=================================================================\n",
            "input_1 (InputLayer)         [(None, 512, 512, 3)]     0         \n",
            "_________________________________________________________________\n",
            "block1_conv1 (Conv2D)        (None, 512, 512, 64)      1792      \n",
            "_________________________________________________________________\n",
            "block1_conv2 (Conv2D)        (None, 512, 512, 64)      36928     \n",
            "_________________________________________________________________\n",
            "block1_pool (MaxPooling2D)   (None, 256, 256, 64)      0         \n",
            "_________________________________________________________________\n",
            "block2_conv1 (Conv2D)        (None, 256, 256, 128)     73856     \n",
            "_________________________________________________________________\n",
            "block2_conv2 (Conv2D)        (None, 256, 256, 128)     147584    \n",
            "_________________________________________________________________\n",
            "block2_pool (MaxPooling2D)   (None, 128, 128, 128)     0         \n",
            "_________________________________________________________________\n",
            "block3_conv1 (Conv2D)        (None, 128, 128, 256)     295168    \n",
            "_________________________________________________________________\n",
            "block3_conv2 (Conv2D)        (None, 128, 128, 256)     590080    \n",
            "_________________________________________________________________\n",
            "block3_conv3 (Conv2D)        (None, 128, 128, 256)     590080    \n",
            "_________________________________________________________________\n",
            "block3_pool (MaxPooling2D)   (None, 64, 64, 256)       0         \n",
            "_________________________________________________________________\n",
            "block4_conv1 (Conv2D)        (None, 64, 64, 512)       1180160   \n",
            "_________________________________________________________________\n",
            "block4_conv2 (Conv2D)        (None, 64, 64, 512)       2359808   \n",
            "_________________________________________________________________\n",
            "block4_conv3 (Conv2D)        (None, 64, 64, 512)       2359808   \n",
            "_________________________________________________________________\n",
            "block4_pool (MaxPooling2D)   (None, 32, 32, 512)       0         \n",
            "_________________________________________________________________\n",
            "block5_conv1 (Conv2D)        (None, 32, 32, 512)       2359808   \n",
            "_________________________________________________________________\n",
            "block5_conv2 (Conv2D)        (None, 32, 32, 512)       2359808   \n",
            "_________________________________________________________________\n",
            "block5_conv3 (Conv2D)        (None, 32, 32, 512)       2359808   \n",
            "_________________________________________________________________\n",
            "block5_pool (MaxPooling2D)   (None, 16, 16, 512)       0         \n",
            "_________________________________________________________________\n",
            "Flatten (Flatten)            (None, 131072)            0         \n",
            "_________________________________________________________________\n",
            "FC1 (Dense)                  (None, 512)               67109376  \n",
            "_________________________________________________________________\n",
            "dropout (Dropout)            (None, 512)               0         \n",
            "_________________________________________________________________\n",
            "FC2 (Dense)                  (None, 512)               262656    \n",
            "_________________________________________________________________\n",
            "dropout_1 (Dropout)          (None, 512)               0         \n",
            "_________________________________________________________________\n",
            "Output (Dense)               (None, 1)                 513       \n",
            "=================================================================\n",
            "Total params: 82,087,233\n",
            "Trainable params: 80,351,745\n",
            "Non-trainable params: 1,735,488\n",
            "_________________________________________________________________\n"
          ],
          "name": "stdout"
        }
      ]
    },
    {
      "cell_type": "code",
      "metadata": {
        "id": "p88y0YEjqRAV"
      },
      "source": [
        "def scheduler(epoch,lr):\n",
        "    if((epoch+1)%3==0):\n",
        "        lr=lr*0.95\n",
        "        return lr\n",
        "    else:\n",
        "        return lr"
      ],
      "execution_count": 13,
      "outputs": []
    },
    {
      "cell_type": "code",
      "metadata": {
        "id": "hJY2U-CdRZPz"
      },
      "source": [
        "\n",
        "filepath=\"model_save_new/weights-{epoch:02d}-{val_accuracy:.4f}.h5\"\n",
        "checkpoint = ModelCheckpoint(filepath=filepath, monitor='val_accuracy',mode='auto')\n",
        "\n",
        "\n",
        "\n",
        "lrschedule = tf.keras.callbacks.LearningRateScheduler(scheduler,verbose=0.1)\n",
        "\n",
        "#stop the training if your validation accuracy is not increased in last 2 epochs.\n",
        "early_stop= EarlyStopping(monitor='val_accuracy', patience=3,verbose=1) \n",
        "\n",
        "#If your validation accuracy at that epoch is less than previous epoch accuracy, you have to decrese the\n",
        "#learning rate by 10%\n",
        "reduce_lr = ReduceLROnPlateau(monitor='val_accuracy', factor=0.75,\n",
        "                              patience=3, min_lr=0.001,verbose=1)\n",
        "\n",
        "model.compile(\n",
        "  loss='binary_crossentropy',\n",
        "  optimizer=tf.keras.optimizers.RMSprop(lr=1e-5), \n",
        "  metrics=['accuracy',tf.keras.metrics.Precision(),tf.keras.metrics.Recall(),tfa.metrics.F1Score(num_classes=1)]\n",
        ")\n"
      ],
      "execution_count": 14,
      "outputs": []
    },
    {
      "cell_type": "code",
      "metadata": {
        "colab": {
          "base_uri": "https://localhost:8080/"
        },
        "id": "p87uS1cERdgV",
        "outputId": "acc8a2eb-fa52-481a-ed10-b60a015a6a1b"
      },
      "source": [
        "history=model.fit_generator(train_generator,steps_per_epoch=len(train_generator),epochs=2,validation_data=test_prediction_generator,validation_steps=len(test_prediction_generator),use_multiprocessing=False,workers=12,callbacks=[lrschedule,checkpoint,reduce_lr])"
      ],
      "execution_count": 16,
      "outputs": [
        {
          "output_type": "stream",
          "text": [
            "Epoch 1/2\n",
            "\n",
            "Epoch 00001: LearningRateScheduler reducing learning rate to 9.02499959920533e-06.\n",
            "114/114 [==============================] - 297s 2s/step - loss: 0.6772 - accuracy: 0.5715 - precision: 0.5732 - recall: 0.5128 - f1_score: 0.6605 - val_loss: 0.6859 - val_accuracy: 0.5445 - val_precision: 0.5508 - val_recall: 0.3129 - val_f1_score: 0.6518\n",
            "Epoch 2/2\n",
            "\n",
            "Epoch 00002: LearningRateScheduler reducing learning rate to 9.02499959920533e-06.\n",
            "114/114 [==============================] - 296s 2s/step - loss: 0.6768 - accuracy: 0.5783 - precision: 0.5770 - recall: 0.5420 - f1_score: 0.6605 - val_loss: 0.6808 - val_accuracy: 0.5608 - val_precision: 0.5556 - val_recall: 0.4573 - val_f1_score: 0.6518\n"
          ],
          "name": "stdout"
        }
      ]
    },
    {
      "cell_type": "code",
      "metadata": {
        "colab": {
          "base_uri": "https://localhost:8080/"
        },
        "id": "KXDJxxtucypq",
        "outputId": "2c52d25c-f9fa-4f63-98ee-9c88763eb41f"
      },
      "source": [
        "model_checkpoint =  Model(inputs=vgg16.input, outputs=FC2)\n",
        "model_checkpoint.save('bestmodel_vgg16_lstm.h5')\n",
        "new_model = tf.keras.models.load_model('bestmodel_vgg16_lstm.h5')"
      ],
      "execution_count": 18,
      "outputs": [
        {
          "output_type": "stream",
          "text": [
            "WARNING:tensorflow:No training configuration found in the save file, so the model was *not* compiled. Compile it manually.\n"
          ],
          "name": "stdout"
        }
      ]
    },
    {
      "cell_type": "code",
      "metadata": {
        "colab": {
          "base_uri": "https://localhost:8080/"
        },
        "id": "RQAyes3NnQA5",
        "outputId": "adbfc432-d783-4375-9285-4f19db930638"
      },
      "source": [
        "predict_train=new_model.predict_generator(train_prediction_generator,steps=len(train_prediction_generator),workers=12)\n",
        "predict_test=new_model.predict_generator(test_prediction_generator,steps=len(test_prediction_generator),workers=12)\n",
        "predict_train.shape"
      ],
      "execution_count": 19,
      "outputs": [
        {
          "output_type": "execute_result",
          "data": {
            "text/plain": [
              "(3405, 512)"
            ]
          },
          "metadata": {
            "tags": []
          },
          "execution_count": 19
        }
      ]
    },
    {
      "cell_type": "code",
      "metadata": {
        "id": "Yp3r6IpZds8t"
      },
      "source": [
        "train_data_words=train_data['processed_words'].values\n",
        "validation_words=val_data['processed_words'].values\n",
        "test_data_words=test_data['processed_words'].values\n",
        "\n",
        "tokenizer = Tokenizer()\n",
        "tokenizer.fit_on_texts(train_data_words)\n",
        "vocab_size=len(tokenizer.word_index)\n",
        "encoded_Xtrain_words = [tf.keras.preprocessing.text.one_hot(d, vocab_size,filters='!\"#$%&()*+,-./:;<=>?@[\\\\]^`{|}~\\t\\n') for d in train_data_words]\n",
        "encoded_validation_words = [tf.keras.preprocessing.text.one_hot(d, vocab_size,filters='!\"#$%&()*+,-./:;<=>?@[\\\\]^`{|}~\\t\\n') for d in validation_words]\n",
        "encoded_Xtest_words = [tf.keras.preprocessing.text.one_hot(d, vocab_size,filters='!\"#$%&()*+,-./:;<=>?@[\\\\]^`{|}~\\t\\n') for d in test_data_words]\n",
        "\n",
        "padded_Xtrain_words = tf.keras.preprocessing.sequence.pad_sequences(encoded_Xtrain_words, maxlen=20, padding='post')\n",
        "padded_Xvalidation_words = tf.keras.preprocessing.sequence.pad_sequences(encoded_validation_words, maxlen=20, padding='post')\n",
        "padded_Xtest_words = tf.keras.preprocessing.sequence.pad_sequences(encoded_Xtest_words, maxlen=20, padding='post')"
      ],
      "execution_count": 20,
      "outputs": []
    },
    {
      "cell_type": "code",
      "metadata": {
        "colab": {
          "base_uri": "https://localhost:8080/"
        },
        "id": "7eWaCci4YGEZ",
        "outputId": "cd31efdd-9e4b-473d-ea68-40c054baf013"
      },
      "source": [
        "embeddings_index = dict()\n",
        "f = open('/content/glove.6B.300d.txt')\n",
        "\n",
        "for line in f:\n",
        "    values = line.split()\n",
        "    word = values[0]\n",
        "    coefs = np.asarray(values[1:], dtype='float32')\n",
        "    embeddings_index[word] = coefs\n",
        "\n",
        "f.close()\n",
        "print('Loaded %s word vectors.' % len(embeddings_index))"
      ],
      "execution_count": 21,
      "outputs": [
        {
          "output_type": "stream",
          "text": [
            "Loaded 400000 word vectors.\n"
          ],
          "name": "stdout"
        }
      ]
    },
    {
      "cell_type": "code",
      "metadata": {
        "id": "bI5hV8EaeAwz"
      },
      "source": [
        "embedding_matrix = np.zeros((vocab_size+1, 300))\n",
        "for word, i in tokenizer.word_index.items():\n",
        "    embedding_vector = embeddings_index.get(word)\n",
        "    if embedding_vector is not None:\n",
        "        embedding_matrix[i] = embedding_vector"
      ],
      "execution_count": 22,
      "outputs": []
    },
    {
      "cell_type": "code",
      "metadata": {
        "colab": {
          "base_uri": "https://localhost:8080/"
        },
        "id": "ePCQSvjweCNP",
        "outputId": "03989a71-4664-4b07-8a6c-d76cfe2d3ee6"
      },
      "source": [
        "labelencoder = LabelEncoder()\n",
        "labelencoder.fit(train_data['subreddit'].values)\n",
        "subreddit_train=labelencoder.transform(train_data['subreddit'].values).reshape(-1,1)\n",
        "subreddit_validation=labelencoder.transform(val_data['subreddit'].values).reshape(-1,1)\n",
        "subreddit_test=labelencoder.transform(test_data['subreddit'].values).reshape(-1, 1)\n",
        "\n",
        "print(subreddit_train.shape)\n",
        "print(subreddit_test.shape)\n",
        "print(subreddit_validation.shape)"
      ],
      "execution_count": 23,
      "outputs": [
        {
          "output_type": "stream",
          "text": [
            "(3405, 1)\n",
            "(1719, 1)\n",
            "(1688, 1)\n"
          ],
          "name": "stdout"
        }
      ]
    },
    {
      "cell_type": "code",
      "metadata": {
        "colab": {
          "base_uri": "https://localhost:8080/"
        },
        "id": "VtxBNc1eeEQ5",
        "outputId": "0af37dd7-8133-4dc0-fdf8-fd89a101aa1e"
      },
      "source": [
        "labelencoder = LabelEncoder()\n",
        "labelencoder.fit(train_data['is_nsfw'].values)\n",
        "is_nsfw_train=labelencoder.transform(train_data['is_nsfw'].values).reshape(-1,1)\n",
        "is_nsfw_validation=labelencoder.transform(val_data['is_nsfw'].values).reshape(-1,1)\n",
        "is_nsfw_test=labelencoder.transform(test_data['is_nsfw'].values).reshape(-1,1)\n",
        "\n",
        "print(is_nsfw_train.shape)\n",
        "print(is_nsfw_test.shape)\n",
        "print(is_nsfw_validation.shape)"
      ],
      "execution_count": 24,
      "outputs": [
        {
          "output_type": "stream",
          "text": [
            "(3405, 1)\n",
            "(1719, 1)\n",
            "(1688, 1)\n"
          ],
          "name": "stdout"
        }
      ]
    },
    {
      "cell_type": "code",
      "metadata": {
        "colab": {
          "base_uri": "https://localhost:8080/"
        },
        "id": "GCRPG8KOeGPx",
        "outputId": "c450d753-c5be-4e57-f2fd-009d11bfe1bf"
      },
      "source": [
        "time_of_day_train=(train_data['time_of_day'].values).reshape(-1,1)\n",
        "time_of_day_validation=(val_data['time_of_day'].values).reshape(-1,1)\n",
        "time_of_day_test=(test_data['time_of_day'].values).reshape(-1,1)\n",
        "\n",
        "print(time_of_day_train.shape)\n",
        "print(time_of_day_validation.shape)\n",
        "print(time_of_day_test.shape)"
      ],
      "execution_count": 25,
      "outputs": [
        {
          "output_type": "stream",
          "text": [
            "(3405, 1)\n",
            "(1688, 1)\n",
            "(1719, 1)\n"
          ],
          "name": "stdout"
        }
      ]
    },
    {
      "cell_type": "code",
      "metadata": {
        "colab": {
          "base_uri": "https://localhost:8080/"
        },
        "id": "g7zT4JXieHtv",
        "outputId": "994d6ce7-05bb-48b7-c796-e18a9dec3f23"
      },
      "source": [
        "scaler = StandardScaler()\n",
        "scaler=scaler.fit(train_data['created_utc'].values.reshape(-1, 1))\n",
        "\n",
        "created_utc_train=scaler.transform(train_data['created_utc'].values.reshape(-1, 1))\n",
        "created_utc_validation=scaler.transform(val_data['created_utc'].values.reshape(-1, 1))\n",
        "created_utc_test=scaler.transform(test_data['created_utc'].values.reshape(-1, 1))\n",
        "\n",
        "print(created_utc_train.shape)\n",
        "print(created_utc_test.shape)\n",
        "print(created_utc_validation.shape)"
      ],
      "execution_count": 26,
      "outputs": [
        {
          "output_type": "stream",
          "text": [
            "(3405, 1)\n",
            "(1719, 1)\n",
            "(1688, 1)\n"
          ],
          "name": "stdout"
        }
      ]
    },
    {
      "cell_type": "code",
      "metadata": {
        "colab": {
          "base_uri": "https://localhost:8080/"
        },
        "id": "05_dMxNAeKBZ",
        "outputId": "71709929-8d3f-4079-cd78-63fbe4729c98"
      },
      "source": [
        "scaler = StandardScaler()\n",
        "scaler=scaler.fit(train_data['subscribers'].values.reshape(-1, 1))\n",
        "\n",
        "subscribers_train=scaler.transform(train_data['subscribers'].values.reshape(-1, 1))\n",
        "subscribers_validation=scaler.transform(val_data['subscribers'].values.reshape(-1, 1))\n",
        "subscribers_test=scaler.transform(test_data['subscribers'].values.reshape(-1, 1))\n",
        "\n",
        "print(subscribers_train.shape)\n",
        "print(subscribers_validation.shape)\n",
        "print(subscribers_test.shape)"
      ],
      "execution_count": 27,
      "outputs": [
        {
          "output_type": "stream",
          "text": [
            "(3405, 1)\n",
            "(1688, 1)\n",
            "(1719, 1)\n"
          ],
          "name": "stdout"
        }
      ]
    },
    {
      "cell_type": "code",
      "metadata": {
        "colab": {
          "base_uri": "https://localhost:8080/"
        },
        "id": "5GelUlAdX6D7",
        "outputId": "d7246049-b464-456b-9c3a-b053cb944871"
      },
      "source": [
        "\n",
        "#words  embeding layer\n",
        "words =Input(shape=(20,),name=\"words\")\n",
        "embeding=Embedding(vocab_size+1,300,weights=[embedding_matrix],input_length=20,trainable=False)(words)\n",
        "lstm_layer=LSTM(500)(embeding)\n",
        "flatten1 = Flatten(data_format='channels_last')(lstm_layer)\n",
        "\n",
        "image_predicted =Input(shape=(predict_train.shape[1],),name=\"image_predicted\")\n",
        "flatten2= Flatten(data_format='channels_last')(image_predicted)\n",
        "\n",
        "#categore_data\n",
        "subreddit_train_layer =Input(shape=(subreddit_train.shape[1],),name=\"subreddit_train_layer\")\n",
        "flatten3= Flatten(data_format='channels_last')(subreddit_train_layer)\n",
        "###\n",
        "is_nsfw_train_layer =Input(shape=(is_nsfw_train.shape[1],),name=\"is_nsfw_train_layer\")\n",
        "flatten4 = Flatten(data_format='channels_last')(is_nsfw_train_layer)\n",
        "####\n",
        "time_of_day_train_layer =Input(shape=(time_of_day_train.shape[1],),name=\"time_of_day_train_layer\")\n",
        "flatten5 = Flatten(data_format='channels_last')(time_of_day_train_layer)\n",
        "\n",
        "#numeric_data\n",
        "created_utc_train_layer =Input(shape=(created_utc_train.shape[1],),name=\"created_utc_train_layer\")\n",
        "created_utc_dence = Dense(units=3,activation='relu',kernel_initializer=tf.keras.initializers.glorot_normal(seed=33))(created_utc_train_layer)\n",
        "\n",
        "#numeric_data\n",
        "subscribers_train_layer =Input(shape=(subscribers_train.shape[1],),name=\"subscribers_train_layer\")\n",
        "subscribers_dence = Dense(units=3,activation='relu',kernel_initializer=tf.keras.initializers.glorot_normal(seed=33))(subscribers_train_layer)\n",
        "\n",
        "#concat layer\n",
        "concatenated = concatenate([subscribers_train_layer,created_utc_dence,flatten5,flatten4,flatten3,flatten2,flatten1],axis = -1)\n",
        "\n",
        "dense_layer1 = Dense(units=420,activation='relu',kernel_initializer=tf.keras.initializers.glorot_normal(seed=33))(concatenated)\n",
        "dropout1=Dropout(0.3)(dense_layer1)\n",
        "\n",
        "dense_layer2 = Dense(units=210,activation='relu',kernel_initializer=tf.keras.initializers.glorot_normal(seed=33))(dropout1)\n",
        "dropout2=Dropout(0.3)(dense_layer2)\n",
        "\n",
        "dense_layer3 = Dense(units=105,activation='relu',kernel_initializer=tf.keras.initializers.glorot_normal(seed=33))(dropout2)\n",
        "dropout3=Dropout(0.3)(dense_layer3)\n",
        "\n",
        "dense_layer4 = Dense(units=60,activation='relu',kernel_initializer=tf.keras.initializers.glorot_normal(seed=33))(dropout3)\n",
        "dropout4=Dropout(0.3)(dense_layer4)\n",
        "\n",
        "dense_layer5 = Dense(units=30,activation='relu',kernel_initializer=tf.keras.initializers.glorot_normal(seed=33))(dropout4)\n",
        "dropout5=Dropout(0.3)(dense_layer5)\n",
        "\n",
        "dense_layer6 = Dense(units=15,activation='relu',kernel_initializer=tf.keras.initializers.glorot_normal(seed=33))(dropout5)\n",
        "\n",
        "\n",
        "Out = Dense(units=1,activation='sigmoid',kernel_initializer=tf.keras.initializers.glorot_normal(seed=3),name='Output')(dense_layer6)\n",
        "\n",
        "model = Model(inputs=[image_predicted,words,subreddit_train_layer,is_nsfw_train_layer,time_of_day_train_layer,created_utc_train_layer,subscribers_train_layer],outputs=Out)\n",
        "model.summary()"
      ],
      "execution_count": 28,
      "outputs": [
        {
          "output_type": "stream",
          "text": [
            "Model: \"model_2\"\n",
            "__________________________________________________________________________________________________\n",
            "Layer (type)                    Output Shape         Param #     Connected to                     \n",
            "==================================================================================================\n",
            "words (InputLayer)              [(None, 20)]         0                                            \n",
            "__________________________________________________________________________________________________\n",
            "embedding (Embedding)           (None, 20, 300)      2712000     words[0][0]                      \n",
            "__________________________________________________________________________________________________\n",
            "created_utc_train_layer (InputL [(None, 1)]          0                                            \n",
            "__________________________________________________________________________________________________\n",
            "time_of_day_train_layer (InputL [(None, 1)]          0                                            \n",
            "__________________________________________________________________________________________________\n",
            "is_nsfw_train_layer (InputLayer [(None, 1)]          0                                            \n",
            "__________________________________________________________________________________________________\n",
            "subreddit_train_layer (InputLay [(None, 1)]          0                                            \n",
            "__________________________________________________________________________________________________\n",
            "image_predicted (InputLayer)    [(None, 512)]        0                                            \n",
            "__________________________________________________________________________________________________\n",
            "lstm (LSTM)                     (None, 500)          1602000     embedding[0][0]                  \n",
            "__________________________________________________________________________________________________\n",
            "subscribers_train_layer (InputL [(None, 1)]          0                                            \n",
            "__________________________________________________________________________________________________\n",
            "dense (Dense)                   (None, 3)            6           created_utc_train_layer[0][0]    \n",
            "__________________________________________________________________________________________________\n",
            "flatten_4 (Flatten)             (None, 1)            0           time_of_day_train_layer[0][0]    \n",
            "__________________________________________________________________________________________________\n",
            "flatten_3 (Flatten)             (None, 1)            0           is_nsfw_train_layer[0][0]        \n",
            "__________________________________________________________________________________________________\n",
            "flatten_2 (Flatten)             (None, 1)            0           subreddit_train_layer[0][0]      \n",
            "__________________________________________________________________________________________________\n",
            "flatten_1 (Flatten)             (None, 512)          0           image_predicted[0][0]            \n",
            "__________________________________________________________________________________________________\n",
            "flatten (Flatten)               (None, 500)          0           lstm[0][0]                       \n",
            "__________________________________________________________________________________________________\n",
            "concatenate (Concatenate)       (None, 1019)         0           subscribers_train_layer[0][0]    \n",
            "                                                                 dense[0][0]                      \n",
            "                                                                 flatten_4[0][0]                  \n",
            "                                                                 flatten_3[0][0]                  \n",
            "                                                                 flatten_2[0][0]                  \n",
            "                                                                 flatten_1[0][0]                  \n",
            "                                                                 flatten[0][0]                    \n",
            "__________________________________________________________________________________________________\n",
            "dense_2 (Dense)                 (None, 420)          428400      concatenate[0][0]                \n",
            "__________________________________________________________________________________________________\n",
            "dropout_2 (Dropout)             (None, 420)          0           dense_2[0][0]                    \n",
            "__________________________________________________________________________________________________\n",
            "dense_3 (Dense)                 (None, 210)          88410       dropout_2[0][0]                  \n",
            "__________________________________________________________________________________________________\n",
            "dropout_3 (Dropout)             (None, 210)          0           dense_3[0][0]                    \n",
            "__________________________________________________________________________________________________\n",
            "dense_4 (Dense)                 (None, 105)          22155       dropout_3[0][0]                  \n",
            "__________________________________________________________________________________________________\n",
            "dropout_4 (Dropout)             (None, 105)          0           dense_4[0][0]                    \n",
            "__________________________________________________________________________________________________\n",
            "dense_5 (Dense)                 (None, 60)           6360        dropout_4[0][0]                  \n",
            "__________________________________________________________________________________________________\n",
            "dropout_5 (Dropout)             (None, 60)           0           dense_5[0][0]                    \n",
            "__________________________________________________________________________________________________\n",
            "dense_6 (Dense)                 (None, 30)           1830        dropout_5[0][0]                  \n",
            "__________________________________________________________________________________________________\n",
            "dropout_6 (Dropout)             (None, 30)           0           dense_6[0][0]                    \n",
            "__________________________________________________________________________________________________\n",
            "dense_7 (Dense)                 (None, 15)           465         dropout_6[0][0]                  \n",
            "__________________________________________________________________________________________________\n",
            "Output (Dense)                  (None, 1)            16          dense_7[0][0]                    \n",
            "==================================================================================================\n",
            "Total params: 4,861,642\n",
            "Trainable params: 2,149,642\n",
            "Non-trainable params: 2,712,000\n",
            "__________________________________________________________________________________________________\n"
          ],
          "name": "stdout"
        }
      ]
    },
    {
      "cell_type": "code",
      "metadata": {
        "id": "het2d2gMfAZx"
      },
      "source": [
        "filepath=\"model_save/weights-{epoch:02d}-{val_accuracy:.4f}.h5\"\n",
        "checkpoint = ModelCheckpoint(filepath=filepath, monitor='val_accuracy',save_best_only=True, mode='auto')\n",
        "\n",
        "\n",
        "\n",
        "lrschedule = tf.keras.callbacks.LearningRateScheduler(scheduler,verbose=0.1)\n",
        "\n",
        "#stop the training if your validation accuracy is not increased in last 2 epochs.\n",
        "early_stop= EarlyStopping(monitor='val_accuracy', patience=2,verbose=1) \n",
        "\n",
        "#If your validation accuracy at that epoch is less than previous epoch accuracy, you have to decrese the\n",
        "#learning rate by 10%\n",
        "reduce_lr = ReduceLROnPlateau(monitor='val_accuracy', factor=0.9,\n",
        "                              patience=0, min_lr=0.001,verbose=1)\n",
        "\n",
        "model.compile(\n",
        "  loss='binary_crossentropy',\n",
        "  optimizer=tf.keras.optimizers.RMSprop(lr=1e-5), \n",
        "  metrics=['accuracy',tf.keras.metrics.Precision(),tf.keras.metrics.Recall(),tfa.metrics.F1Score(num_classes=1)]\n",
        ")\n"
      ],
      "execution_count": 29,
      "outputs": []
    },
    {
      "cell_type": "code",
      "metadata": {
        "colab": {
          "base_uri": "https://localhost:8080/"
        },
        "id": "NhrSWoWGgXfn",
        "outputId": "cc4ee38c-8182-47d1-bf3b-a92102b9ea60"
      },
      "source": [
        "y_train =train_data['dank_level'].values\n",
        "y_test =test_data['dank_level'].values\n",
        "y_train.shape"
      ],
      "execution_count": 30,
      "outputs": [
        {
          "output_type": "execute_result",
          "data": {
            "text/plain": [
              "(3405,)"
            ]
          },
          "metadata": {
            "tags": []
          },
          "execution_count": 30
        }
      ]
    },
    {
      "cell_type": "code",
      "metadata": {
        "colab": {
          "base_uri": "https://localhost:8080/"
        },
        "id": "xmQOgwsjfDzC",
        "outputId": "3524753b-ca41-4503-efcf-22ba7cdc88dc"
      },
      "source": [
        "history=model.fit({\"image_predicted\":predict_train,\"words\":padded_Xtrain_words,\"subreddit_train_layer\":subreddit_train,\"is_nsfw_train_layer\":is_nsfw_train,\"time_of_day_train_layer\":time_of_day_train,\n",
        "                    \"created_utc_train_layer\":created_utc_train,\"subscribers_train_layer\":subscribers_train},\n",
        "                     y_train,epochs=100,batch_size=30,\n",
        "                  validation_data=({\"image_predicted\":predict_test,\"words\":padded_Xtest_words,\"subreddit_train_layer\":subreddit_test,\"is_nsfw_train_layer\":is_nsfw_test,\"time_of_day_train_layer\":time_of_day_test,\n",
        "                    \"created_utc_train_layer\":created_utc_test,\"subscribers_train_layer\":subscribers_test},y_test),callbacks=[lrschedule,checkpoint,reduce_lr])\n"
      ],
      "execution_count": 32,
      "outputs": [
        {
          "output_type": "stream",
          "text": [
            "Epoch 1/100\n",
            "\n",
            "Epoch 00001: LearningRateScheduler reducing learning rate to 1.8402588466415182e-06.\n",
            "114/114 [==============================] - 2s 14ms/step - loss: 0.6751 - accuracy: 0.5680 - precision_1: 0.5695 - recall_1: 0.5074 - f1_score: 0.6605 - val_loss: 0.6780 - val_accuracy: 0.5707 - val_precision_1: 0.5658 - val_recall_1: 0.4813 - val_f1_score: 0.6518\n",
            "Epoch 2/100\n",
            "\n",
            "Epoch 00002: LearningRateScheduler reducing learning rate to 1.8402588466415182e-06.\n",
            "114/114 [==============================] - 1s 13ms/step - loss: 0.6731 - accuracy: 0.5824 - precision_1: 0.5848 - recall_1: 0.5277 - f1_score: 0.6605 - val_loss: 0.6779 - val_accuracy: 0.5713 - val_precision_1: 0.5664 - val_recall_1: 0.4826 - val_f1_score: 0.6518\n",
            "Epoch 3/100\n",
            "\n",
            "Epoch 00003: LearningRateScheduler reducing learning rate to 1.7482459043094422e-06.\n",
            "114/114 [==============================] - 2s 13ms/step - loss: 0.6741 - accuracy: 0.5794 - precision_1: 0.5796 - recall_1: 0.5354 - f1_score: 0.6605 - val_loss: 0.6778 - val_accuracy: 0.5724 - val_precision_1: 0.5670 - val_recall_1: 0.4886 - val_f1_score: 0.6518\n",
            "Epoch 4/100\n",
            "\n",
            "Epoch 00004: LearningRateScheduler reducing learning rate to 1.7482459497841774e-06.\n",
            "114/114 [==============================] - 1s 13ms/step - loss: 0.6738 - accuracy: 0.5774 - precision_1: 0.5800 - recall_1: 0.5182 - f1_score: 0.6605 - val_loss: 0.6778 - val_accuracy: 0.5718 - val_precision_1: 0.5670 - val_recall_1: 0.4838 - val_f1_score: 0.6518\n",
            "Epoch 5/100\n",
            "\n",
            "Epoch 00005: LearningRateScheduler reducing learning rate to 1.7482459497841774e-06.\n",
            "114/114 [==============================] - 2s 14ms/step - loss: 0.6774 - accuracy: 0.5671 - precision_1: 0.5687 - recall_1: 0.5051 - f1_score: 0.6605 - val_loss: 0.6777 - val_accuracy: 0.5724 - val_precision_1: 0.5674 - val_recall_1: 0.4862 - val_f1_score: 0.6518\n",
            "Epoch 6/100\n",
            "\n",
            "Epoch 00006: LearningRateScheduler reducing learning rate to 1.6608336522949684e-06.\n",
            "114/114 [==============================] - 2s 14ms/step - loss: 0.6727 - accuracy: 0.5850 - precision_1: 0.5907 - recall_1: 0.5158 - f1_score: 0.6605 - val_loss: 0.6776 - val_accuracy: 0.5713 - val_precision_1: 0.5653 - val_recall_1: 0.4898 - val_f1_score: 0.6518\n",
            "Epoch 7/100\n",
            "\n",
            "Epoch 00007: LearningRateScheduler reducing learning rate to 1.6608336181889172e-06.\n",
            "114/114 [==============================] - 1s 13ms/step - loss: 0.6721 - accuracy: 0.5827 - precision_1: 0.5848 - recall_1: 0.5301 - f1_score: 0.6605 - val_loss: 0.6776 - val_accuracy: 0.5707 - val_precision_1: 0.5649 - val_recall_1: 0.4874 - val_f1_score: 0.6518\n",
            "Epoch 8/100\n",
            "\n",
            "Epoch 00008: LearningRateScheduler reducing learning rate to 1.6608336181889172e-06.\n",
            "114/114 [==============================] - 1s 13ms/step - loss: 0.6742 - accuracy: 0.5756 - precision_1: 0.5756 - recall_1: 0.5307 - f1_score: 0.6605 - val_loss: 0.6775 - val_accuracy: 0.5695 - val_precision_1: 0.5636 - val_recall_1: 0.4850 - val_f1_score: 0.6518\n",
            "Epoch 9/100\n",
            "\n",
            "Epoch 00009: LearningRateScheduler reducing learning rate to 1.5777919372794711e-06.\n",
            "114/114 [==============================] - 2s 13ms/step - loss: 0.6753 - accuracy: 0.5689 - precision_1: 0.5695 - recall_1: 0.5146 - f1_score: 0.6605 - val_loss: 0.6774 - val_accuracy: 0.5684 - val_precision_1: 0.5621 - val_recall_1: 0.4850 - val_f1_score: 0.6518\n",
            "Epoch 10/100\n",
            "\n",
            "Epoch 00010: LearningRateScheduler reducing learning rate to 1.5777919770698645e-06.\n",
            "114/114 [==============================] - 2s 14ms/step - loss: 0.6700 - accuracy: 0.5862 - precision_1: 0.5885 - recall_1: 0.5348 - f1_score: 0.6605 - val_loss: 0.6773 - val_accuracy: 0.5684 - val_precision_1: 0.5617 - val_recall_1: 0.4874 - val_f1_score: 0.6518\n",
            "Epoch 11/100\n",
            "\n",
            "Epoch 00011: LearningRateScheduler reducing learning rate to 1.5777919770698645e-06.\n",
            "114/114 [==============================] - 2s 13ms/step - loss: 0.6725 - accuracy: 0.5827 - precision_1: 0.5846 - recall_1: 0.5307 - f1_score: 0.6605 - val_loss: 0.6773 - val_accuracy: 0.5724 - val_precision_1: 0.5658 - val_recall_1: 0.4970 - val_f1_score: 0.6518\n",
            "Epoch 12/100\n",
            "\n",
            "Epoch 00012: LearningRateScheduler reducing learning rate to 1.4989023782163713e-06.\n",
            "114/114 [==============================] - 2s 14ms/step - loss: 0.6691 - accuracy: 0.5921 - precision_1: 0.5946 - recall_1: 0.5426 - f1_score: 0.6605 - val_loss: 0.6772 - val_accuracy: 0.5730 - val_precision_1: 0.5663 - val_recall_1: 0.4982 - val_f1_score: 0.6518\n",
            "Epoch 13/100\n",
            "\n",
            "Epoch 00013: LearningRateScheduler reducing learning rate to 1.4989024066380807e-06.\n",
            "114/114 [==============================] - 2s 13ms/step - loss: 0.6722 - accuracy: 0.5789 - precision_1: 0.5799 - recall_1: 0.5295 - f1_score: 0.6605 - val_loss: 0.6771 - val_accuracy: 0.5748 - val_precision_1: 0.5681 - val_recall_1: 0.5018 - val_f1_score: 0.6518\n",
            "Epoch 14/100\n",
            "\n",
            "Epoch 00014: LearningRateScheduler reducing learning rate to 1.4989024066380807e-06.\n",
            "114/114 [==============================] - 2s 13ms/step - loss: 0.6693 - accuracy: 0.5894 - precision_1: 0.5917 - recall_1: 0.5402 - f1_score: 0.6605 - val_loss: 0.6771 - val_accuracy: 0.5748 - val_precision_1: 0.5681 - val_recall_1: 0.5018 - val_f1_score: 0.6518\n",
            "Epoch 15/100\n",
            "\n",
            "Epoch 00015: LearningRateScheduler reducing learning rate to 1.4239572863061767e-06.\n",
            "114/114 [==============================] - 1s 13ms/step - loss: 0.6724 - accuracy: 0.5747 - precision_1: 0.5737 - recall_1: 0.5354 - f1_score: 0.6605 - val_loss: 0.6770 - val_accuracy: 0.5753 - val_precision_1: 0.5687 - val_recall_1: 0.5030 - val_f1_score: 0.6518\n",
            "Epoch 16/100\n",
            "\n",
            "Epoch 00016: LearningRateScheduler reducing learning rate to 1.4239573147278861e-06.\n",
            "114/114 [==============================] - 2s 14ms/step - loss: 0.6708 - accuracy: 0.5912 - precision_1: 0.5947 - recall_1: 0.5366 - f1_score: 0.6605 - val_loss: 0.6770 - val_accuracy: 0.5753 - val_precision_1: 0.5687 - val_recall_1: 0.5030 - val_f1_score: 0.6518\n",
            "Epoch 17/100\n",
            "\n",
            "Epoch 00017: LearningRateScheduler reducing learning rate to 1.4239573147278861e-06.\n",
            "114/114 [==============================] - 2s 13ms/step - loss: 0.6709 - accuracy: 0.5874 - precision_1: 0.5879 - recall_1: 0.5456 - f1_score: 0.6605 - val_loss: 0.6769 - val_accuracy: 0.5771 - val_precision_1: 0.5701 - val_recall_1: 0.5090 - val_f1_score: 0.6518\n",
            "Epoch 18/100\n",
            "\n",
            "Epoch 00018: LearningRateScheduler reducing learning rate to 1.3527594489914917e-06.\n",
            "114/114 [==============================] - 2s 13ms/step - loss: 0.6706 - accuracy: 0.5827 - precision_1: 0.5857 - recall_1: 0.5253 - f1_score: 0.6605 - val_loss: 0.6768 - val_accuracy: 0.5771 - val_precision_1: 0.5703 - val_recall_1: 0.5078 - val_f1_score: 0.6518\n",
            "Epoch 19/100\n",
            "\n",
            "Epoch 00019: LearningRateScheduler reducing learning rate to 1.3527594546758337e-06.\n",
            "114/114 [==============================] - 2s 14ms/step - loss: 0.6717 - accuracy: 0.5744 - precision_1: 0.5757 - recall_1: 0.5211 - f1_score: 0.6605 - val_loss: 0.6768 - val_accuracy: 0.5748 - val_precision_1: 0.5681 - val_recall_1: 0.5018 - val_f1_score: 0.6518\n",
            "Epoch 20/100\n",
            "\n",
            "Epoch 00020: LearningRateScheduler reducing learning rate to 1.3527594546758337e-06.\n",
            "114/114 [==============================] - 2s 14ms/step - loss: 0.6700 - accuracy: 0.5827 - precision_1: 0.5838 - recall_1: 0.5354 - f1_score: 0.6605 - val_loss: 0.6767 - val_accuracy: 0.5748 - val_precision_1: 0.5681 - val_recall_1: 0.5018 - val_f1_score: 0.6518\n",
            "Epoch 21/100\n",
            "\n",
            "Epoch 00021: LearningRateScheduler reducing learning rate to 1.285121481942042e-06.\n",
            "114/114 [==============================] - 1s 13ms/step - loss: 0.6720 - accuracy: 0.5765 - precision_1: 0.5792 - recall_1: 0.5164 - f1_score: 0.6605 - val_loss: 0.6767 - val_accuracy: 0.5748 - val_precision_1: 0.5681 - val_recall_1: 0.5018 - val_f1_score: 0.6518\n",
            "Epoch 22/100\n",
            "\n",
            "Epoch 00022: LearningRateScheduler reducing learning rate to 1.2851214705733582e-06.\n",
            "114/114 [==============================] - 1s 13ms/step - loss: 0.6686 - accuracy: 0.5921 - precision_1: 0.5963 - recall_1: 0.5348 - f1_score: 0.6605 - val_loss: 0.6766 - val_accuracy: 0.5748 - val_precision_1: 0.5681 - val_recall_1: 0.5018 - val_f1_score: 0.6518\n",
            "Epoch 23/100\n",
            "\n",
            "Epoch 00023: LearningRateScheduler reducing learning rate to 1.2851214705733582e-06.\n",
            "114/114 [==============================] - 1s 13ms/step - loss: 0.6688 - accuracy: 0.5794 - precision_1: 0.5828 - recall_1: 0.5176 - f1_score: 0.6605 - val_loss: 0.6766 - val_accuracy: 0.5724 - val_precision_1: 0.5658 - val_recall_1: 0.4970 - val_f1_score: 0.6518\n",
            "Epoch 24/100\n",
            "\n",
            "Epoch 00024: LearningRateScheduler reducing learning rate to 1.2208653970446903e-06.\n",
            "114/114 [==============================] - 1s 13ms/step - loss: 0.6725 - accuracy: 0.5818 - precision_1: 0.5849 - recall_1: 0.5229 - f1_score: 0.6605 - val_loss: 0.6766 - val_accuracy: 0.5753 - val_precision_1: 0.5683 - val_recall_1: 0.5054 - val_f1_score: 0.6518\n",
            "Epoch 25/100\n",
            "\n",
            "Epoch 00025: LearningRateScheduler reducing learning rate to 1.2208654425194254e-06.\n",
            "114/114 [==============================] - 1s 13ms/step - loss: 0.6723 - accuracy: 0.5800 - precision_1: 0.5825 - recall_1: 0.5235 - f1_score: 0.6605 - val_loss: 0.6765 - val_accuracy: 0.5759 - val_precision_1: 0.5685 - val_recall_1: 0.5090 - val_f1_score: 0.6518\n",
            "Epoch 26/100\n",
            "\n",
            "Epoch 00026: LearningRateScheduler reducing learning rate to 1.2208654425194254e-06.\n",
            "114/114 [==============================] - 1s 13ms/step - loss: 0.6691 - accuracy: 0.5959 - precision_1: 0.5973 - recall_1: 0.5539 - f1_score: 0.6605 - val_loss: 0.6765 - val_accuracy: 0.5765 - val_precision_1: 0.5695 - val_recall_1: 0.5078 - val_f1_score: 0.6518\n",
            "Epoch 27/100\n",
            "\n",
            "Epoch 00027: LearningRateScheduler reducing learning rate to 1.159822170393454e-06.\n",
            "114/114 [==============================] - 1s 12ms/step - loss: 0.6739 - accuracy: 0.5736 - precision_1: 0.5740 - recall_1: 0.5241 - f1_score: 0.6605 - val_loss: 0.6764 - val_accuracy: 0.5748 - val_precision_1: 0.5672 - val_recall_1: 0.5078 - val_f1_score: 0.6518\n",
            "Epoch 28/100\n",
            "\n",
            "Epoch 00028: LearningRateScheduler reducing learning rate to 1.1598222044995055e-06.\n",
            "114/114 [==============================] - 1s 13ms/step - loss: 0.6716 - accuracy: 0.5838 - precision_1: 0.5848 - recall_1: 0.5378 - f1_score: 0.6605 - val_loss: 0.6764 - val_accuracy: 0.5742 - val_precision_1: 0.5666 - val_recall_1: 0.5066 - val_f1_score: 0.6518\n",
            "Epoch 29/100\n",
            "\n",
            "Epoch 00029: LearningRateScheduler reducing learning rate to 1.1598222044995055e-06.\n",
            "114/114 [==============================] - 2s 13ms/step - loss: 0.6714 - accuracy: 0.5927 - precision_1: 0.5949 - recall_1: 0.5450 - f1_score: 0.6605 - val_loss: 0.6764 - val_accuracy: 0.5753 - val_precision_1: 0.5676 - val_recall_1: 0.5102 - val_f1_score: 0.6518\n",
            "Epoch 30/100\n",
            "\n",
            "Epoch 00030: LearningRateScheduler reducing learning rate to 1.10183109427453e-06.\n",
            "114/114 [==============================] - 2s 13ms/step - loss: 0.6723 - accuracy: 0.5900 - precision_1: 0.5930 - recall_1: 0.5372 - f1_score: 0.6605 - val_loss: 0.6763 - val_accuracy: 0.5753 - val_precision_1: 0.5678 - val_recall_1: 0.5090 - val_f1_score: 0.6518\n",
            "Epoch 31/100\n",
            "\n",
            "Epoch 00031: LearningRateScheduler reducing learning rate to 1.1018311170118977e-06.\n",
            "114/114 [==============================] - 1s 13ms/step - loss: 0.6722 - accuracy: 0.5777 - precision_1: 0.5781 - recall_1: 0.5313 - f1_score: 0.6605 - val_loss: 0.6763 - val_accuracy: 0.5759 - val_precision_1: 0.5684 - val_recall_1: 0.5102 - val_f1_score: 0.6518\n",
            "Epoch 32/100\n",
            "\n",
            "Epoch 00032: LearningRateScheduler reducing learning rate to 1.1018311170118977e-06.\n",
            "114/114 [==============================] - 1s 13ms/step - loss: 0.6680 - accuracy: 0.5833 - precision_1: 0.5856 - recall_1: 0.5295 - f1_score: 0.6605 - val_loss: 0.6763 - val_accuracy: 0.5753 - val_precision_1: 0.5676 - val_recall_1: 0.5102 - val_f1_score: 0.6518\n",
            "Epoch 33/100\n",
            "\n",
            "Epoch 00033: LearningRateScheduler reducing learning rate to 1.0467395611613027e-06.\n",
            "114/114 [==============================] - 1s 13ms/step - loss: 0.6701 - accuracy: 0.5850 - precision_1: 0.5851 - recall_1: 0.5444 - f1_score: 0.6605 - val_loss: 0.6762 - val_accuracy: 0.5765 - val_precision_1: 0.5688 - val_recall_1: 0.5126 - val_f1_score: 0.6518\n",
            "Epoch 34/100\n",
            "\n",
            "Epoch 00034: LearningRateScheduler reducing learning rate to 1.0467396123203798e-06.\n",
            "114/114 [==============================] - 1s 13ms/step - loss: 0.6656 - accuracy: 0.6041 - precision_1: 0.6068 - recall_1: 0.5599 - f1_score: 0.6605 - val_loss: 0.6762 - val_accuracy: 0.5759 - val_precision_1: 0.5684 - val_recall_1: 0.5102 - val_f1_score: 0.6518\n",
            "Epoch 35/100\n",
            "\n",
            "Epoch 00035: LearningRateScheduler reducing learning rate to 1.0467396123203798e-06.\n",
            "114/114 [==============================] - 1s 13ms/step - loss: 0.6699 - accuracy: 0.5827 - precision_1: 0.5834 - recall_1: 0.5372 - f1_score: 0.6605 - val_loss: 0.6762 - val_accuracy: 0.5742 - val_precision_1: 0.5666 - val_recall_1: 0.5066 - val_f1_score: 0.6518\n",
            "Epoch 36/100\n",
            "\n",
            "Epoch 00036: LearningRateScheduler reducing learning rate to 9.944026317043607e-07.\n",
            "114/114 [==============================] - 1s 13ms/step - loss: 0.6718 - accuracy: 0.5903 - precision_1: 0.5917 - recall_1: 0.5456 - f1_score: 0.6605 - val_loss: 0.6762 - val_accuracy: 0.5742 - val_precision_1: 0.5670 - val_recall_1: 0.5042 - val_f1_score: 0.6518\n",
            "Epoch 37/100\n",
            "\n",
            "Epoch 00037: LearningRateScheduler reducing learning rate to 9.94402626020019e-07.\n",
            "114/114 [==============================] - 1s 13ms/step - loss: 0.6681 - accuracy: 0.5786 - precision_1: 0.5791 - recall_1: 0.5319 - f1_score: 0.6605 - val_loss: 0.6761 - val_accuracy: 0.5753 - val_precision_1: 0.5682 - val_recall_1: 0.5066 - val_f1_score: 0.6518\n",
            "Epoch 38/100\n",
            "\n",
            "Epoch 00038: LearningRateScheduler reducing learning rate to 9.94402626020019e-07.\n",
            "114/114 [==============================] - 1s 13ms/step - loss: 0.6736 - accuracy: 0.5824 - precision_1: 0.5855 - recall_1: 0.5241 - f1_score: 0.6605 - val_loss: 0.6761 - val_accuracy: 0.5771 - val_precision_1: 0.5691 - val_recall_1: 0.5150 - val_f1_score: 0.6518\n",
            "Epoch 39/100\n",
            "\n",
            "Epoch 00039: LearningRateScheduler reducing learning rate to 9.44682494719018e-07.\n",
            "114/114 [==============================] - 1s 13ms/step - loss: 0.6680 - accuracy: 0.6029 - precision_1: 0.6085 - recall_1: 0.5462 - f1_score: 0.6605 - val_loss: 0.6760 - val_accuracy: 0.5765 - val_precision_1: 0.5688 - val_recall_1: 0.5126 - val_f1_score: 0.6518\n",
            "Epoch 40/100\n",
            "\n",
            "Epoch 00040: LearningRateScheduler reducing learning rate to 9.446824833503342e-07.\n",
            "114/114 [==============================] - 1s 13ms/step - loss: 0.6718 - accuracy: 0.5818 - precision_1: 0.5823 - recall_1: 0.5372 - f1_score: 0.6605 - val_loss: 0.6760 - val_accuracy: 0.5765 - val_precision_1: 0.5686 - val_recall_1: 0.5138 - val_f1_score: 0.6518\n",
            "Epoch 41/100\n",
            "\n",
            "Epoch 00041: LearningRateScheduler reducing learning rate to 9.446824833503342e-07.\n",
            "114/114 [==============================] - 1s 13ms/step - loss: 0.6666 - accuracy: 0.6009 - precision_1: 0.6034 - recall_1: 0.5563 - f1_score: 0.6605 - val_loss: 0.6760 - val_accuracy: 0.5771 - val_precision_1: 0.5691 - val_recall_1: 0.5150 - val_f1_score: 0.6518\n",
            "Epoch 42/100\n",
            "\n",
            "Epoch 00042: LearningRateScheduler reducing learning rate to 8.974483591828175e-07.\n",
            "114/114 [==============================] - 1s 13ms/step - loss: 0.6666 - accuracy: 0.5850 - precision_1: 0.5870 - recall_1: 0.5342 - f1_score: 0.6605 - val_loss: 0.6760 - val_accuracy: 0.5771 - val_precision_1: 0.5691 - val_recall_1: 0.5150 - val_f1_score: 0.6518\n",
            "Epoch 43/100\n",
            "\n",
            "Epoch 00043: LearningRateScheduler reducing learning rate to 8.974483307611081e-07.\n",
            "114/114 [==============================] - 1s 13ms/step - loss: 0.6718 - accuracy: 0.5853 - precision_1: 0.5852 - recall_1: 0.5462 - f1_score: 0.6605 - val_loss: 0.6759 - val_accuracy: 0.5800 - val_precision_1: 0.5718 - val_recall_1: 0.5223 - val_f1_score: 0.6518\n",
            "Epoch 44/100\n",
            "\n",
            "Epoch 00044: LearningRateScheduler reducing learning rate to 8.974483307611081e-07.\n",
            "114/114 [==============================] - 1s 13ms/step - loss: 0.6708 - accuracy: 0.5844 - precision_1: 0.5868 - recall_1: 0.5313 - f1_score: 0.6605 - val_loss: 0.6759 - val_accuracy: 0.5759 - val_precision_1: 0.5680 - val_recall_1: 0.5126 - val_f1_score: 0.6518\n",
            "Epoch 45/100\n",
            "\n",
            "Epoch 00045: LearningRateScheduler reducing learning rate to 8.525759142230527e-07.\n",
            "114/114 [==============================] - 1s 13ms/step - loss: 0.6701 - accuracy: 0.5791 - precision_1: 0.5792 - recall_1: 0.5360 - f1_score: 0.6605 - val_loss: 0.6759 - val_accuracy: 0.5771 - val_precision_1: 0.5701 - val_recall_1: 0.5090 - val_f1_score: 0.6518\n",
            "Epoch 46/100\n",
            "\n",
            "Epoch 00046: LearningRateScheduler reducing learning rate to 8.525759085387108e-07.\n",
            "114/114 [==============================] - 1s 13ms/step - loss: 0.6679 - accuracy: 0.5947 - precision_1: 0.5970 - recall_1: 0.5479 - f1_score: 0.6605 - val_loss: 0.6759 - val_accuracy: 0.5777 - val_precision_1: 0.5699 - val_recall_1: 0.5150 - val_f1_score: 0.6518\n",
            "Epoch 47/100\n",
            "\n",
            "Epoch 00047: LearningRateScheduler reducing learning rate to 8.525759085387108e-07.\n",
            "114/114 [==============================] - 1s 13ms/step - loss: 0.6711 - accuracy: 0.5830 - precision_1: 0.5830 - recall_1: 0.5420 - f1_score: 0.6605 - val_loss: 0.6758 - val_accuracy: 0.5782 - val_precision_1: 0.5707 - val_recall_1: 0.5150 - val_f1_score: 0.6518\n",
            "Epoch 48/100\n",
            "\n",
            "Epoch 00048: LearningRateScheduler reducing learning rate to 8.099471131117752e-07.\n",
            "114/114 [==============================] - 1s 13ms/step - loss: 0.6700 - accuracy: 0.5836 - precision_1: 0.5849 - recall_1: 0.5354 - f1_score: 0.6605 - val_loss: 0.6758 - val_accuracy: 0.5782 - val_precision_1: 0.5707 - val_recall_1: 0.5150 - val_f1_score: 0.6518\n",
            "Epoch 49/100\n",
            "\n",
            "Epoch 00049: LearningRateScheduler reducing learning rate to 8.099470960587496e-07.\n",
            "114/114 [==============================] - 1s 13ms/step - loss: 0.6692 - accuracy: 0.5856 - precision_1: 0.5869 - recall_1: 0.5390 - f1_score: 0.6605 - val_loss: 0.6758 - val_accuracy: 0.5788 - val_precision_1: 0.5712 - val_recall_1: 0.5162 - val_f1_score: 0.6518\n",
            "Epoch 50/100\n",
            "\n",
            "Epoch 00050: LearningRateScheduler reducing learning rate to 8.099470960587496e-07.\n",
            "114/114 [==============================] - 1s 13ms/step - loss: 0.6666 - accuracy: 0.5930 - precision_1: 0.5933 - recall_1: 0.5551 - f1_score: 0.6605 - val_loss: 0.6758 - val_accuracy: 0.5800 - val_precision_1: 0.5720 - val_recall_1: 0.5211 - val_f1_score: 0.6518\n",
            "Epoch 51/100\n",
            "\n",
            "Epoch 00051: LearningRateScheduler reducing learning rate to 7.694497412558121e-07.\n",
            "114/114 [==============================] - 1s 13ms/step - loss: 0.6686 - accuracy: 0.5827 - precision_1: 0.5826 - recall_1: 0.5420 - f1_score: 0.6605 - val_loss: 0.6757 - val_accuracy: 0.5800 - val_precision_1: 0.5716 - val_recall_1: 0.5235 - val_f1_score: 0.6518\n",
            "Epoch 52/100\n",
            "\n",
            "Epoch 00052: LearningRateScheduler reducing learning rate to 7.694497412558121e-07.\n",
            "114/114 [==============================] - 1s 13ms/step - loss: 0.6706 - accuracy: 0.5906 - precision_1: 0.5926 - recall_1: 0.5432 - f1_score: 0.6605 - val_loss: 0.6757 - val_accuracy: 0.5800 - val_precision_1: 0.5718 - val_recall_1: 0.5223 - val_f1_score: 0.6518\n",
            "Epoch 53/100\n",
            "\n",
            "Epoch 00053: LearningRateScheduler reducing learning rate to 7.694497412558121e-07.\n",
            "114/114 [==============================] - 1s 13ms/step - loss: 0.6745 - accuracy: 0.5768 - precision_1: 0.5782 - recall_1: 0.5241 - f1_score: 0.6605 - val_loss: 0.6757 - val_accuracy: 0.5800 - val_precision_1: 0.5720 - val_recall_1: 0.5211 - val_f1_score: 0.6518\n",
            "Epoch 54/100\n",
            "\n",
            "Epoch 00054: LearningRateScheduler reducing learning rate to 7.309772541930215e-07.\n",
            "114/114 [==============================] - 1s 13ms/step - loss: 0.6693 - accuracy: 0.5979 - precision_1: 0.5976 - recall_1: 0.5652 - f1_score: 0.6605 - val_loss: 0.6757 - val_accuracy: 0.5806 - val_precision_1: 0.5724 - val_recall_1: 0.5235 - val_f1_score: 0.6518\n",
            "Epoch 55/100\n",
            "\n",
            "Epoch 00055: LearningRateScheduler reducing learning rate to 7.309772627195343e-07.\n",
            "114/114 [==============================] - 2s 13ms/step - loss: 0.6716 - accuracy: 0.5800 - precision_1: 0.5793 - recall_1: 0.5414 - f1_score: 0.6605 - val_loss: 0.6757 - val_accuracy: 0.5806 - val_precision_1: 0.5726 - val_recall_1: 0.5223 - val_f1_score: 0.6518\n",
            "Epoch 56/100\n",
            "\n",
            "Epoch 00056: LearningRateScheduler reducing learning rate to 7.309772627195343e-07.\n",
            "114/114 [==============================] - 1s 13ms/step - loss: 0.6652 - accuracy: 0.5935 - precision_1: 0.5975 - recall_1: 0.5384 - f1_score: 0.6605 - val_loss: 0.6757 - val_accuracy: 0.5794 - val_precision_1: 0.5714 - val_recall_1: 0.5199 - val_f1_score: 0.6518\n",
            "Epoch 57/100\n",
            "\n",
            "Epoch 00057: LearningRateScheduler reducing learning rate to 6.944283995835576e-07.\n",
            "114/114 [==============================] - 1s 13ms/step - loss: 0.6687 - accuracy: 0.5850 - precision_1: 0.5849 - recall_1: 0.5456 - f1_score: 0.6605 - val_loss: 0.6756 - val_accuracy: 0.5812 - val_precision_1: 0.5731 - val_recall_1: 0.5235 - val_f1_score: 0.6518\n",
            "Epoch 58/100\n",
            "\n",
            "Epoch 00058: LearningRateScheduler reducing learning rate to 6.944284223209252e-07.\n",
            "114/114 [==============================] - 1s 13ms/step - loss: 0.6688 - accuracy: 0.5877 - precision_1: 0.5890 - recall_1: 0.5420 - f1_score: 0.6605 - val_loss: 0.6756 - val_accuracy: 0.5812 - val_precision_1: 0.5731 - val_recall_1: 0.5235 - val_f1_score: 0.6518\n",
            "Epoch 59/100\n",
            "\n",
            "Epoch 00059: LearningRateScheduler reducing learning rate to 6.944284223209252e-07.\n",
            "114/114 [==============================] - 1s 12ms/step - loss: 0.6694 - accuracy: 0.5991 - precision_1: 0.6032 - recall_1: 0.5468 - f1_score: 0.6605 - val_loss: 0.6756 - val_accuracy: 0.5812 - val_precision_1: 0.5731 - val_recall_1: 0.5235 - val_f1_score: 0.6518\n",
            "Epoch 60/100\n",
            "\n",
            "Epoch 00060: LearningRateScheduler reducing learning rate to 6.597070012048788e-07.\n",
            "114/114 [==============================] - 1s 13ms/step - loss: 0.6686 - accuracy: 0.5968 - precision_1: 0.5975 - recall_1: 0.5587 - f1_score: 0.6605 - val_loss: 0.6756 - val_accuracy: 0.5806 - val_precision_1: 0.5724 - val_recall_1: 0.5235 - val_f1_score: 0.6518\n",
            "Epoch 61/100\n",
            "\n",
            "Epoch 00061: LearningRateScheduler reducing learning rate to 6.597069841518532e-07.\n",
            "114/114 [==============================] - 1s 13ms/step - loss: 0.6701 - accuracy: 0.5900 - precision_1: 0.5919 - recall_1: 0.5426 - f1_score: 0.6605 - val_loss: 0.6756 - val_accuracy: 0.5800 - val_precision_1: 0.5720 - val_recall_1: 0.5211 - val_f1_score: 0.6518\n",
            "Epoch 62/100\n",
            "\n",
            "Epoch 00062: LearningRateScheduler reducing learning rate to 6.597069841518532e-07.\n",
            "114/114 [==============================] - 1s 13ms/step - loss: 0.6708 - accuracy: 0.5962 - precision_1: 0.5979 - recall_1: 0.5527 - f1_score: 0.6605 - val_loss: 0.6756 - val_accuracy: 0.5806 - val_precision_1: 0.5728 - val_recall_1: 0.5211 - val_f1_score: 0.6518\n",
            "Epoch 63/100\n",
            "\n",
            "Epoch 00063: LearningRateScheduler reducing learning rate to 6.267216349442606e-07.\n",
            "114/114 [==============================] - 1s 13ms/step - loss: 0.6693 - accuracy: 0.5736 - precision_1: 0.5724 - recall_1: 0.5342 - f1_score: 0.6605 - val_loss: 0.6755 - val_accuracy: 0.5800 - val_precision_1: 0.5722 - val_recall_1: 0.5199 - val_f1_score: 0.6518\n",
            "Epoch 64/100\n",
            "\n",
            "Epoch 00064: LearningRateScheduler reducing learning rate to 6.267216576816281e-07.\n",
            "114/114 [==============================] - 1s 13ms/step - loss: 0.6702 - accuracy: 0.5906 - precision_1: 0.5922 - recall_1: 0.5450 - f1_score: 0.6605 - val_loss: 0.6755 - val_accuracy: 0.5794 - val_precision_1: 0.5716 - val_recall_1: 0.5187 - val_f1_score: 0.6518\n",
            "Epoch 65/100\n",
            "\n",
            "Epoch 00065: LearningRateScheduler reducing learning rate to 6.267216576816281e-07.\n",
            "114/114 [==============================] - 1s 13ms/step - loss: 0.6681 - accuracy: 0.5915 - precision_1: 0.5913 - recall_1: 0.5557 - f1_score: 0.6605 - val_loss: 0.6755 - val_accuracy: 0.5800 - val_precision_1: 0.5722 - val_recall_1: 0.5199 - val_f1_score: 0.6518\n",
            "Epoch 66/100\n",
            "\n",
            "Epoch 00066: LearningRateScheduler reducing learning rate to 5.953855747975467e-07.\n",
            "114/114 [==============================] - 1s 13ms/step - loss: 0.6697 - accuracy: 0.5859 - precision_1: 0.5864 - recall_1: 0.5438 - f1_score: 0.6605 - val_loss: 0.6755 - val_accuracy: 0.5794 - val_precision_1: 0.5714 - val_recall_1: 0.5199 - val_f1_score: 0.6518\n",
            "Epoch 67/100\n",
            "\n",
            "Epoch 00067: LearningRateScheduler reducing learning rate to 5.953855861662305e-07.\n",
            "114/114 [==============================] - 1s 13ms/step - loss: 0.6704 - accuracy: 0.5803 - precision_1: 0.5823 - recall_1: 0.5265 - f1_score: 0.6605 - val_loss: 0.6755 - val_accuracy: 0.5800 - val_precision_1: 0.5722 - val_recall_1: 0.5199 - val_f1_score: 0.6518\n",
            "Epoch 68/100\n",
            "\n",
            "Epoch 00068: LearningRateScheduler reducing learning rate to 5.953855861662305e-07.\n",
            "114/114 [==============================] - 1s 13ms/step - loss: 0.6652 - accuracy: 0.5844 - precision_1: 0.5846 - recall_1: 0.5432 - f1_score: 0.6605 - val_loss: 0.6755 - val_accuracy: 0.5800 - val_precision_1: 0.5722 - val_recall_1: 0.5199 - val_f1_score: 0.6518\n",
            "Epoch 69/100\n",
            "\n",
            "Epoch 00069: LearningRateScheduler reducing learning rate to 5.656163068579189e-07.\n",
            "114/114 [==============================] - 1s 13ms/step - loss: 0.6708 - accuracy: 0.5947 - precision_1: 0.5960 - recall_1: 0.5527 - f1_score: 0.6605 - val_loss: 0.6754 - val_accuracy: 0.5800 - val_precision_1: 0.5720 - val_recall_1: 0.5211 - val_f1_score: 0.6518\n",
            "Epoch 70/100\n",
            "\n",
            "Epoch 00070: LearningRateScheduler reducing learning rate to 5.656162898048933e-07.\n",
            "114/114 [==============================] - 1s 13ms/step - loss: 0.6670 - accuracy: 0.5894 - precision_1: 0.5885 - recall_1: 0.5563 - f1_score: 0.6605 - val_loss: 0.6754 - val_accuracy: 0.5806 - val_precision_1: 0.5728 - val_recall_1: 0.5211 - val_f1_score: 0.6518\n",
            "Epoch 71/100\n",
            "\n",
            "Epoch 00071: LearningRateScheduler reducing learning rate to 5.656162898048933e-07.\n",
            "114/114 [==============================] - 1s 13ms/step - loss: 0.6694 - accuracy: 0.5877 - precision_1: 0.5887 - recall_1: 0.5438 - f1_score: 0.6605 - val_loss: 0.6754 - val_accuracy: 0.5800 - val_precision_1: 0.5720 - val_recall_1: 0.5211 - val_f1_score: 0.6518\n",
            "Epoch 72/100\n",
            "\n",
            "Epoch 00072: LearningRateScheduler reducing learning rate to 5.373354753146487e-07.\n",
            "114/114 [==============================] - 1s 13ms/step - loss: 0.6669 - accuracy: 0.5962 - precision_1: 0.5949 - recall_1: 0.5676 - f1_score: 0.6605 - val_loss: 0.6754 - val_accuracy: 0.5806 - val_precision_1: 0.5724 - val_recall_1: 0.5235 - val_f1_score: 0.6518\n",
            "Epoch 73/100\n",
            "\n",
            "Epoch 00073: LearningRateScheduler reducing learning rate to 5.373354952098452e-07.\n",
            "114/114 [==============================] - 1s 13ms/step - loss: 0.6684 - accuracy: 0.5859 - precision_1: 0.5867 - recall_1: 0.5420 - f1_score: 0.6605 - val_loss: 0.6754 - val_accuracy: 0.5806 - val_precision_1: 0.5724 - val_recall_1: 0.5235 - val_f1_score: 0.6518\n",
            "Epoch 74/100\n",
            "\n",
            "Epoch 00074: LearningRateScheduler reducing learning rate to 5.373354952098452e-07.\n",
            "114/114 [==============================] - 1s 13ms/step - loss: 0.6691 - accuracy: 0.5824 - precision_1: 0.5823 - recall_1: 0.5414 - f1_score: 0.6605 - val_loss: 0.6754 - val_accuracy: 0.5800 - val_precision_1: 0.5714 - val_recall_1: 0.5247 - val_f1_score: 0.6518\n",
            "Epoch 75/100\n",
            "\n",
            "Epoch 00075: LearningRateScheduler reducing learning rate to 5.104687204493529e-07.\n",
            "114/114 [==============================] - 1s 13ms/step - loss: 0.6668 - accuracy: 0.6029 - precision_1: 0.6078 - recall_1: 0.5491 - f1_score: 0.6605 - val_loss: 0.6754 - val_accuracy: 0.5800 - val_precision_1: 0.5712 - val_recall_1: 0.5259 - val_f1_score: 0.6518\n",
            "Epoch 76/100\n",
            "\n",
            "Epoch 00076: LearningRateScheduler reducing learning rate to 5.104687375023786e-07.\n",
            "114/114 [==============================] - 1s 13ms/step - loss: 0.6701 - accuracy: 0.5909 - precision_1: 0.5917 - recall_1: 0.5497 - f1_score: 0.6605 - val_loss: 0.6754 - val_accuracy: 0.5800 - val_precision_1: 0.5712 - val_recall_1: 0.5259 - val_f1_score: 0.6518\n",
            "Epoch 77/100\n",
            "\n",
            "Epoch 00077: LearningRateScheduler reducing learning rate to 5.104687375023786e-07.\n",
            "114/114 [==============================] - 1s 13ms/step - loss: 0.6644 - accuracy: 0.6006 - precision_1: 0.6036 - recall_1: 0.5533 - f1_score: 0.6605 - val_loss: 0.6753 - val_accuracy: 0.5788 - val_precision_1: 0.5701 - val_recall_1: 0.5235 - val_f1_score: 0.6518\n",
            "Epoch 78/100\n",
            "\n",
            "Epoch 00078: LearningRateScheduler reducing learning rate to 4.849453006272597e-07.\n",
            "114/114 [==============================] - 1s 13ms/step - loss: 0.6683 - accuracy: 0.5888 - precision_1: 0.5885 - recall_1: 0.5527 - f1_score: 0.6605 - val_loss: 0.6753 - val_accuracy: 0.5812 - val_precision_1: 0.5724 - val_recall_1: 0.5283 - val_f1_score: 0.6518\n",
            "Epoch 79/100\n",
            "\n",
            "Epoch 00079: LearningRateScheduler reducing learning rate to 4.849453034694307e-07.\n",
            "114/114 [==============================] - 1s 13ms/step - loss: 0.6660 - accuracy: 0.5968 - precision_1: 0.5975 - recall_1: 0.5587 - f1_score: 0.6605 - val_loss: 0.6753 - val_accuracy: 0.5800 - val_precision_1: 0.5712 - val_recall_1: 0.5259 - val_f1_score: 0.6518\n",
            "Epoch 80/100\n",
            "\n",
            "Epoch 00080: LearningRateScheduler reducing learning rate to 4.849453034694307e-07.\n",
            "114/114 [==============================] - 1s 13ms/step - loss: 0.6669 - accuracy: 0.5979 - precision_1: 0.5966 - recall_1: 0.5700 - f1_score: 0.6605 - val_loss: 0.6753 - val_accuracy: 0.5788 - val_precision_1: 0.5701 - val_recall_1: 0.5235 - val_f1_score: 0.6518\n",
            "Epoch 81/100\n",
            "\n",
            "Epoch 00081: LearningRateScheduler reducing learning rate to 4.606980382959591e-07.\n",
            "114/114 [==============================] - 1s 13ms/step - loss: 0.6709 - accuracy: 0.5856 - precision_1: 0.5863 - recall_1: 0.5420 - f1_score: 0.6605 - val_loss: 0.6753 - val_accuracy: 0.5800 - val_precision_1: 0.5716 - val_recall_1: 0.5235 - val_f1_score: 0.6518\n",
            "Epoch 82/100\n",
            "\n",
            "Epoch 00082: LearningRateScheduler reducing learning rate to 4.6069803261161724e-07.\n",
            "114/114 [==============================] - 1s 13ms/step - loss: 0.6663 - accuracy: 0.6021 - precision_1: 0.6045 - recall_1: 0.5581 - f1_score: 0.6605 - val_loss: 0.6753 - val_accuracy: 0.5806 - val_precision_1: 0.5718 - val_recall_1: 0.5271 - val_f1_score: 0.6518\n",
            "Epoch 83/100\n",
            "\n",
            "Epoch 00083: LearningRateScheduler reducing learning rate to 4.6069803261161724e-07.\n",
            "114/114 [==============================] - 1s 13ms/step - loss: 0.6697 - accuracy: 0.5880 - precision_1: 0.5887 - recall_1: 0.5456 - f1_score: 0.6605 - val_loss: 0.6753 - val_accuracy: 0.5794 - val_precision_1: 0.5709 - val_recall_1: 0.5235 - val_f1_score: 0.6518\n",
            "Epoch 84/100\n",
            "\n",
            "Epoch 00084: LearningRateScheduler reducing learning rate to 4.3766313098103635e-07.\n",
            "114/114 [==============================] - 1s 13ms/step - loss: 0.6672 - accuracy: 0.5950 - precision_1: 0.5963 - recall_1: 0.5533 - f1_score: 0.6605 - val_loss: 0.6753 - val_accuracy: 0.5806 - val_precision_1: 0.5716 - val_recall_1: 0.5283 - val_f1_score: 0.6518\n",
            "Epoch 85/100\n",
            "\n",
            "Epoch 00085: LearningRateScheduler reducing learning rate to 4.3766311819126713e-07.\n",
            "114/114 [==============================] - 1s 13ms/step - loss: 0.6684 - accuracy: 0.5865 - precision_1: 0.5871 - recall_1: 0.5438 - f1_score: 0.6605 - val_loss: 0.6753 - val_accuracy: 0.5806 - val_precision_1: 0.5716 - val_recall_1: 0.5283 - val_f1_score: 0.6518\n",
            "Epoch 86/100\n",
            "\n",
            "Epoch 00086: LearningRateScheduler reducing learning rate to 4.3766311819126713e-07.\n",
            "114/114 [==============================] - 1s 13ms/step - loss: 0.6701 - accuracy: 0.5786 - precision_1: 0.5772 - recall_1: 0.5432 - f1_score: 0.6605 - val_loss: 0.6753 - val_accuracy: 0.5817 - val_precision_1: 0.5735 - val_recall_1: 0.5259 - val_f1_score: 0.6518\n",
            "Epoch 87/100\n",
            "\n",
            "Epoch 00087: LearningRateScheduler reducing learning rate to 4.1577996228170373e-07.\n",
            "114/114 [==============================] - 1s 13ms/step - loss: 0.6684 - accuracy: 0.5915 - precision_1: 0.5900 - recall_1: 0.5622 - f1_score: 0.6605 - val_loss: 0.6753 - val_accuracy: 0.5800 - val_precision_1: 0.5718 - val_recall_1: 0.5223 - val_f1_score: 0.6518\n",
            "Epoch 88/100\n",
            "\n",
            "Epoch 00088: LearningRateScheduler reducing learning rate to 4.157799651238747e-07.\n",
            "114/114 [==============================] - 2s 13ms/step - loss: 0.6687 - accuracy: 0.5932 - precision_1: 0.5938 - recall_1: 0.5545 - f1_score: 0.6605 - val_loss: 0.6753 - val_accuracy: 0.5800 - val_precision_1: 0.5718 - val_recall_1: 0.5223 - val_f1_score: 0.6518\n",
            "Epoch 89/100\n",
            "\n",
            "Epoch 00089: LearningRateScheduler reducing learning rate to 4.157799651238747e-07.\n",
            "114/114 [==============================] - 2s 13ms/step - loss: 0.6706 - accuracy: 0.5897 - precision_1: 0.5904 - recall_1: 0.5485 - f1_score: 0.6605 - val_loss: 0.6752 - val_accuracy: 0.5794 - val_precision_1: 0.5712 - val_recall_1: 0.5211 - val_f1_score: 0.6518\n",
            "Epoch 90/100\n",
            "\n",
            "Epoch 00090: LearningRateScheduler reducing learning rate to 3.9499096686768094e-07.\n",
            "114/114 [==============================] - 2s 14ms/step - loss: 0.6659 - accuracy: 0.5971 - precision_1: 0.6016 - recall_1: 0.5414 - f1_score: 0.6605 - val_loss: 0.6752 - val_accuracy: 0.5794 - val_precision_1: 0.5712 - val_recall_1: 0.5211 - val_f1_score: 0.6518\n",
            "Epoch 91/100\n",
            "\n",
            "Epoch 00091: LearningRateScheduler reducing learning rate to 3.9499096260442457e-07.\n",
            "114/114 [==============================] - 2s 14ms/step - loss: 0.6678 - accuracy: 0.5918 - precision_1: 0.5932 - recall_1: 0.5479 - f1_score: 0.6605 - val_loss: 0.6752 - val_accuracy: 0.5794 - val_precision_1: 0.5712 - val_recall_1: 0.5211 - val_f1_score: 0.6518\n",
            "Epoch 92/100\n",
            "\n",
            "Epoch 00092: LearningRateScheduler reducing learning rate to 3.9499096260442457e-07.\n",
            "114/114 [==============================] - 2s 14ms/step - loss: 0.6654 - accuracy: 0.5953 - precision_1: 0.5977 - recall_1: 0.5485 - f1_score: 0.6605 - val_loss: 0.6752 - val_accuracy: 0.5788 - val_precision_1: 0.5707 - val_recall_1: 0.5199 - val_f1_score: 0.6518\n",
            "Epoch 93/100\n",
            "\n",
            "Epoch 00093: LearningRateScheduler reducing learning rate to 3.752414144742033e-07.\n",
            "114/114 [==============================] - 2s 15ms/step - loss: 0.6694 - accuracy: 0.5830 - precision_1: 0.5818 - recall_1: 0.5485 - f1_score: 0.6605 - val_loss: 0.6752 - val_accuracy: 0.5794 - val_precision_1: 0.5716 - val_recall_1: 0.5187 - val_f1_score: 0.6518\n",
            "Epoch 94/100\n",
            "\n",
            "Epoch 00094: LearningRateScheduler reducing learning rate to 3.752414272639726e-07.\n",
            "114/114 [==============================] - 2s 15ms/step - loss: 0.6665 - accuracy: 0.5906 - precision_1: 0.5928 - recall_1: 0.5420 - f1_score: 0.6605 - val_loss: 0.6752 - val_accuracy: 0.5794 - val_precision_1: 0.5716 - val_recall_1: 0.5187 - val_f1_score: 0.6518\n",
            "Epoch 95/100\n",
            "\n",
            "Epoch 00095: LearningRateScheduler reducing learning rate to 3.752414272639726e-07.\n",
            "114/114 [==============================] - 2s 15ms/step - loss: 0.6681 - accuracy: 0.5921 - precision_1: 0.5945 - recall_1: 0.5432 - f1_score: 0.6605 - val_loss: 0.6752 - val_accuracy: 0.5800 - val_precision_1: 0.5724 - val_recall_1: 0.5187 - val_f1_score: 0.6518\n",
            "Epoch 96/100\n",
            "\n",
            "Epoch 00096: LearningRateScheduler reducing learning rate to 3.564793559007739e-07.\n",
            "114/114 [==============================] - 2s 15ms/step - loss: 0.6685 - accuracy: 0.5979 - precision_1: 0.5995 - recall_1: 0.5563 - f1_score: 0.6605 - val_loss: 0.6752 - val_accuracy: 0.5788 - val_precision_1: 0.5712 - val_recall_1: 0.5162 - val_f1_score: 0.6518\n",
            "Epoch 97/100\n",
            "\n",
            "Epoch 00097: LearningRateScheduler reducing learning rate to 3.564793473742611e-07.\n",
            "114/114 [==============================] - 2s 15ms/step - loss: 0.6664 - accuracy: 0.5953 - precision_1: 0.5974 - recall_1: 0.5497 - f1_score: 0.6605 - val_loss: 0.6752 - val_accuracy: 0.5788 - val_precision_1: 0.5712 - val_recall_1: 0.5162 - val_f1_score: 0.6518\n",
            "Epoch 98/100\n",
            "\n",
            "Epoch 00098: LearningRateScheduler reducing learning rate to 3.564793473742611e-07.\n",
            "114/114 [==============================] - 2s 15ms/step - loss: 0.6686 - accuracy: 0.6009 - precision_1: 0.6054 - recall_1: 0.5473 - f1_score: 0.6605 - val_loss: 0.6752 - val_accuracy: 0.5800 - val_precision_1: 0.5724 - val_recall_1: 0.5187 - val_f1_score: 0.6518\n",
            "Epoch 99/100\n",
            "\n",
            "Epoch 00099: LearningRateScheduler reducing learning rate to 3.386553800055481e-07.\n",
            "114/114 [==============================] - 2s 15ms/step - loss: 0.6659 - accuracy: 0.5941 - precision_1: 0.5981 - recall_1: 0.5390 - f1_score: 0.6605 - val_loss: 0.6752 - val_accuracy: 0.5800 - val_precision_1: 0.5724 - val_recall_1: 0.5187 - val_f1_score: 0.6518\n",
            "Epoch 100/100\n",
            "\n",
            "Epoch 00100: LearningRateScheduler reducing learning rate to 3.38655382847719e-07.\n",
            "114/114 [==============================] - 2s 15ms/step - loss: 0.6648 - accuracy: 0.5968 - precision_1: 0.5970 - recall_1: 0.5610 - f1_score: 0.6605 - val_loss: 0.6752 - val_accuracy: 0.5800 - val_precision_1: 0.5724 - val_recall_1: 0.5187 - val_f1_score: 0.6518\n"
          ],
          "name": "stdout"
        }
      ]
    },
    {
      "cell_type": "code",
      "metadata": {
        "id": "yeT704PowDwE"
      },
      "source": [
        "model.save('bestmodel_vgg16_lstm_1.h5')\n",
        "new_model = tf.keras.models.load_model('bestmodel_vgg16_lstm_1.h5')"
      ],
      "execution_count": 33,
      "outputs": []
    },
    {
      "cell_type": "code",
      "metadata": {
        "colab": {
          "base_uri": "https://localhost:8080/"
        },
        "id": "5f7N6ClE1QZw",
        "outputId": "24bf049d-3c5b-4323-c3f2-01927024a2f8"
      },
      "source": [
        "test_prediction=model.predict([predict_test,padded_Xtest_words,subreddit_test,is_nsfw_test,time_of_day_test,\n",
        "                    created_utc_test,subscribers_test])\n",
        "test_prediction=((test_prediction > 0.5)+0).ravel() \n",
        "print(test_prediction.shape)\n",
        "y_test =tf.keras.utils.to_categorical(test_data['dank_level'].values,2)\n",
        "y_test=np.argmax(y_test,axis=-1)\n",
        "y_test.shape"
      ],
      "execution_count": 34,
      "outputs": [
        {
          "output_type": "stream",
          "text": [
            "(1719,)\n"
          ],
          "name": "stdout"
        },
        {
          "output_type": "execute_result",
          "data": {
            "text/plain": [
              "(1719,)"
            ]
          },
          "metadata": {
            "tags": []
          },
          "execution_count": 34
        }
      ]
    },
    {
      "cell_type": "code",
      "metadata": {
        "colab": {
          "base_uri": "https://localhost:8080/",
          "height": 363
        },
        "id": "pgcKigpUpDOk",
        "outputId": "d6e3f593-3597-4442-bbc6-9c152ea1fcf9"
      },
      "source": [
        "accuracy=accuracy_score(y_test,test_prediction)\n",
        "print(\"Test accuracy_score\",accuracy)\n",
        "f1_test_score=f1_score(y_test,test_prediction)\n",
        "print(\"Test F1_score\",f1_test_score)\n",
        "print(\"Test confusion matrix\")\n",
        "cnf_matrix2=confusion_matrix(y_test,test_prediction)\n",
        "p = sns.heatmap(pd.DataFrame(cnf_matrix2), annot=True, cmap=\"YlGnBu\" ,fmt='g')\n",
        "plt.title('Test confusion matrix', y=1.1)\n",
        "plt.ylabel('Actual label')\n",
        "plt.xlabel('Predicted label')"
      ],
      "execution_count": 35,
      "outputs": [
        {
          "output_type": "stream",
          "text": [
            "Test accuracy_score 0.5799883653286795\n",
            "Test F1_score 0.5441919191919193\n",
            "Test confusion matrix\n"
          ],
          "name": "stdout"
        },
        {
          "output_type": "execute_result",
          "data": {
            "text/plain": [
              "Text(0.5, 15.0, 'Predicted label')"
            ]
          },
          "metadata": {
            "tags": []
          },
          "execution_count": 35
        },
        {
          "output_type": "display_data",
          "data": {
            "image/png": "[encoded data removed]",
            "text/plain": [
              "<Figure size 432x288 with 2 Axes>"
            ]
          },
          "metadata": {
            "tags": [],
            "needs_background": "light"
          }
        }
      ]
    },
    {
      "cell_type": "code",
      "metadata": {
        "id": "fP2LwhmO3tHB",
        "colab": {
          "base_uri": "https://localhost:8080/",
          "height": 610
        },
        "outputId": "51f227a2-a5a0-4d89-e594-decf322de957"
      },
      "source": [
        "file = '/content/model_1.png'\n",
        "tf.keras.utils.plot_model(model,to_file=file, show_shapes=True)"
      ],
      "execution_count": 36,
      "outputs": [
        {
          "output_type": "execute_result",
          "data": {
            "image/png": "[encoded data removed]",
            "text/plain": [
              "<IPython.core.display.Image object>"
            ]
          },
          "metadata": {
            "tags": []
          },
          "execution_count": 36
        }
      ]
    }
  ]
}