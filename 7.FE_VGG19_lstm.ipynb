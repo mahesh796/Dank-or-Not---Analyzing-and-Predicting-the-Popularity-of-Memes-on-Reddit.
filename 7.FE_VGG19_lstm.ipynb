{
  "nbformat": 4,
  "nbformat_minor": 0,
  "metadata": {
    "accelerator": "GPU",
    "colab": {
      "name": "FE_VGG19_lstm.ipynb",
      "provenance": [],
      "collapsed_sections": []
    },
    "kernelspec": {
      "display_name": "Python 3",
      "language": "python",
      "name": "python3"
    },
    "language_info": {
      "codemirror_mode": {
        "name": "ipython",
        "version": 3
      },
      "file_extension": ".py",
      "mimetype": "text/x-python",
      "name": "python",
      "nbconvert_exporter": "python",
      "pygments_lexer": "ipython3",
      "version": "3.7.1"
    }
  },
  "cells": [
    {
      "cell_type": "code",
      "metadata": {
        "id": "PCA_Mvw0FXSS"
      },
      "source": [
        "#!unzip dank_data-master.zip\n",
        "#!pip install tensorflow_addons\n",
        "#!wget http://nlp.stanford.edu/data/glove.6B.zip\n",
        "#!unzip glove*.zip"
      ],
      "execution_count": 1,
      "outputs": []
    },
    {
      "cell_type": "code",
      "metadata": {
        "id": "syggWtlVFcAe"
      },
      "source": [
        "import glob\n",
        "import pandas as pd\n",
        "import warnings\n",
        "warnings.filterwarnings(\"ignore\")\n",
        "from tensorflow.keras.preprocessing.image import ImageDataGenerator\n",
        "from tensorflow.keras.layers import Dense,Input,Conv2D,MaxPool2D,Activation,Dropout,Flatten,Embedding,LSTM,concatenate\n",
        "from tensorflow.keras.models import Model\n",
        "import tensorflow as tf\n",
        "import logging\n",
        "import numpy as np\n",
        "import tensorflow_addons as tfa\n",
        "from tensorflow.keras.preprocessing.text import Tokenizer\n",
        "from sklearn.preprocessing import LabelEncoder\n",
        "from sklearn.preprocessing import StandardScaler\n",
        "from tensorflow.keras.applications.vgg19 import VGG19\n",
        "from tensorflow.keras.applications.vgg19 import preprocess_input\n",
        "from tensorflow.keras.callbacks import LearningRateScheduler\n",
        "from tensorflow.keras.callbacks import ReduceLROnPlateau\n",
        "from tensorflow.keras.callbacks import ModelCheckpoint\n",
        "from tensorflow.keras.callbacks import EarlyStopping\n",
        "from sklearn.metrics import confusion_matrix,accuracy_score,f1_score\n",
        "import seaborn as sns\n",
        "import matplotlib.pyplot as plt"
      ],
      "execution_count": 2,
      "outputs": []
    },
    {
      "cell_type": "code",
      "metadata": {
        "id": "ZHmexA12FYHb"
      },
      "source": [
        "training='/content/dank_data-master/data/training/*'\n",
        "test='/content/dank_data-master/data/test/*'\n",
        "validation='/content/dank_data-master/data/validation/*'"
      ],
      "execution_count": 3,
      "outputs": []
    },
    {
      "cell_type": "code",
      "metadata": {
        "id": "qhZByVWRFYJ7"
      },
      "source": [
        "training = glob.glob(training)\n",
        "test = glob.glob(test)\n",
        "validation = glob.glob(validation)"
      ],
      "execution_count": 4,
      "outputs": []
    },
    {
      "cell_type": "code",
      "metadata": {
        "id": "oY7Ch0DDFYNS"
      },
      "source": [
        "final_dank=pd.read_csv('/content/dank_data-master/data/final_dank.csv')\n",
        "train_labels = [fn.split('/')[-1].split('.')[0].strip() for fn in training]\n",
        "validation_labels = [fn.split('/')[-1].split('.')[0].strip() for fn in validation]\n",
        "test_labels = [fn.split('/')[-1].split('.')[0].strip() for fn in test]"
      ],
      "execution_count": 5,
      "outputs": []
    },
    {
      "cell_type": "code",
      "metadata": {
        "colab": {
          "base_uri": "https://localhost:8080/",
          "height": 513
        },
        "id": "74jyXu1WFjVz",
        "outputId": "bd7c647f-3d25-4227-a234-de0ec7ff2afe"
      },
      "source": [
        "for labels in train_labels:\n",
        "    if labels==train_labels[0]:\n",
        "        train_data =final_dank[final_dank['id']==labels]\n",
        "    else :\n",
        "        train_data =train_data.append(final_dank[final_dank['id']==labels],sort=False)\n",
        "for labels in validation_labels:\n",
        "    if labels==validation_labels[0]:\n",
        "        val_data =final_dank[final_dank['id']==labels]\n",
        "    else :\n",
        "        val_data =val_data.append(final_dank[final_dank['id']==labels],sort=False)\n",
        "for labels in test_labels:\n",
        "    if labels==test_labels[0]:\n",
        "        test_data =final_dank[final_dank['id']==labels]\n",
        "    else :\n",
        "        test_data =test_data.append(final_dank[final_dank['id']==labels],sort=False)\n",
        "print(train_data.shape)\n",
        "print(test_data.shape)\n",
        "print(val_data.shape)\n",
        "train_data.head(5)"
      ],
      "execution_count": 6,
      "outputs": [
        {
          "output_type": "stream",
          "text": [
            "(3405, 68)\n",
            "(1719, 68)\n",
            "(1688, 68)\n"
          ],
          "name": "stdout"
        },
        {
          "output_type": "execute_result",
          "data": {
            "text/html": [
              "<div>\n",
              "<style scoped>\n",
              "    .dataframe tbody tr th:only-of-type {\n",
              "        vertical-align: middle;\n",
              "    }\n",
              "\n",
              "    .dataframe tbody tr th {\n",
              "        vertical-align: top;\n",
              "    }\n",
              "\n",
              "    .dataframe thead th {\n",
              "        text-align: right;\n",
              "    }\n",
              "</style>\n",
              "<table border=\"1\" class=\"dataframe\">\n",
              "  <thead>\n",
              "    <tr style=\"text-align: right;\">\n",
              "      <th></th>\n",
              "      <th>Unnamed: 0</th>\n",
              "      <th>level_0</th>\n",
              "      <th>index</th>\n",
              "      <th>author</th>\n",
              "      <th>awards</th>\n",
              "      <th>processed_words</th>\n",
              "      <th>created_utc</th>\n",
              "      <th>downs</th>\n",
              "      <th>id</th>\n",
              "      <th>is_nsfw</th>\n",
              "      <th>media</th>\n",
              "      <th>subreddit</th>\n",
              "      <th>subscribers</th>\n",
              "      <th>thumbnail.height</th>\n",
              "      <th>thumbnail.thumbnail</th>\n",
              "      <th>thumbnail.width</th>\n",
              "      <th>title</th>\n",
              "      <th>ups</th>\n",
              "      <th>url</th>\n",
              "      <th>datetime_temp</th>\n",
              "      <th>time_of_day</th>\n",
              "      <th>ups_normed</th>\n",
              "      <th>dank_level</th>\n",
              "      <th>TextLength</th>\n",
              "      <th>Sentiment</th>\n",
              "      <th>word_count</th>\n",
              "      <th>avg_blueRGB</th>\n",
              "      <th>avg_greenRGB</th>\n",
              "      <th>avg_hue</th>\n",
              "      <th>avg_redRGB</th>\n",
              "      <th>avg_saturation</th>\n",
              "      <th>avg_value</th>\n",
              "      <th>off-white</th>\n",
              "      <th>aqua</th>\n",
              "      <th>mustard</th>\n",
              "      <th>pure-black</th>\n",
              "      <th>purple</th>\n",
              "      <th>red-brown</th>\n",
              "      <th>dust-brown</th>\n",
              "      <th>gray-blue</th>\n",
              "      <th>orange</th>\n",
              "      <th>salmon</th>\n",
              "      <th>dark-green</th>\n",
              "      <th>pink</th>\n",
              "      <th>pure-white</th>\n",
              "      <th>yellow-green</th>\n",
              "      <th>bright-yellow</th>\n",
              "      <th>teal</th>\n",
              "      <th>cyan</th>\n",
              "      <th>gray</th>\n",
              "      <th>maroon</th>\n",
              "      <th>olive</th>\n",
              "      <th>light-blue</th>\n",
              "      <th>plum</th>\n",
              "      <th>siena-brown</th>\n",
              "      <th>gold</th>\n",
              "      <th>pure-red</th>\n",
              "      <th>pure-green</th>\n",
              "      <th>pure-blue</th>\n",
              "      <th>coral</th>\n",
              "      <th>peach</th>\n",
              "      <th>col</th>\n",
              "      <th>vgg1_prob</th>\n",
              "      <th>vgg2_prob</th>\n",
              "      <th>vgg3_prob</th>\n",
              "      <th>vgg_feature_1</th>\n",
              "      <th>vgg_feature_2</th>\n",
              "      <th>vgg_feature_3</th>\n",
              "    </tr>\n",
              "  </thead>\n",
              "  <tbody>\n",
              "    <tr>\n",
              "      <th>53606</th>\n",
              "      <td>96606</td>\n",
              "      <td>1118.0</td>\n",
              "      <td>32771.0</td>\n",
              "      <td>SwiftScout4</td>\n",
              "      <td>[]</td>\n",
              "      <td>['dowk']</td>\n",
              "      <td>1.584914e+09</td>\n",
              "      <td>0.0</td>\n",
              "      <td>fn7zmy</td>\n",
              "      <td>False</td>\n",
              "      <td>https://i.redd.it/5wyri1k2pao41.jpg</td>\n",
              "      <td>r/memes</td>\n",
              "      <td>10674286.0</td>\n",
              "      <td>91.0</td>\n",
              "      <td>default</td>\n",
              "      <td>140.0</td>\n",
              "      <td>Yep</td>\n",
              "      <td>1.0</td>\n",
              "      <td>/r/memes/comments/fn7zmy/yep/</td>\n",
              "      <td>2020-03-22 16:50:48</td>\n",
              "      <td>3.0</td>\n",
              "      <td>9.368308e-08</td>\n",
              "      <td>0.0</td>\n",
              "      <td>63.0</td>\n",
              "      <td>0.45</td>\n",
              "      <td>1.0</td>\n",
              "      <td>154.090061</td>\n",
              "      <td>177.049433</td>\n",
              "      <td>14.463780</td>\n",
              "      <td>207.352720</td>\n",
              "      <td>66.871711</td>\n",
              "      <td>207.413170</td>\n",
              "      <td>0.026705</td>\n",
              "      <td>0.000000</td>\n",
              "      <td>0.0</td>\n",
              "      <td>0.003908</td>\n",
              "      <td>0.0</td>\n",
              "      <td>0.035172</td>\n",
              "      <td>0.095747</td>\n",
              "      <td>0.020192</td>\n",
              "      <td>0.078812</td>\n",
              "      <td>1.351533</td>\n",
              "      <td>0.001303</td>\n",
              "      <td>0.0</td>\n",
              "      <td>0.0</td>\n",
              "      <td>0.0</td>\n",
              "      <td>0.0</td>\n",
              "      <td>0.00000</td>\n",
              "      <td>0.000000</td>\n",
              "      <td>0.087280</td>\n",
              "      <td>0.005862</td>\n",
              "      <td>0.0</td>\n",
              "      <td>0.0</td>\n",
              "      <td>0.0</td>\n",
              "      <td>0.0</td>\n",
              "      <td>0.906015</td>\n",
              "      <td>0.0</td>\n",
              "      <td>0.0</td>\n",
              "      <td>0.0</td>\n",
              "      <td>0.0</td>\n",
              "      <td>1.351533</td>\n",
              "      <td>0.556245</td>\n",
              "      <td>0.429849</td>\n",
              "      <td>0.109972</td>\n",
              "      <td>0.065715</td>\n",
              "      <td>hammer</td>\n",
              "      <td>hatchet</td>\n",
              "      <td>hand_blower</td>\n",
              "    </tr>\n",
              "    <tr>\n",
              "      <th>35469</th>\n",
              "      <td>61068</td>\n",
              "      <td>63931.0</td>\n",
              "      <td>63931.0</td>\n",
              "      <td>Captain_Trisl</td>\n",
              "      <td>[]</td>\n",
              "      <td>['boy', 'hang', 'quarantinel', 'orona', 'extra']</td>\n",
              "      <td>1.584168e+09</td>\n",
              "      <td>0.0</td>\n",
              "      <td>fieaah</td>\n",
              "      <td>False</td>\n",
              "      <td>https://i.redd.it/u1hohc4n2lm41.jpg</td>\n",
              "      <td>r/memes</td>\n",
              "      <td>9552928.0</td>\n",
              "      <td>70.0</td>\n",
              "      <td>https://b.thumbs.redditmedia.com/iizmg3kqOI6Vx...</td>\n",
              "      <td>140.0</td>\n",
              "      <td>Me and the boys hanging out during quarantine</td>\n",
              "      <td>26.0</td>\n",
              "      <td>/r/memes/comments/fieaah/me_and_the_boys_hangi...</td>\n",
              "      <td>2020-03-14 01:36:23</td>\n",
              "      <td>0.0</td>\n",
              "      <td>2.721679e-06</td>\n",
              "      <td>0.0</td>\n",
              "      <td>59.0</td>\n",
              "      <td>0.49</td>\n",
              "      <td>5.0</td>\n",
              "      <td>NaN</td>\n",
              "      <td>NaN</td>\n",
              "      <td>NaN</td>\n",
              "      <td>NaN</td>\n",
              "      <td>NaN</td>\n",
              "      <td>NaN</td>\n",
              "      <td>NaN</td>\n",
              "      <td>NaN</td>\n",
              "      <td>NaN</td>\n",
              "      <td>NaN</td>\n",
              "      <td>NaN</td>\n",
              "      <td>NaN</td>\n",
              "      <td>NaN</td>\n",
              "      <td>NaN</td>\n",
              "      <td>NaN</td>\n",
              "      <td>NaN</td>\n",
              "      <td>NaN</td>\n",
              "      <td>NaN</td>\n",
              "      <td>NaN</td>\n",
              "      <td>NaN</td>\n",
              "      <td>NaN</td>\n",
              "      <td>NaN</td>\n",
              "      <td>NaN</td>\n",
              "      <td>NaN</td>\n",
              "      <td>NaN</td>\n",
              "      <td>NaN</td>\n",
              "      <td>NaN</td>\n",
              "      <td>NaN</td>\n",
              "      <td>NaN</td>\n",
              "      <td>NaN</td>\n",
              "      <td>NaN</td>\n",
              "      <td>NaN</td>\n",
              "      <td>NaN</td>\n",
              "      <td>NaN</td>\n",
              "      <td>NaN</td>\n",
              "      <td>NaN</td>\n",
              "      <td>NaN</td>\n",
              "      <td>NaN</td>\n",
              "      <td>NaN</td>\n",
              "      <td>NaN</td>\n",
              "      <td>NaN</td>\n",
              "      <td>NaN</td>\n",
              "    </tr>\n",
              "    <tr>\n",
              "      <th>11453</th>\n",
              "      <td>25253</td>\n",
              "      <td>26477.0</td>\n",
              "      <td>26477.0</td>\n",
              "      <td>Kenmoops</td>\n",
              "      <td>[]</td>\n",
              "      <td>['vehe', 'believ', 'lie', 'girl']</td>\n",
              "      <td>1.584383e+09</td>\n",
              "      <td>0.0</td>\n",
              "      <td>fjpm7n</td>\n",
              "      <td>False</td>\n",
              "      <td>https://i.redd.it/4yuywm16u2n41.jpg</td>\n",
              "      <td>r/memes</td>\n",
              "      <td>9552828.0</td>\n",
              "      <td>140.0</td>\n",
              "      <td>https://b.thumbs.redditmedia.com/n-eFw_VxX9qgw...</td>\n",
              "      <td>140.0</td>\n",
              "      <td>S be ve</td>\n",
              "      <td>28.0</td>\n",
              "      <td>/r/memes/comments/fjpm7n/s_be_ve/</td>\n",
              "      <td>2020-03-16 13:20:58</td>\n",
              "      <td>3.0</td>\n",
              "      <td>2.931069e-06</td>\n",
              "      <td>0.0</td>\n",
              "      <td>55.0</td>\n",
              "      <td>0.46</td>\n",
              "      <td>4.0</td>\n",
              "      <td>174.131270</td>\n",
              "      <td>121.785332</td>\n",
              "      <td>109.635359</td>\n",
              "      <td>118.092869</td>\n",
              "      <td>154.038706</td>\n",
              "      <td>201.257626</td>\n",
              "      <td>0.665387</td>\n",
              "      <td>0.022622</td>\n",
              "      <td>0.0</td>\n",
              "      <td>0.018721</td>\n",
              "      <td>0.0</td>\n",
              "      <td>0.294861</td>\n",
              "      <td>0.000000</td>\n",
              "      <td>0.105307</td>\n",
              "      <td>0.000000</td>\n",
              "      <td>0.000000</td>\n",
              "      <td>0.085806</td>\n",
              "      <td>0.0</td>\n",
              "      <td>0.0</td>\n",
              "      <td>0.0</td>\n",
              "      <td>0.0</td>\n",
              "      <td>12.18992</td>\n",
              "      <td>0.028862</td>\n",
              "      <td>0.022622</td>\n",
              "      <td>0.058504</td>\n",
              "      <td>0.0</td>\n",
              "      <td>0.0</td>\n",
              "      <td>0.0</td>\n",
              "      <td>0.0</td>\n",
              "      <td>0.010921</td>\n",
              "      <td>0.0</td>\n",
              "      <td>0.0</td>\n",
              "      <td>0.0</td>\n",
              "      <td>0.0</td>\n",
              "      <td>0.000000</td>\n",
              "      <td>0.001560</td>\n",
              "      <td>0.589724</td>\n",
              "      <td>0.049609</td>\n",
              "      <td>0.047696</td>\n",
              "      <td>lab_coat</td>\n",
              "      <td>pajama</td>\n",
              "      <td>stethoscope</td>\n",
              "    </tr>\n",
              "    <tr>\n",
              "      <th>53276</th>\n",
              "      <td>96125</td>\n",
              "      <td>621.0</td>\n",
              "      <td>32274.0</td>\n",
              "      <td>fantastich_freidrich</td>\n",
              "      <td>[]</td>\n",
              "      <td>['human', 'come', 'futuretim', 'travel', 'trap...</td>\n",
              "      <td>1.584917e+09</td>\n",
              "      <td>0.0</td>\n",
              "      <td>fn8ult</td>\n",
              "      <td>False</td>\n",
              "      <td>https://i.redd.it/k3nqe069yao41.jpg</td>\n",
              "      <td>r/memes</td>\n",
              "      <td>10674284.0</td>\n",
              "      <td>135.0</td>\n",
              "      <td>https://b.thumbs.redditmedia.com/1_VRahW76_09S...</td>\n",
              "      <td>140.0</td>\n",
              "      <td>Humanity won’t die, he is coming from future</td>\n",
              "      <td>50.0</td>\n",
              "      <td>/r/memes/comments/fn8ult/humanity_wont_die_he_...</td>\n",
              "      <td>2020-03-22 17:42:17</td>\n",
              "      <td>4.0</td>\n",
              "      <td>4.684155e-06</td>\n",
              "      <td>0.0</td>\n",
              "      <td>146.0</td>\n",
              "      <td>0.40</td>\n",
              "      <td>10.0</td>\n",
              "      <td>118.162830</td>\n",
              "      <td>146.873249</td>\n",
              "      <td>12.181125</td>\n",
              "      <td>181.512199</td>\n",
              "      <td>111.588219</td>\n",
              "      <td>182.762448</td>\n",
              "      <td>1.425067</td>\n",
              "      <td>0.000000</td>\n",
              "      <td>0.0</td>\n",
              "      <td>3.873203</td>\n",
              "      <td>0.0</td>\n",
              "      <td>4.176264</td>\n",
              "      <td>0.058710</td>\n",
              "      <td>0.022288</td>\n",
              "      <td>1.116026</td>\n",
              "      <td>0.777902</td>\n",
              "      <td>0.000000</td>\n",
              "      <td>0.0</td>\n",
              "      <td>0.0</td>\n",
              "      <td>0.0</td>\n",
              "      <td>0.0</td>\n",
              "      <td>0.00000</td>\n",
              "      <td>0.000000</td>\n",
              "      <td>1.262256</td>\n",
              "      <td>3.166513</td>\n",
              "      <td>0.0</td>\n",
              "      <td>0.0</td>\n",
              "      <td>0.0</td>\n",
              "      <td>0.0</td>\n",
              "      <td>52.835110</td>\n",
              "      <td>0.0</td>\n",
              "      <td>0.0</td>\n",
              "      <td>0.0</td>\n",
              "      <td>0.0</td>\n",
              "      <td>0.777902</td>\n",
              "      <td>0.078279</td>\n",
              "      <td>0.365487</td>\n",
              "      <td>0.057522</td>\n",
              "      <td>0.045649</td>\n",
              "      <td>remote_control</td>\n",
              "      <td>bathtub</td>\n",
              "      <td>washbasin</td>\n",
              "    </tr>\n",
              "    <tr>\n",
              "      <th>65568</th>\n",
              "      <td>129029</td>\n",
              "      <td>4832.0</td>\n",
              "      <td>66485.0</td>\n",
              "      <td>YashSSJB1</td>\n",
              "      <td>[]</td>\n",
              "      <td>['centr', 'attractionm', 'show', 'fulli', 'bui...</td>\n",
              "      <td>1.584688e+09</td>\n",
              "      <td>0.0</td>\n",
              "      <td>flqn9e</td>\n",
              "      <td>False</td>\n",
              "      <td>https://i.redd.it/qu5nr0tj1sn41.jpg</td>\n",
              "      <td>r/memes</td>\n",
              "      <td>10674380.0</td>\n",
              "      <td>140.0</td>\n",
              "      <td>https://a.thumbs.redditmedia.com/nHhkqeC5ANrGn...</td>\n",
              "      <td>140.0</td>\n",
              "      <td>Centre of attraction</td>\n",
              "      <td>8625.0</td>\n",
              "      <td>/r/memes/comments/flqn9e/centre_of_attraction/</td>\n",
              "      <td>2020-03-20 02:06:54</td>\n",
              "      <td>0.0</td>\n",
              "      <td>8.080095e-04</td>\n",
              "      <td>1.0</td>\n",
              "      <td>119.0</td>\n",
              "      <td>0.57</td>\n",
              "      <td>12.0</td>\n",
              "      <td>NaN</td>\n",
              "      <td>NaN</td>\n",
              "      <td>NaN</td>\n",
              "      <td>NaN</td>\n",
              "      <td>NaN</td>\n",
              "      <td>NaN</td>\n",
              "      <td>NaN</td>\n",
              "      <td>NaN</td>\n",
              "      <td>NaN</td>\n",
              "      <td>NaN</td>\n",
              "      <td>NaN</td>\n",
              "      <td>NaN</td>\n",
              "      <td>NaN</td>\n",
              "      <td>NaN</td>\n",
              "      <td>NaN</td>\n",
              "      <td>NaN</td>\n",
              "      <td>NaN</td>\n",
              "      <td>NaN</td>\n",
              "      <td>NaN</td>\n",
              "      <td>NaN</td>\n",
              "      <td>NaN</td>\n",
              "      <td>NaN</td>\n",
              "      <td>NaN</td>\n",
              "      <td>NaN</td>\n",
              "      <td>NaN</td>\n",
              "      <td>NaN</td>\n",
              "      <td>NaN</td>\n",
              "      <td>NaN</td>\n",
              "      <td>NaN</td>\n",
              "      <td>NaN</td>\n",
              "      <td>NaN</td>\n",
              "      <td>NaN</td>\n",
              "      <td>NaN</td>\n",
              "      <td>NaN</td>\n",
              "      <td>NaN</td>\n",
              "      <td>NaN</td>\n",
              "      <td>NaN</td>\n",
              "      <td>NaN</td>\n",
              "      <td>NaN</td>\n",
              "      <td>NaN</td>\n",
              "      <td>NaN</td>\n",
              "      <td>NaN</td>\n",
              "    </tr>\n",
              "  </tbody>\n",
              "</table>\n",
              "</div>"
            ],
            "text/plain": [
              "       Unnamed: 0  level_0    index  ...   vgg_feature_1 vgg_feature_2 vgg_feature_3\n",
              "53606       96606   1118.0  32771.0  ...          hammer       hatchet   hand_blower\n",
              "35469       61068  63931.0  63931.0  ...             NaN           NaN           NaN\n",
              "11453       25253  26477.0  26477.0  ...        lab_coat        pajama   stethoscope\n",
              "53276       96125    621.0  32274.0  ...  remote_control       bathtub     washbasin\n",
              "65568      129029   4832.0  66485.0  ...             NaN           NaN           NaN\n",
              "\n",
              "[5 rows x 68 columns]"
            ]
          },
          "metadata": {
            "tags": []
          },
          "execution_count": 6
        }
      ]
    },
    {
      "cell_type": "code",
      "metadata": {
        "id": "fEzG_NQiP1VI"
      },
      "source": [
        "def file_extension(x):\n",
        "      return x+\".jpg\"\n",
        "train_data['id'] = train_data['id'].apply(file_extension)\n",
        "val_data['id'] = val_data['id'].apply(file_extension)\n",
        "test_data['id'] = test_data['id'].apply(file_extension)"
      ],
      "execution_count": 7,
      "outputs": []
    },
    {
      "cell_type": "code",
      "metadata": {
        "id": "Poy1fDYfMAPT"
      },
      "source": [
        "def numeric_to_string(x):\n",
        "    if (x==1.0):\n",
        "        return 'Not_dank'\n",
        "    elif (x==0.0):\n",
        "        return 'Dank'\n",
        "train_data['dank_level_new'] = train_data['dank_level'].apply(numeric_to_string)\n",
        "val_data['dank_level_new'] = val_data['dank_level'].apply(numeric_to_string)\n",
        "test_data['dank_level_new'] = test_data['dank_level'].apply(numeric_to_string)"
      ],
      "execution_count": 8,
      "outputs": []
    },
    {
      "cell_type": "code",
      "metadata": {
        "colab": {
          "base_uri": "https://localhost:8080/"
        },
        "id": "uFKP75HJFjYH",
        "outputId": "e5ac25f8-5641-4907-9c95-bd446d5607c3"
      },
      "source": [
        "  logger = logging.getLogger()\n",
        "  logger.disabled = False  \n",
        "  train_datagen = ImageDataGenerator(zoom_range=0.3, rotation_range=50,\n",
        "                                    width_shift_range=0.2, height_shift_range=0.2, shear_range=0.2, \n",
        "                                    horizontal_flip=True, fill_mode='nearest')\n",
        "  train_generator = train_datagen.flow_from_dataframe(\n",
        "              dataframe=train_data,\n",
        "              directory=\"/content/dank_data-master/data/training/\",\n",
        "              x_col=\"id\",\n",
        "              y_col=\"dank_level_new\",\n",
        "              subset=\"training\",\n",
        "              batch_size=30,\n",
        "              seed=42,\n",
        "              class_mode=\"binary\",\n",
        "              target_size= (156,156))\n",
        "  predict_datagen = ImageDataGenerator(preprocessing_function=preprocess_input)\n",
        "  train_prediction_generator = predict_datagen.flow_from_dataframe(\n",
        "              dataframe=train_data,\n",
        "              directory=\"/content/dank_data-master/data/training/\",\n",
        "              x_col=\"id\",\n",
        "              y_col=\"dank_level_new\",\n",
        "              batch_size=30,\n",
        "              seed=42,\n",
        "              class_mode=\"binary\",\n",
        "              shuffle=False,\n",
        "              target_size= (156,156))\n",
        "  validation_prediction_generator = predict_datagen.flow_from_dataframe(\n",
        "              dataframe=val_data,\n",
        "              directory=\"/content/dank_data-master/data/validation/\",\n",
        "              x_col=\"id\",\n",
        "              y_col=\"dank_level_new\",\n",
        "              batch_size=30,\n",
        "              seed=42,\n",
        "              shuffle=False,\n",
        "              class_mode=\"binary\",\n",
        "              target_size= (156,156))\n",
        "  test_prediction_generator = predict_datagen.flow_from_dataframe(\n",
        "              dataframe=test_data,\n",
        "              directory=\"/content/dank_data-master/data/test/\",\n",
        "              x_col=\"id\",\n",
        "              y_col=\"dank_level_new\",\n",
        "              batch_size=30,\n",
        "              seed=42,\n",
        "              shuffle=False,\n",
        "              class_mode=\"binary\",\n",
        "              target_size= (156,156))"
      ],
      "execution_count": 9,
      "outputs": [
        {
          "output_type": "stream",
          "text": [
            "Found 3405 validated image filenames belonging to 2 classes.\n",
            "Found 3405 validated image filenames belonging to 2 classes.\n",
            "Found 1688 validated image filenames belonging to 2 classes.\n",
            "Found 1719 validated image filenames belonging to 2 classes.\n"
          ],
          "name": "stdout"
        }
      ]
    },
    {
      "cell_type": "code",
      "metadata": {
        "id": "iv1HH5t8QSGX",
        "colab": {
          "base_uri": "https://localhost:8080/"
        },
        "outputId": "c17b96dd-9610-47ce-b82b-664bcbf5035d"
      },
      "source": [
        "IMAGE_SIZE = [156,156]\n",
        "vgg19 = VGG19(input_shape=IMAGE_SIZE + [3], weights='imagenet', include_top=False)"
      ],
      "execution_count": 10,
      "outputs": [
        {
          "output_type": "stream",
          "text": [
            "Downloading data from https://storage.googleapis.com/tensorflow/keras-applications/vgg19/vgg19_weights_tf_dim_ordering_tf_kernels_notop.h5\n",
            "80142336/80134624 [==============================] - 0s 0us/step\n"
          ],
          "name": "stdout"
        }
      ]
    },
    {
      "cell_type": "code",
      "metadata": {
        "id": "CgyI2e9cIT3K"
      },
      "source": [
        "for layer in vgg19.layers[:16]:\n",
        "    layer.trainable = False"
      ],
      "execution_count": 11,
      "outputs": []
    },
    {
      "cell_type": "code",
      "metadata": {
        "colab": {
          "base_uri": "https://localhost:8080/"
        },
        "id": "2E23wFGhIW_E",
        "outputId": "626f7f25-3dc0-4055-9a02-e112d45e91b2"
      },
      "source": [
        "#Flatten\n",
        "flatten = Flatten(data_format='channels_last',name='Flatten')(vgg19.output)\n",
        "\n",
        "#FC layer\n",
        "FC1 = Dense(units=512,activation='relu',kernel_initializer=tf.keras.initializers.glorot_normal(seed=32),name='FC1')(flatten)\n",
        "x = Dropout(0.3)(FC1)\n",
        "#FC layer\n",
        "FC2 = Dense(units=256,activation='relu',kernel_initializer=tf.keras.initializers.glorot_normal(seed=33),name='FC2')(x)\n",
        "x = Dropout(0.3)(FC2)\n",
        "#FC layer\n",
        "FC3 = Dense(units=128,activation='relu',kernel_initializer=tf.keras.initializers.glorot_normal(seed=33),name='FC3')(x)\n",
        "x = Dropout(0.3)(FC3)\n",
        "#FC layer\n",
        "FC4 = Dense(units=64,activation='relu',kernel_initializer=tf.keras.initializers.glorot_normal(seed=33),name='FC4')(x)\n",
        "x = Dropout(0.3)(FC4)\n",
        "\n",
        "#output layer\n",
        "Out = Dense(units=1,activation='sigmoid',kernel_initializer=tf.keras.initializers.glorot_normal(seed=3),name='Output')(x)\n",
        "\n",
        "model = Model(inputs=vgg19.input, outputs=Out)\n",
        "model.summary()"
      ],
      "execution_count": 12,
      "outputs": [
        {
          "output_type": "stream",
          "text": [
            "Model: \"model\"\n",
            "_________________________________________________________________\n",
            "Layer (type)                 Output Shape              Param #   \n",
            "=================================================================\n",
            "input_1 (InputLayer)         [(None, 156, 156, 3)]     0         \n",
            "_________________________________________________________________\n",
            "block1_conv1 (Conv2D)        (None, 156, 156, 64)      1792      \n",
            "_________________________________________________________________\n",
            "block1_conv2 (Conv2D)        (None, 156, 156, 64)      36928     \n",
            "_________________________________________________________________\n",
            "block1_pool (MaxPooling2D)   (None, 78, 78, 64)        0         \n",
            "_________________________________________________________________\n",
            "block2_conv1 (Conv2D)        (None, 78, 78, 128)       73856     \n",
            "_________________________________________________________________\n",
            "block2_conv2 (Conv2D)        (None, 78, 78, 128)       147584    \n",
            "_________________________________________________________________\n",
            "block2_pool (MaxPooling2D)   (None, 39, 39, 128)       0         \n",
            "_________________________________________________________________\n",
            "block3_conv1 (Conv2D)        (None, 39, 39, 256)       295168    \n",
            "_________________________________________________________________\n",
            "block3_conv2 (Conv2D)        (None, 39, 39, 256)       590080    \n",
            "_________________________________________________________________\n",
            "block3_conv3 (Conv2D)        (None, 39, 39, 256)       590080    \n",
            "_________________________________________________________________\n",
            "block3_conv4 (Conv2D)        (None, 39, 39, 256)       590080    \n",
            "_________________________________________________________________\n",
            "block3_pool (MaxPooling2D)   (None, 19, 19, 256)       0         \n",
            "_________________________________________________________________\n",
            "block4_conv1 (Conv2D)        (None, 19, 19, 512)       1180160   \n",
            "_________________________________________________________________\n",
            "block4_conv2 (Conv2D)        (None, 19, 19, 512)       2359808   \n",
            "_________________________________________________________________\n",
            "block4_conv3 (Conv2D)        (None, 19, 19, 512)       2359808   \n",
            "_________________________________________________________________\n",
            "block4_conv4 (Conv2D)        (None, 19, 19, 512)       2359808   \n",
            "_________________________________________________________________\n",
            "block4_pool (MaxPooling2D)   (None, 9, 9, 512)         0         \n",
            "_________________________________________________________________\n",
            "block5_conv1 (Conv2D)        (None, 9, 9, 512)         2359808   \n",
            "_________________________________________________________________\n",
            "block5_conv2 (Conv2D)        (None, 9, 9, 512)         2359808   \n",
            "_________________________________________________________________\n",
            "block5_conv3 (Conv2D)        (None, 9, 9, 512)         2359808   \n",
            "_________________________________________________________________\n",
            "block5_conv4 (Conv2D)        (None, 9, 9, 512)         2359808   \n",
            "_________________________________________________________________\n",
            "block5_pool (MaxPooling2D)   (None, 4, 4, 512)         0         \n",
            "_________________________________________________________________\n",
            "Flatten (Flatten)            (None, 8192)              0         \n",
            "_________________________________________________________________\n",
            "FC1 (Dense)                  (None, 512)               4194816   \n",
            "_________________________________________________________________\n",
            "dropout (Dropout)            (None, 512)               0         \n",
            "_________________________________________________________________\n",
            "FC2 (Dense)                  (None, 256)               131328    \n",
            "_________________________________________________________________\n",
            "dropout_1 (Dropout)          (None, 256)               0         \n",
            "_________________________________________________________________\n",
            "FC3 (Dense)                  (None, 128)               32896     \n",
            "_________________________________________________________________\n",
            "dropout_2 (Dropout)          (None, 128)               0         \n",
            "_________________________________________________________________\n",
            "FC4 (Dense)                  (None, 64)                8256      \n",
            "_________________________________________________________________\n",
            "dropout_3 (Dropout)          (None, 64)                0         \n",
            "_________________________________________________________________\n",
            "Output (Dense)               (None, 1)                 65        \n",
            "=================================================================\n",
            "Total params: 24,391,745\n",
            "Trainable params: 13,806,593\n",
            "Non-trainable params: 10,585,152\n",
            "_________________________________________________________________\n"
          ],
          "name": "stdout"
        }
      ]
    },
    {
      "cell_type": "code",
      "metadata": {
        "id": "p88y0YEjqRAV"
      },
      "source": [
        "def scheduler(epoch,lr):\n",
        "    if((epoch+1)%3==0):\n",
        "        lr=lr*0.95\n",
        "        return lr\n",
        "    else:\n",
        "        return lr"
      ],
      "execution_count": 13,
      "outputs": []
    },
    {
      "cell_type": "code",
      "metadata": {
        "id": "hJY2U-CdRZPz"
      },
      "source": [
        "\n",
        "filepath=\"model_save/weights-{epoch:02d}-{val_accuracy:.4f}.h5\"\n",
        "checkpoint = ModelCheckpoint(filepath=filepath, monitor='val_accuracy',mode='auto')\n",
        "\n",
        "\n",
        "\n",
        "lrschedule = tf.keras.callbacks.LearningRateScheduler(scheduler,verbose=0.1)\n",
        "\n",
        "#stop the training if your validation accuracy is not increased in last 2 epochs.\n",
        "early_stop= EarlyStopping(monitor='val_accuracy', patience=3,verbose=1) \n",
        "\n",
        "#If your validation accuracy at that epoch is less than previous epoch accuracy, you have to decrese the\n",
        "#learning rate by 10%\n",
        "reduce_lr = ReduceLROnPlateau(monitor='val_accuracy', factor=0.75,\n",
        "                              patience=3, min_lr=0.001,verbose=1)\n",
        "\n",
        "model.compile(\n",
        "  loss='binary_crossentropy',\n",
        "  optimizer=tf.keras.optimizers.RMSprop(lr=1e-5), \n",
        "  metrics=['accuracy',tf.keras.metrics.Precision(),tf.keras.metrics.Recall(),tfa.metrics.F1Score(num_classes=1)]\n",
        ")\n"
      ],
      "execution_count": 14,
      "outputs": []
    },
    {
      "cell_type": "code",
      "metadata": {
        "colab": {
          "base_uri": "https://localhost:8080/"
        },
        "id": "p87uS1cERdgV",
        "outputId": "871b9f8f-b968-4865-f48f-9e4eae42e21c"
      },
      "source": [
        "history=model.fit_generator(train_generator,steps_per_epoch=len(train_generator),epochs=50,validation_data=test_prediction_generator,validation_steps=len(test_prediction_generator),use_multiprocessing=False,workers=12,callbacks=[lrschedule,checkpoint,reduce_lr])"
      ],
      "execution_count": 15,
      "outputs": [
        {
          "output_type": "stream",
          "text": [
            "Epoch 1/50\n",
            "\n",
            "Epoch 00001: LearningRateScheduler reducing learning rate to 9.999999747378752e-06.\n",
            "114/114 [==============================] - 135s 853ms/step - loss: 3.6040 - accuracy: 0.4894 - precision: 0.4835 - recall: 0.5506 - f1_score: 0.6585 - val_loss: 0.8417 - val_accuracy: 0.4933 - val_precision: 0.4799 - val_recall: 0.5752 - val_f1_score: 0.6518\n",
            "Epoch 2/50\n",
            "\n",
            "Epoch 00002: LearningRateScheduler reducing learning rate to 9.999999747378752e-06.\n",
            "114/114 [==============================] - 96s 789ms/step - loss: 0.8700 - accuracy: 0.5080 - precision: 0.4994 - recall: 0.5149 - f1_score: 0.6587 - val_loss: 0.7078 - val_accuracy: 0.5090 - val_precision: 0.4937 - val_recall: 0.6113 - val_f1_score: 0.6518\n",
            "Epoch 3/50\n",
            "\n",
            "Epoch 00003: LearningRateScheduler reducing learning rate to 9.499999760009813e-06.\n",
            "114/114 [==============================] - 94s 779ms/step - loss: 0.7044 - accuracy: 0.5134 - precision: 0.5070 - recall: 0.5182 - f1_score: 0.6606 - val_loss: 0.6978 - val_accuracy: 0.5067 - val_precision: 0.4901 - val_recall: 0.5078 - val_f1_score: 0.6518\n",
            "Epoch 4/50\n",
            "\n",
            "Epoch 00004: LearningRateScheduler reducing learning rate to 9.499999578110874e-06.\n",
            "114/114 [==============================] - 95s 787ms/step - loss: 0.6994 - accuracy: 0.4834 - precision: 0.4763 - recall: 0.2949 - f1_score: 0.6675 - val_loss: 0.6974 - val_accuracy: 0.5096 - val_precision: 0.4907 - val_recall: 0.3815 - val_f1_score: 0.6518\n",
            "Epoch 5/50\n",
            "\n",
            "Epoch 00005: LearningRateScheduler reducing learning rate to 9.499999578110874e-06.\n",
            "114/114 [==============================] - 93s 765ms/step - loss: 0.6972 - accuracy: 0.5171 - precision: 0.5101 - recall: 0.2913 - f1_score: 0.6569 - val_loss: 0.6957 - val_accuracy: 0.4968 - val_precision: 0.4678 - val_recall: 0.2972 - val_f1_score: 0.6518\n",
            "Epoch 6/50\n",
            "\n",
            "Epoch 00006: LearningRateScheduler reducing learning rate to 9.02499959920533e-06.\n",
            "114/114 [==============================] - 95s 784ms/step - loss: 0.6942 - accuracy: 0.4850 - precision: 0.4418 - recall: 0.1585 - f1_score: 0.6611 - val_loss: 0.6967 - val_accuracy: 0.4852 - val_precision: 0.4338 - val_recall: 0.2130 - val_f1_score: 0.6518\n",
            "Epoch 7/50\n",
            "\n",
            "Epoch 00007: LearningRateScheduler reducing learning rate to 9.02499959920533e-06.\n",
            "114/114 [==============================] - 96s 775ms/step - loss: 0.6946 - accuracy: 0.5001 - precision: 0.4775 - recall: 0.1480 - f1_score: 0.6598 - val_loss: 0.6951 - val_accuracy: 0.4904 - val_precision: 0.4501 - val_recall: 0.2443 - val_f1_score: 0.6518\n",
            "Epoch 8/50\n",
            "\n",
            "Epoch 00008: LearningRateScheduler reducing learning rate to 9.02499959920533e-06.\n",
            "114/114 [==============================] - 97s 783ms/step - loss: 0.6944 - accuracy: 0.5176 - precision: 0.5121 - recall: 0.1557 - f1_score: 0.6538 - val_loss: 0.6949 - val_accuracy: 0.4939 - val_precision: 0.4541 - val_recall: 0.2323 - val_f1_score: 0.6518\n",
            "Epoch 9/50\n",
            "\n",
            "Epoch 00009: LearningRateScheduler reducing learning rate to 8.573749619245064e-06.\n",
            "114/114 [==============================] - 95s 780ms/step - loss: 0.6948 - accuracy: 0.4910 - precision: 0.4171 - recall: 0.1446 - f1_score: 0.6502 - val_loss: 0.6943 - val_accuracy: 0.5026 - val_precision: 0.4318 - val_recall: 0.0915 - val_f1_score: 0.6518\n",
            "Epoch 10/50\n",
            "\n",
            "Epoch 00010: LearningRateScheduler reducing learning rate to 8.573749255447183e-06.\n",
            "114/114 [==============================] - 97s 779ms/step - loss: 0.6944 - accuracy: 0.5068 - precision: 0.4617 - recall: 0.0632 - f1_score: 0.6558 - val_loss: 0.6935 - val_accuracy: 0.5020 - val_precision: 0.3656 - val_recall: 0.0409 - val_f1_score: 0.6518\n",
            "Epoch 11/50\n",
            "\n",
            "Epoch 00011: LearningRateScheduler reducing learning rate to 8.573749255447183e-06.\n",
            "114/114 [==============================] - 93s 770ms/step - loss: 0.6938 - accuracy: 0.4902 - precision: 0.4176 - recall: 0.0548 - f1_score: 0.6667 - val_loss: 0.6928 - val_accuracy: 0.5084 - val_precision: 0.4028 - val_recall: 0.0349 - val_f1_score: 0.6518\n",
            "Epoch 12/50\n",
            "\n",
            "Epoch 00012: LearningRateScheduler reducing learning rate to 8.145061792674824e-06.\n",
            "114/114 [==============================] - 95s 761ms/step - loss: 0.6928 - accuracy: 0.4940 - precision: 0.4109 - recall: 0.0562 - f1_score: 0.6619 - val_loss: 0.6928 - val_accuracy: 0.5125 - val_precision: 0.4568 - val_recall: 0.0445 - val_f1_score: 0.6518\n",
            "Epoch 13/50\n",
            "\n",
            "Epoch 00013: LearningRateScheduler reducing learning rate to 8.145061656250618e-06.\n",
            "114/114 [==============================] - 92s 764ms/step - loss: 0.6943 - accuracy: 0.4947 - precision: 0.4630 - recall: 0.0650 - f1_score: 0.6669 - val_loss: 0.6938 - val_accuracy: 0.5108 - val_precision: 0.4107 - val_recall: 0.0277 - val_f1_score: 0.6518\n",
            "Epoch 14/50\n",
            "\n",
            "Epoch 00014: LearningRateScheduler reducing learning rate to 8.145061656250618e-06.\n",
            "114/114 [==============================] - 95s 762ms/step - loss: 0.6974 - accuracy: 0.4855 - precision: 0.3932 - recall: 0.0611 - f1_score: 0.6647 - val_loss: 0.6993 - val_accuracy: 0.5166 - val_precision: 0.5000 - val_recall: 0.0036 - val_f1_score: 0.6518\n",
            "Epoch 15/50\n",
            "\n",
            "Epoch 00015: LearningRateScheduler reducing learning rate to 7.737808573438087e-06.\n",
            "114/114 [==============================] - 93s 771ms/step - loss: 0.6932 - accuracy: 0.5019 - precision: 0.5190 - recall: 0.0739 - f1_score: 0.6673 - val_loss: 0.6954 - val_accuracy: 0.5166 - val_precision: 0.5000 - val_recall: 0.0024 - val_f1_score: 0.6518\n",
            "Epoch 16/50\n",
            "\n",
            "Epoch 00016: LearningRateScheduler reducing learning rate to 7.737808118690737e-06.\n",
            "114/114 [==============================] - 92s 759ms/step - loss: 0.6938 - accuracy: 0.5049 - precision: 0.4163 - recall: 0.0446 - f1_score: 0.6541 - val_loss: 0.6944 - val_accuracy: 0.5177 - val_precision: 1.0000 - val_recall: 0.0024 - val_f1_score: 0.6518\n",
            "Epoch 17/50\n",
            "\n",
            "Epoch 00017: LearningRateScheduler reducing learning rate to 7.737808118690737e-06.\n",
            "114/114 [==============================] - 92s 768ms/step - loss: 0.6936 - accuracy: 0.4848 - precision: 0.3690 - recall: 0.0273 - f1_score: 0.6712 - val_loss: 0.6960 - val_accuracy: 0.5172 - val_precision: 1.0000 - val_recall: 0.0012 - val_f1_score: 0.6518\n",
            "Epoch 18/50\n",
            "\n",
            "Epoch 00018: LearningRateScheduler reducing learning rate to 7.3509177127562e-06.\n",
            "114/114 [==============================] - 91s 748ms/step - loss: 0.6949 - accuracy: 0.4924 - precision: 0.5216 - recall: 0.0494 - f1_score: 0.6758 - val_loss: 0.6955 - val_accuracy: 0.5166 - val_precision: 0.5000 - val_recall: 0.0012 - val_f1_score: 0.6518\n",
            "Epoch 19/50\n",
            "\n",
            "Epoch 00019: LearningRateScheduler reducing learning rate to 7.3509177127562e-06.\n",
            "114/114 [==============================] - 97s 802ms/step - loss: 0.6918 - accuracy: 0.5111 - precision: 0.4611 - recall: 0.0443 - f1_score: 0.6537 - val_loss: 0.6956 - val_accuracy: 0.5166 - val_precision: 0.0000e+00 - val_recall: 0.0000e+00 - val_f1_score: 0.6518\n",
            "Epoch 20/50\n",
            "\n",
            "Epoch 00020: LearningRateScheduler reducing learning rate to 7.3509177127562e-06.\n",
            "114/114 [==============================] - 100s 810ms/step - loss: 0.6902 - accuracy: 0.5113 - precision: 0.4562 - recall: 0.0444 - f1_score: 0.6529 - val_loss: 0.6946 - val_accuracy: 0.5166 - val_precision: 0.0000e+00 - val_recall: 0.0000e+00 - val_f1_score: 0.6518\n",
            "Epoch 21/50\n",
            "\n",
            "Epoch 00021: LearningRateScheduler reducing learning rate to 6.983371827118389e-06.\n",
            "114/114 [==============================] - 98s 790ms/step - loss: 0.6895 - accuracy: 0.5118 - precision: 0.4501 - recall: 0.0607 - f1_score: 0.6500 - val_loss: 0.6939 - val_accuracy: 0.5166 - val_precision: 0.0000e+00 - val_recall: 0.0000e+00 - val_f1_score: 0.6518\n",
            "Epoch 22/50\n",
            "\n",
            "Epoch 00022: LearningRateScheduler reducing learning rate to 6.983371804381022e-06.\n",
            "114/114 [==============================] - 99s 830ms/step - loss: 0.6912 - accuracy: 0.5238 - precision: 0.5269 - recall: 0.1544 - f1_score: 0.6523 - val_loss: 0.6934 - val_accuracy: 0.5113 - val_precision: 0.4960 - val_recall: 0.6775 - val_f1_score: 0.6518\n",
            "Epoch 23/50\n",
            "\n",
            "Epoch 00023: LearningRateScheduler reducing learning rate to 6.983371804381022e-06.\n",
            "114/114 [==============================] - 102s 818ms/step - loss: 0.6920 - accuracy: 0.5060 - precision: 0.4840 - recall: 0.2326 - f1_score: 0.6543 - val_loss: 0.6928 - val_accuracy: 0.5079 - val_precision: 0.4932 - val_recall: 0.6510 - val_f1_score: 0.6518\n",
            "Epoch 24/50\n",
            "\n",
            "Epoch 00024: LearningRateScheduler reducing learning rate to 6.6342032141619704e-06.\n",
            "114/114 [==============================] - 97s 818ms/step - loss: 0.6873 - accuracy: 0.4996 - precision: 0.4626 - recall: 0.2717 - f1_score: 0.6484 - val_loss: 0.6987 - val_accuracy: 0.5224 - val_precision: 0.5056 - val_recall: 0.5427 - val_f1_score: 0.6518\n",
            "Epoch 25/50\n",
            "\n",
            "Epoch 00025: LearningRateScheduler reducing learning rate to 6.6342031459498685e-06.\n",
            "114/114 [==============================] - 99s 794ms/step - loss: 0.6898 - accuracy: 0.5280 - precision: 0.5149 - recall: 0.5249 - f1_score: 0.6548 - val_loss: 0.6944 - val_accuracy: 0.5084 - val_precision: 0.4940 - val_recall: 0.6883 - val_f1_score: 0.6518\n",
            "Epoch 26/50\n",
            "\n",
            "Epoch 00026: LearningRateScheduler reducing learning rate to 6.6342031459498685e-06.\n",
            "114/114 [==============================] - 97s 806ms/step - loss: 0.6902 - accuracy: 0.5366 - precision: 0.5329 - recall: 0.6687 - f1_score: 0.6712 - val_loss: 0.6949 - val_accuracy: 0.5207 - val_precision: 0.5033 - val_recall: 0.6498 - val_f1_score: 0.6518\n",
            "Epoch 27/50\n",
            "\n",
            "Epoch 00027: LearningRateScheduler reducing learning rate to 6.302492988652374e-06.\n",
            "114/114 [==============================] - 96s 796ms/step - loss: 0.6906 - accuracy: 0.5127 - precision: 0.5091 - recall: 0.6430 - f1_score: 0.6649 - val_loss: 0.6947 - val_accuracy: 0.5259 - val_precision: 0.5075 - val_recall: 0.6498 - val_f1_score: 0.6518\n",
            "Epoch 28/50\n",
            "\n",
            "Epoch 00028: LearningRateScheduler reducing learning rate to 6.302493147813948e-06.\n",
            "114/114 [==============================] - 97s 806ms/step - loss: 0.6914 - accuracy: 0.5268 - precision: 0.5145 - recall: 0.6960 - f1_score: 0.6602 - val_loss: 0.6962 - val_accuracy: 0.5143 - val_precision: 0.4982 - val_recall: 0.6546 - val_f1_score: 0.6518\n",
            "Epoch 29/50\n",
            "\n",
            "Epoch 00029: LearningRateScheduler reducing learning rate to 6.302493147813948e-06.\n",
            "114/114 [==============================] - 97s 805ms/step - loss: 0.6886 - accuracy: 0.5555 - precision: 0.5375 - recall: 0.7402 - f1_score: 0.6627 - val_loss: 0.6958 - val_accuracy: 0.5137 - val_precision: 0.4977 - val_recall: 0.6606 - val_f1_score: 0.6518\n",
            "Epoch 30/50\n",
            "\n",
            "Epoch 00030: LearningRateScheduler reducing learning rate to 5.98736849042325e-06.\n",
            "114/114 [==============================] - 99s 804ms/step - loss: 0.6880 - accuracy: 0.5384 - precision: 0.5185 - recall: 0.7560 - f1_score: 0.6554 - val_loss: 0.6959 - val_accuracy: 0.5230 - val_precision: 0.5050 - val_recall: 0.6631 - val_f1_score: 0.6518\n",
            "Epoch 31/50\n",
            "\n",
            "Epoch 00031: LearningRateScheduler reducing learning rate to 5.987368695059558e-06.\n",
            "114/114 [==============================] - 95s 779ms/step - loss: 0.6893 - accuracy: 0.5234 - precision: 0.5054 - recall: 0.7626 - f1_score: 0.6528 - val_loss: 0.6962 - val_accuracy: 0.5236 - val_precision: 0.5054 - val_recall: 0.6799 - val_f1_score: 0.6518\n",
            "Epoch 32/50\n",
            "\n",
            "Epoch 00032: LearningRateScheduler reducing learning rate to 5.987368695059558e-06.\n",
            "114/114 [==============================] - 96s 798ms/step - loss: 0.6826 - accuracy: 0.5726 - precision: 0.5488 - recall: 0.7746 - f1_score: 0.6626 - val_loss: 0.6955 - val_accuracy: 0.5265 - val_precision: 0.5100 - val_recall: 0.5211 - val_f1_score: 0.6518\n",
            "Epoch 33/50\n",
            "\n",
            "Epoch 00033: LearningRateScheduler reducing learning rate to 5.68800026030658e-06.\n",
            "114/114 [==============================] - 95s 784ms/step - loss: 0.6852 - accuracy: 0.5453 - precision: 0.5289 - recall: 0.7124 - f1_score: 0.6606 - val_loss: 0.6965 - val_accuracy: 0.5369 - val_precision: 0.5202 - val_recall: 0.5415 - val_f1_score: 0.6518\n",
            "Epoch 34/50\n",
            "\n",
            "Epoch 00034: LearningRateScheduler reducing learning rate to 5.688000328518683e-06.\n",
            "114/114 [==============================] - 95s 791ms/step - loss: 0.6873 - accuracy: 0.5387 - precision: 0.5249 - recall: 0.7080 - f1_score: 0.6618 - val_loss: 0.6969 - val_accuracy: 0.5451 - val_precision: 0.5259 - val_recall: 0.5993 - val_f1_score: 0.6518\n",
            "Epoch 35/50\n",
            "\n",
            "Epoch 00035: LearningRateScheduler reducing learning rate to 5.688000328518683e-06.\n",
            "114/114 [==============================] - 96s 795ms/step - loss: 0.6814 - accuracy: 0.5277 - precision: 0.5021 - recall: 0.7002 - f1_score: 0.6445 - val_loss: 0.6974 - val_accuracy: 0.5241 - val_precision: 0.5073 - val_recall: 0.5403 - val_f1_score: 0.6518\n",
            "Epoch 36/50\n",
            "\n",
            "Epoch 00036: LearningRateScheduler reducing learning rate to 5.403600312092749e-06.\n",
            "114/114 [==============================] - 100s 803ms/step - loss: 0.6937 - accuracy: 0.5541 - precision: 0.5322 - recall: 0.7297 - f1_score: 0.6563 - val_loss: 0.6943 - val_accuracy: 0.5393 - val_precision: 0.5186 - val_recall: 0.6546 - val_f1_score: 0.6518\n",
            "Epoch 37/50\n",
            "\n",
            "Epoch 00037: LearningRateScheduler reducing learning rate to 5.403600425779587e-06.\n",
            "114/114 [==============================] - 97s 803ms/step - loss: 0.6843 - accuracy: 0.5448 - precision: 0.5330 - recall: 0.7698 - f1_score: 0.6691 - val_loss: 0.6976 - val_accuracy: 0.5358 - val_precision: 0.5170 - val_recall: 0.6053 - val_f1_score: 0.6518\n",
            "Epoch 38/50\n",
            "\n",
            "Epoch 00038: LearningRateScheduler reducing learning rate to 5.403600425779587e-06.\n",
            "114/114 [==============================] - 99s 796ms/step - loss: 0.6784 - accuracy: 0.5680 - precision: 0.5533 - recall: 0.7173 - f1_score: 0.6678 - val_loss: 0.7158 - val_accuracy: 0.5317 - val_precision: 0.5173 - val_recall: 0.4681 - val_f1_score: 0.6518\n",
            "Epoch 39/50\n",
            "\n",
            "Epoch 00039: LearningRateScheduler reducing learning rate to 5.133420404490607e-06.\n",
            "114/114 [==============================] - 102s 809ms/step - loss: 0.6910 - accuracy: 0.5452 - precision: 0.5332 - recall: 0.7298 - f1_score: 0.6662 - val_loss: 0.6994 - val_accuracy: 0.5492 - val_precision: 0.5297 - val_recall: 0.6017 - val_f1_score: 0.6518\n",
            "Epoch 40/50\n",
            "\n",
            "Epoch 00040: LearningRateScheduler reducing learning rate to 5.13342047270271e-06.\n",
            "114/114 [==============================] - 97s 803ms/step - loss: 0.6849 - accuracy: 0.5482 - precision: 0.5297 - recall: 0.7326 - f1_score: 0.6598 - val_loss: 0.7005 - val_accuracy: 0.5375 - val_precision: 0.5199 - val_recall: 0.5656 - val_f1_score: 0.6518\n",
            "Epoch 41/50\n",
            "\n",
            "Epoch 00041: LearningRateScheduler reducing learning rate to 5.13342047270271e-06.\n",
            "114/114 [==============================] - 100s 806ms/step - loss: 0.6871 - accuracy: 0.5437 - precision: 0.5239 - recall: 0.7479 - f1_score: 0.6575 - val_loss: 0.7103 - val_accuracy: 0.5532 - val_precision: 0.5370 - val_recall: 0.5499 - val_f1_score: 0.6518\n",
            "Epoch 42/50\n",
            "\n",
            "Epoch 00042: LearningRateScheduler reducing learning rate to 4.876749449067574e-06.\n",
            "114/114 [==============================] - 98s 797ms/step - loss: 0.6797 - accuracy: 0.5598 - precision: 0.5297 - recall: 0.7368 - f1_score: 0.6483 - val_loss: 0.6990 - val_accuracy: 0.5369 - val_precision: 0.5169 - val_recall: 0.6450 - val_f1_score: 0.6518\n",
            "Epoch 43/50\n",
            "\n",
            "Epoch 00043: LearningRateScheduler reducing learning rate to 4.8767492444312666e-06.\n",
            "114/114 [==============================] - 100s 802ms/step - loss: 0.6823 - accuracy: 0.5637 - precision: 0.5435 - recall: 0.7637 - f1_score: 0.6639 - val_loss: 0.6965 - val_accuracy: 0.5364 - val_precision: 0.5152 - val_recall: 0.6931 - val_f1_score: 0.6518\n",
            "Epoch 44/50\n",
            "\n",
            "Epoch 00044: LearningRateScheduler reducing learning rate to 4.8767492444312666e-06.\n",
            "114/114 [==============================] - 96s 788ms/step - loss: 0.6888 - accuracy: 0.5431 - precision: 0.5235 - recall: 0.8116 - f1_score: 0.6602 - val_loss: 0.7194 - val_accuracy: 0.5329 - val_precision: 0.5188 - val_recall: 0.4645 - val_f1_score: 0.6518\n",
            "Epoch 45/50\n",
            "\n",
            "Epoch 00045: LearningRateScheduler reducing learning rate to 4.632911782209703e-06.\n",
            "114/114 [==============================] - 101s 809ms/step - loss: 0.6789 - accuracy: 0.5825 - precision: 0.5624 - recall: 0.7230 - f1_score: 0.6633 - val_loss: 0.7005 - val_accuracy: 0.5398 - val_precision: 0.5196 - val_recall: 0.6366 - val_f1_score: 0.6518\n",
            "Epoch 46/50\n",
            "\n",
            "Epoch 00046: LearningRateScheduler reducing learning rate to 4.632911895896541e-06.\n",
            "114/114 [==============================] - 100s 810ms/step - loss: 0.6761 - accuracy: 0.5856 - precision: 0.5666 - recall: 0.7867 - f1_score: 0.6743 - val_loss: 0.7054 - val_accuracy: 0.5311 - val_precision: 0.5123 - val_recall: 0.6245 - val_f1_score: 0.6518\n",
            "Epoch 47/50\n",
            "\n",
            "Epoch 00047: LearningRateScheduler reducing learning rate to 4.632911895896541e-06.\n",
            "114/114 [==============================] - 96s 802ms/step - loss: 0.6761 - accuracy: 0.5667 - precision: 0.5402 - recall: 0.7805 - f1_score: 0.6578 - val_loss: 0.7097 - val_accuracy: 0.5329 - val_precision: 0.5133 - val_recall: 0.6486 - val_f1_score: 0.6518\n",
            "Epoch 48/50\n",
            "\n",
            "Epoch 00048: LearningRateScheduler reducing learning rate to 4.4012663011017136e-06.\n",
            "114/114 [==============================] - 96s 790ms/step - loss: 0.6790 - accuracy: 0.5360 - precision: 0.5132 - recall: 0.7860 - f1_score: 0.6515 - val_loss: 0.7040 - val_accuracy: 0.5317 - val_precision: 0.5112 - val_recall: 0.7136 - val_f1_score: 0.6518\n",
            "Epoch 49/50\n",
            "\n",
            "Epoch 00049: LearningRateScheduler reducing learning rate to 4.4012663238390815e-06.\n",
            "114/114 [==============================] - 96s 803ms/step - loss: 0.6728 - accuracy: 0.5618 - precision: 0.5348 - recall: 0.8069 - f1_score: 0.6571 - val_loss: 0.7160 - val_accuracy: 0.5230 - val_precision: 0.5055 - val_recall: 0.6125 - val_f1_score: 0.6518\n",
            "Epoch 50/50\n",
            "\n",
            "Epoch 00050: LearningRateScheduler reducing learning rate to 4.4012663238390815e-06.\n",
            "114/114 [==============================] - 96s 793ms/step - loss: 0.6814 - accuracy: 0.5789 - precision: 0.5570 - recall: 0.7670 - f1_score: 0.6659 - val_loss: 0.7243 - val_accuracy: 0.5236 - val_precision: 0.5062 - val_recall: 0.5909 - val_f1_score: 0.6518\n"
          ],
          "name": "stdout"
        }
      ]
    },
    {
      "cell_type": "code",
      "metadata": {
        "id": "KXDJxxtucypq",
        "colab": {
          "base_uri": "https://localhost:8080/"
        },
        "outputId": "9e79e3cd-5ce1-4f4a-851d-1d6d47d9032c"
      },
      "source": [
        "model_checkpoint =  Model(inputs=vgg19.input, outputs=FC3)\n",
        "model_checkpoint.save('bestmodel_vgg19_lstm.h5')\n",
        "new_model = tf.keras.models.load_model('bestmodel_vgg19_lstm.h5')"
      ],
      "execution_count": 57,
      "outputs": [
        {
          "output_type": "stream",
          "text": [
            "WARNING:tensorflow:No training configuration found in the save file, so the model was *not* compiled. Compile it manually.\n"
          ],
          "name": "stdout"
        }
      ]
    },
    {
      "cell_type": "code",
      "metadata": {
        "colab": {
          "base_uri": "https://localhost:8080/"
        },
        "id": "BkFCqbI_gn6B",
        "outputId": "cc370b4c-b59c-4104-ab63-8795b4a111fd"
      },
      "source": [
        "predict_train=new_model.predict_generator(train_prediction_generator,steps=len(train_prediction_generator),workers=12)\n",
        "predict_test=new_model.predict_generator(test_prediction_generator,steps=len(test_prediction_generator),workers=12)\n",
        "predict_train.shape"
      ],
      "execution_count": 58,
      "outputs": [
        {
          "output_type": "execute_result",
          "data": {
            "text/plain": [
              "(3405, 128)"
            ]
          },
          "metadata": {
            "tags": []
          },
          "execution_count": 58
        }
      ]
    },
    {
      "cell_type": "code",
      "metadata": {
        "id": "Yp3r6IpZds8t"
      },
      "source": [
        "train_data_words=train_data['processed_words'].values\n",
        "validation_words=val_data['processed_words'].values\n",
        "test_data_words=test_data['processed_words'].values\n",
        "\n",
        "tokenizer = Tokenizer()\n",
        "tokenizer.fit_on_texts(train_data_words)\n",
        "vocab_size=len(tokenizer.word_index)\n",
        "encoded_Xtrain_words = [tf.keras.preprocessing.text.one_hot(d, vocab_size,filters='!\"#$%&()*+,-./:;<=>?@[\\\\]^`{|}~\\t\\n') for d in train_data_words]\n",
        "encoded_validation_words = [tf.keras.preprocessing.text.one_hot(d, vocab_size,filters='!\"#$%&()*+,-./:;<=>?@[\\\\]^`{|}~\\t\\n') for d in validation_words]\n",
        "encoded_Xtest_words = [tf.keras.preprocessing.text.one_hot(d, vocab_size,filters='!\"#$%&()*+,-./:;<=>?@[\\\\]^`{|}~\\t\\n') for d in test_data_words]\n",
        "\n",
        "padded_Xtrain_words = tf.keras.preprocessing.sequence.pad_sequences(encoded_Xtrain_words, maxlen=20, padding='post')\n",
        "padded_Xvalidation_words = tf.keras.preprocessing.sequence.pad_sequences(encoded_validation_words, maxlen=20, padding='post')\n",
        "padded_Xtest_words = tf.keras.preprocessing.sequence.pad_sequences(encoded_Xtest_words, maxlen=20, padding='post')"
      ],
      "execution_count": 18,
      "outputs": []
    },
    {
      "cell_type": "code",
      "metadata": {
        "colab": {
          "base_uri": "https://localhost:8080/"
        },
        "id": "7eWaCci4YGEZ",
        "outputId": "5a86ce5c-ad53-4f4c-e2c7-712429bd9f34"
      },
      "source": [
        "embeddings_index = dict()\n",
        "f = open('/content/glove.6B.300d.txt')\n",
        "\n",
        "for line in f:\n",
        "    values = line.split()\n",
        "    word = values[0]\n",
        "    coefs = np.asarray(values[1:], dtype='float32')\n",
        "    embeddings_index[word] = coefs\n",
        "\n",
        "f.close()\n",
        "print('Loaded %s word vectors.' % len(embeddings_index))"
      ],
      "execution_count": 19,
      "outputs": [
        {
          "output_type": "stream",
          "text": [
            "Loaded 400000 word vectors.\n"
          ],
          "name": "stdout"
        }
      ]
    },
    {
      "cell_type": "code",
      "metadata": {
        "id": "bI5hV8EaeAwz"
      },
      "source": [
        "embedding_matrix = np.zeros((vocab_size+1, 300))\n",
        "for word, i in tokenizer.word_index.items():\n",
        "    embedding_vector = embeddings_index.get(word)\n",
        "    if embedding_vector is not None:\n",
        "        embedding_matrix[i] = embedding_vector"
      ],
      "execution_count": 20,
      "outputs": []
    },
    {
      "cell_type": "code",
      "metadata": {
        "id": "ePCQSvjweCNP",
        "colab": {
          "base_uri": "https://localhost:8080/"
        },
        "outputId": "22665b2e-97c0-4d08-bd3b-c7f024e205fc"
      },
      "source": [
        "labelencoder = LabelEncoder()\n",
        "labelencoder.fit(train_data['subreddit'].values)\n",
        "subreddit_train=labelencoder.transform(train_data['subreddit'].values).reshape(-1,1)\n",
        "subreddit_validation=labelencoder.transform(val_data['subreddit'].values).reshape(-1,1)\n",
        "subreddit_test=labelencoder.transform(test_data['subreddit'].values).reshape(-1, 1)\n",
        "\n",
        "print(subreddit_train.shape)\n",
        "print(subreddit_test.shape)\n",
        "print(subreddit_validation.shape)"
      ],
      "execution_count": 21,
      "outputs": [
        {
          "output_type": "stream",
          "text": [
            "(3405, 1)\n",
            "(1719, 1)\n",
            "(1688, 1)\n"
          ],
          "name": "stdout"
        }
      ]
    },
    {
      "cell_type": "code",
      "metadata": {
        "id": "VtxBNc1eeEQ5",
        "colab": {
          "base_uri": "https://localhost:8080/"
        },
        "outputId": "ebfc5c92-9fb8-4ba7-b63b-80bb45b52230"
      },
      "source": [
        "labelencoder = LabelEncoder()\n",
        "labelencoder.fit(train_data['is_nsfw'].values)\n",
        "is_nsfw_train=labelencoder.transform(train_data['is_nsfw'].values).reshape(-1,1)\n",
        "is_nsfw_validation=labelencoder.transform(val_data['is_nsfw'].values).reshape(-1,1)\n",
        "is_nsfw_test=labelencoder.transform(test_data['is_nsfw'].values).reshape(-1,1)\n",
        "\n",
        "print(is_nsfw_train.shape)\n",
        "print(is_nsfw_test.shape)\n",
        "print(is_nsfw_validation.shape)"
      ],
      "execution_count": 22,
      "outputs": [
        {
          "output_type": "stream",
          "text": [
            "(3405, 1)\n",
            "(1719, 1)\n",
            "(1688, 1)\n"
          ],
          "name": "stdout"
        }
      ]
    },
    {
      "cell_type": "code",
      "metadata": {
        "id": "GCRPG8KOeGPx",
        "colab": {
          "base_uri": "https://localhost:8080/"
        },
        "outputId": "6a3c5efd-db9c-44d5-da42-2d397ff00583"
      },
      "source": [
        "time_of_day_train=(train_data['time_of_day'].values).reshape(-1,1)\n",
        "time_of_day_validation=(val_data['time_of_day'].values).reshape(-1,1)\n",
        "time_of_day_test=(test_data['time_of_day'].values).reshape(-1,1)\n",
        "\n",
        "print(time_of_day_train.shape)\n",
        "print(time_of_day_validation.shape)\n",
        "print(time_of_day_test.shape)"
      ],
      "execution_count": 23,
      "outputs": [
        {
          "output_type": "stream",
          "text": [
            "(3405, 1)\n",
            "(1688, 1)\n",
            "(1719, 1)\n"
          ],
          "name": "stdout"
        }
      ]
    },
    {
      "cell_type": "code",
      "metadata": {
        "id": "g7zT4JXieHtv",
        "colab": {
          "base_uri": "https://localhost:8080/"
        },
        "outputId": "d8d9e99c-39af-49e2-f9ea-c4349597a048"
      },
      "source": [
        "scaler = StandardScaler()\n",
        "scaler=scaler.fit(train_data['created_utc'].values.reshape(-1, 1))\n",
        "\n",
        "created_utc_train=scaler.transform(train_data['created_utc'].values.reshape(-1, 1))\n",
        "created_utc_validation=scaler.transform(val_data['created_utc'].values.reshape(-1, 1))\n",
        "created_utc_test=scaler.transform(test_data['created_utc'].values.reshape(-1, 1))\n",
        "\n",
        "print(created_utc_train.shape)\n",
        "print(created_utc_test.shape)\n",
        "print(created_utc_validation.shape)"
      ],
      "execution_count": 24,
      "outputs": [
        {
          "output_type": "stream",
          "text": [
            "(3405, 1)\n",
            "(1719, 1)\n",
            "(1688, 1)\n"
          ],
          "name": "stdout"
        }
      ]
    },
    {
      "cell_type": "code",
      "metadata": {
        "id": "05_dMxNAeKBZ",
        "colab": {
          "base_uri": "https://localhost:8080/"
        },
        "outputId": "bbab71b4-4900-48b9-e783-f3c543a30631"
      },
      "source": [
        "scaler = StandardScaler()\n",
        "scaler=scaler.fit(train_data['subscribers'].values.reshape(-1, 1))\n",
        "\n",
        "subscribers_train=scaler.transform(train_data['subscribers'].values.reshape(-1, 1))\n",
        "subscribers_validation=scaler.transform(val_data['subscribers'].values.reshape(-1, 1))\n",
        "subscribers_test=scaler.transform(test_data['subscribers'].values.reshape(-1, 1))\n",
        "\n",
        "print(subscribers_train.shape)\n",
        "print(subscribers_validation.shape)\n",
        "print(subscribers_test.shape)"
      ],
      "execution_count": 25,
      "outputs": [
        {
          "output_type": "stream",
          "text": [
            "(3405, 1)\n",
            "(1688, 1)\n",
            "(1719, 1)\n"
          ],
          "name": "stdout"
        }
      ]
    },
    {
      "cell_type": "code",
      "metadata": {
        "id": "5GelUlAdX6D7",
        "colab": {
          "base_uri": "https://localhost:8080/"
        },
        "outputId": "2aaaa393-b895-4716-f2a4-afc2a3580c14"
      },
      "source": [
        "\n",
        "#words  embeding layer\n",
        "words =Input(shape=(20,),name=\"words\")\n",
        "embeding=Embedding(vocab_size+1,300,weights=[embedding_matrix],input_length=20,trainable=False)(words)\n",
        "lstm_layer=LSTM(500)(embeding)\n",
        "flatten1 = Flatten(data_format='channels_last')(lstm_layer)\n",
        "\n",
        "image_predicted =Input(shape=(predict_train.shape[1],),name=\"image_predicted\")\n",
        "flatten2= Flatten(data_format='channels_last')(image_predicted)\n",
        "\n",
        "#categore_data\n",
        "subreddit_train_layer =Input(shape=(subreddit_train.shape[1],),name=\"subreddit_train_layer\")\n",
        "flatten3= Flatten(data_format='channels_last')(subreddit_train_layer)\n",
        "###\n",
        "is_nsfw_train_layer =Input(shape=(is_nsfw_train.shape[1],),name=\"is_nsfw_train_layer\")\n",
        "flatten4 = Flatten(data_format='channels_last')(is_nsfw_train_layer)\n",
        "####\n",
        "time_of_day_train_layer =Input(shape=(time_of_day_train.shape[1],),name=\"time_of_day_train_layer\")\n",
        "flatten5 = Flatten(data_format='channels_last')(time_of_day_train_layer)\n",
        "\n",
        "#numeric_data\n",
        "created_utc_train_layer =Input(shape=(created_utc_train.shape[1],),name=\"created_utc_train_layer\")\n",
        "created_utc_dence = Dense(units=3,activation='relu',kernel_initializer=tf.keras.initializers.glorot_normal(seed=33))(created_utc_train_layer)\n",
        "\n",
        "#numeric_data\n",
        "subscribers_train_layer =Input(shape=(subscribers_train.shape[1],),name=\"subscribers_train_layer\")\n",
        "subscribers_dence = Dense(units=3,activation='relu',kernel_initializer=tf.keras.initializers.glorot_normal(seed=33))(subscribers_train_layer)\n",
        "\n",
        "#concat layer\n",
        "concatenated = concatenate([subscribers_train_layer,created_utc_dence,flatten5,flatten4,flatten3,flatten2,flatten1],axis = -1)\n",
        "\n",
        "dense_layer1 = Dense(units=420,activation='relu',kernel_initializer=tf.keras.initializers.glorot_normal(seed=33))(concatenated)\n",
        "dropout1=Dropout(0.3)(dense_layer1)\n",
        "\n",
        "dense_layer2 = Dense(units=210,activation='relu',kernel_initializer=tf.keras.initializers.glorot_normal(seed=33))(dropout1)\n",
        "dropout2=Dropout(0.3)(dense_layer2)\n",
        "\n",
        "dense_layer3 = Dense(units=105,activation='relu',kernel_initializer=tf.keras.initializers.glorot_normal(seed=33))(dropout2)\n",
        "dropout3=Dropout(0.3)(dense_layer3)\n",
        "\n",
        "dense_layer4 = Dense(units=60,activation='relu',kernel_initializer=tf.keras.initializers.glorot_normal(seed=33))(dropout3)\n",
        "dropout4=Dropout(0.3)(dense_layer4)\n",
        "\n",
        "dense_layer5 = Dense(units=30,activation='relu',kernel_initializer=tf.keras.initializers.glorot_normal(seed=33))(dropout4)\n",
        "dropout5=Dropout(0.3)(dense_layer5)\n",
        "\n",
        "dense_layer6 = Dense(units=15,activation='relu',kernel_initializer=tf.keras.initializers.glorot_normal(seed=33))(dropout5)\n",
        "\n",
        "\n",
        "Out = Dense(units=1,activation='sigmoid',kernel_initializer=tf.keras.initializers.glorot_normal(seed=3),name='Output')(dense_layer6)\n",
        "\n",
        "model = Model(inputs=[image_predicted,words,subreddit_train_layer,is_nsfw_train_layer,time_of_day_train_layer,created_utc_train_layer,subscribers_train_layer],outputs=Out)\n",
        "model.summary()"
      ],
      "execution_count": 59,
      "outputs": [
        {
          "output_type": "stream",
          "text": [
            "Model: \"model_8\"\n",
            "__________________________________________________________________________________________________\n",
            "Layer (type)                    Output Shape         Param #     Connected to                     \n",
            "==================================================================================================\n",
            "words (InputLayer)              [(None, 20)]         0                                            \n",
            "__________________________________________________________________________________________________\n",
            "embedding_4 (Embedding)         (None, 20, 300)      2712000     words[0][0]                      \n",
            "__________________________________________________________________________________________________\n",
            "created_utc_train_layer (InputL [(None, 1)]          0                                            \n",
            "__________________________________________________________________________________________________\n",
            "time_of_day_train_layer (InputL [(None, 1)]          0                                            \n",
            "__________________________________________________________________________________________________\n",
            "is_nsfw_train_layer (InputLayer [(None, 1)]          0                                            \n",
            "__________________________________________________________________________________________________\n",
            "subreddit_train_layer (InputLay [(None, 1)]          0                                            \n",
            "__________________________________________________________________________________________________\n",
            "image_predicted (InputLayer)    [(None, 128)]        0                                            \n",
            "__________________________________________________________________________________________________\n",
            "lstm_4 (LSTM)                   (None, 500)          1602000     embedding_4[0][0]                \n",
            "__________________________________________________________________________________________________\n",
            "subscribers_train_layer (InputL [(None, 1)]          0                                            \n",
            "__________________________________________________________________________________________________\n",
            "dense_24 (Dense)                (None, 3)            6           created_utc_train_layer[0][0]    \n",
            "__________________________________________________________________________________________________\n",
            "flatten_20 (Flatten)            (None, 1)            0           time_of_day_train_layer[0][0]    \n",
            "__________________________________________________________________________________________________\n",
            "flatten_19 (Flatten)            (None, 1)            0           is_nsfw_train_layer[0][0]        \n",
            "__________________________________________________________________________________________________\n",
            "flatten_18 (Flatten)            (None, 1)            0           subreddit_train_layer[0][0]      \n",
            "__________________________________________________________________________________________________\n",
            "flatten_17 (Flatten)            (None, 128)          0           image_predicted[0][0]            \n",
            "__________________________________________________________________________________________________\n",
            "flatten_16 (Flatten)            (None, 500)          0           lstm_4[0][0]                     \n",
            "__________________________________________________________________________________________________\n",
            "concatenate_3 (Concatenate)     (None, 635)          0           subscribers_train_layer[0][0]    \n",
            "                                                                 dense_24[0][0]                   \n",
            "                                                                 flatten_20[0][0]                 \n",
            "                                                                 flatten_19[0][0]                 \n",
            "                                                                 flatten_18[0][0]                 \n",
            "                                                                 flatten_17[0][0]                 \n",
            "                                                                 flatten_16[0][0]                 \n",
            "__________________________________________________________________________________________________\n",
            "dense_26 (Dense)                (None, 420)          267120      concatenate_3[0][0]              \n",
            "__________________________________________________________________________________________________\n",
            "dropout_19 (Dropout)            (None, 420)          0           dense_26[0][0]                   \n",
            "__________________________________________________________________________________________________\n",
            "dense_27 (Dense)                (None, 210)          88410       dropout_19[0][0]                 \n",
            "__________________________________________________________________________________________________\n",
            "dropout_20 (Dropout)            (None, 210)          0           dense_27[0][0]                   \n",
            "__________________________________________________________________________________________________\n",
            "dense_28 (Dense)                (None, 105)          22155       dropout_20[0][0]                 \n",
            "__________________________________________________________________________________________________\n",
            "dropout_21 (Dropout)            (None, 105)          0           dense_28[0][0]                   \n",
            "__________________________________________________________________________________________________\n",
            "dense_29 (Dense)                (None, 60)           6360        dropout_21[0][0]                 \n",
            "__________________________________________________________________________________________________\n",
            "dropout_22 (Dropout)            (None, 60)           0           dense_29[0][0]                   \n",
            "__________________________________________________________________________________________________\n",
            "dense_30 (Dense)                (None, 30)           1830        dropout_22[0][0]                 \n",
            "__________________________________________________________________________________________________\n",
            "dropout_23 (Dropout)            (None, 30)           0           dense_30[0][0]                   \n",
            "__________________________________________________________________________________________________\n",
            "dense_31 (Dense)                (None, 15)           465         dropout_23[0][0]                 \n",
            "__________________________________________________________________________________________________\n",
            "Output (Dense)                  (None, 1)            16          dense_31[0][0]                   \n",
            "==================================================================================================\n",
            "Total params: 4,700,362\n",
            "Trainable params: 1,988,362\n",
            "Non-trainable params: 2,712,000\n",
            "__________________________________________________________________________________________________\n"
          ],
          "name": "stdout"
        }
      ]
    },
    {
      "cell_type": "code",
      "metadata": {
        "id": "het2d2gMfAZx"
      },
      "source": [
        "filepath=\"model_save_new/weights-{epoch:02d}-{val_accuracy:.4f}.h5\"\n",
        "checkpoint = ModelCheckpoint(filepath=filepath, monitor='val_accuracy',mode='auto')\n",
        "\n",
        "\n",
        "\n",
        "lrschedule = tf.keras.callbacks.LearningRateScheduler(scheduler,verbose=0.1)\n",
        "\n",
        "#stop the training if your validation accuracy is not increased in last 2 epochs.\n",
        "early_stop= EarlyStopping(monitor='val_accuracy', patience=2,verbose=1) \n",
        "\n",
        "#If your validation accuracy at that epoch is less than previous epoch accuracy, you have to decrese the\n",
        "#learning rate by 10%\n",
        "reduce_lr = ReduceLROnPlateau(monitor='val_accuracy', factor=0.9,\n",
        "                              patience=0, min_lr=0.001,verbose=1)\n",
        "\n",
        "model.compile(\n",
        "  loss='binary_crossentropy',\n",
        "  optimizer=tf.keras.optimizers.RMSprop(lr=1e-5), \n",
        "  metrics=['accuracy',tf.keras.metrics.Precision(),tf.keras.metrics.Recall(),tfa.metrics.F1Score(num_classes=1)]\n",
        ")\n"
      ],
      "execution_count": 61,
      "outputs": []
    },
    {
      "cell_type": "code",
      "metadata": {
        "id": "NhrSWoWGgXfn",
        "colab": {
          "base_uri": "https://localhost:8080/"
        },
        "outputId": "2b068de7-6cf3-4b87-c6de-51200f3972d7"
      },
      "source": [
        "y_train =train_data['dank_level'].values\n",
        "y_test =test_data['dank_level'].values\n",
        "y_train.shape"
      ],
      "execution_count": 62,
      "outputs": [
        {
          "output_type": "execute_result",
          "data": {
            "text/plain": [
              "(3405,)"
            ]
          },
          "metadata": {
            "tags": []
          },
          "execution_count": 62
        }
      ]
    },
    {
      "cell_type": "code",
      "metadata": {
        "id": "xmQOgwsjfDzC",
        "colab": {
          "base_uri": "https://localhost:8080/"
        },
        "outputId": "bee7ce51-45b4-4bbc-920d-0dc4d1317a91"
      },
      "source": [
        "history=model.fit({\"image_predicted\":predict_train,\"words\":padded_Xtrain_words,\"subreddit_train_layer\":subreddit_train,\"is_nsfw_train_layer\":is_nsfw_train,\"time_of_day_train_layer\":time_of_day_train,\n",
        "                    \"created_utc_train_layer\":created_utc_train,\"subscribers_train_layer\":subscribers_train},\n",
        "                     y_train,epochs=50,batch_size=30,\n",
        "                  validation_data=({\"image_predicted\":predict_test,\"words\":padded_Xtest_words,\"subreddit_train_layer\":subreddit_test,\"is_nsfw_train_layer\":is_nsfw_test,\"time_of_day_train_layer\":time_of_day_test,\n",
        "                    \"created_utc_train_layer\":created_utc_test,\"subscribers_train_layer\":subscribers_test},y_test),callbacks=[lrschedule,checkpoint,reduce_lr])\n"
      ],
      "execution_count": 66,
      "outputs": [
        {
          "output_type": "stream",
          "text": [
            "Epoch 1/50\n",
            "\n",
            "Epoch 00001: LearningRateScheduler reducing learning rate to 8.525759085387108e-07.\n",
            "114/114 [==============================] - 2s 13ms/step - loss: 0.6819 - accuracy: 0.5636 - precision_7: 0.5589 - recall_7: 0.5450 - f1_score: 0.6605 - val_loss: 0.6878 - val_accuracy: 0.5532 - val_precision_7: 0.5327 - val_recall_7: 0.6173 - val_f1_score: 0.6518\n",
            "Epoch 2/50\n",
            "\n",
            "Epoch 00002: LearningRateScheduler reducing learning rate to 8.525759085387108e-07.\n",
            "114/114 [==============================] - 1s 13ms/step - loss: 0.6801 - accuracy: 0.5571 - precision_7: 0.5509 - recall_7: 0.5509 - f1_score: 0.6605 - val_loss: 0.6878 - val_accuracy: 0.5509 - val_precision_7: 0.5308 - val_recall_7: 0.6113 - val_f1_score: 0.6518\n",
            "Epoch 3/50\n",
            "\n",
            "Epoch 00003: LearningRateScheduler reducing learning rate to 8.099471131117752e-07.\n",
            "114/114 [==============================] - 1s 12ms/step - loss: 0.6822 - accuracy: 0.5598 - precision_7: 0.5551 - recall_7: 0.5402 - f1_score: 0.6605 - val_loss: 0.6878 - val_accuracy: 0.5567 - val_precision_7: 0.5369 - val_recall_7: 0.6041 - val_f1_score: 0.6518\n",
            "Epoch 4/50\n",
            "\n",
            "Epoch 00004: LearningRateScheduler reducing learning rate to 8.099470960587496e-07.\n",
            "114/114 [==============================] - 1s 12ms/step - loss: 0.6822 - accuracy: 0.5648 - precision_7: 0.5604 - recall_7: 0.5444 - f1_score: 0.6605 - val_loss: 0.6878 - val_accuracy: 0.5567 - val_precision_7: 0.5369 - val_recall_7: 0.6041 - val_f1_score: 0.6518\n",
            "Epoch 5/50\n",
            "\n",
            "Epoch 00005: LearningRateScheduler reducing learning rate to 8.099470960587496e-07.\n",
            "114/114 [==============================] - 1s 12ms/step - loss: 0.6804 - accuracy: 0.5601 - precision_7: 0.5569 - recall_7: 0.5277 - f1_score: 0.6605 - val_loss: 0.6878 - val_accuracy: 0.5515 - val_precision_7: 0.5312 - val_recall_7: 0.6137 - val_f1_score: 0.6518\n",
            "Epoch 6/50\n",
            "\n",
            "Epoch 00006: LearningRateScheduler reducing learning rate to 7.694497412558121e-07.\n",
            "114/114 [==============================] - 1s 13ms/step - loss: 0.6819 - accuracy: 0.5621 - precision_7: 0.5580 - recall_7: 0.5390 - f1_score: 0.6605 - val_loss: 0.6878 - val_accuracy: 0.5567 - val_precision_7: 0.5369 - val_recall_7: 0.6041 - val_f1_score: 0.6518\n",
            "Epoch 7/50\n",
            "\n",
            "Epoch 00007: LearningRateScheduler reducing learning rate to 7.694497412558121e-07.\n",
            "114/114 [==============================] - 1s 13ms/step - loss: 0.6835 - accuracy: 0.5586 - precision_7: 0.5538 - recall_7: 0.5396 - f1_score: 0.6605 - val_loss: 0.6878 - val_accuracy: 0.5521 - val_precision_7: 0.5317 - val_recall_7: 0.6149 - val_f1_score: 0.6518\n",
            "Epoch 8/50\n",
            "\n",
            "Epoch 00008: LearningRateScheduler reducing learning rate to 7.694497412558121e-07.\n",
            "114/114 [==============================] - 1s 13ms/step - loss: 0.6829 - accuracy: 0.5674 - precision_7: 0.5642 - recall_7: 0.5390 - f1_score: 0.6605 - val_loss: 0.6878 - val_accuracy: 0.5532 - val_precision_7: 0.5326 - val_recall_7: 0.6185 - val_f1_score: 0.6518\n",
            "Epoch 9/50\n",
            "\n",
            "Epoch 00009: LearningRateScheduler reducing learning rate to 7.309772541930215e-07.\n",
            "114/114 [==============================] - 1s 12ms/step - loss: 0.6812 - accuracy: 0.5548 - precision_7: 0.5503 - recall_7: 0.5313 - f1_score: 0.6605 - val_loss: 0.6878 - val_accuracy: 0.5532 - val_precision_7: 0.5326 - val_recall_7: 0.6185 - val_f1_score: 0.6518\n",
            "Epoch 10/50\n",
            "\n",
            "Epoch 00010: LearningRateScheduler reducing learning rate to 7.309772627195343e-07.\n",
            "114/114 [==============================] - 1s 12ms/step - loss: 0.6810 - accuracy: 0.5686 - precision_7: 0.5655 - recall_7: 0.5396 - f1_score: 0.6605 - val_loss: 0.6878 - val_accuracy: 0.5526 - val_precision_7: 0.5322 - val_recall_7: 0.6173 - val_f1_score: 0.6518\n",
            "Epoch 11/50\n",
            "\n",
            "Epoch 00011: LearningRateScheduler reducing learning rate to 7.309772627195343e-07.\n",
            "114/114 [==============================] - 1s 12ms/step - loss: 0.6823 - accuracy: 0.5621 - precision_7: 0.5585 - recall_7: 0.5348 - f1_score: 0.6605 - val_loss: 0.6879 - val_accuracy: 0.5521 - val_precision_7: 0.5314 - val_recall_7: 0.6209 - val_f1_score: 0.6518\n",
            "Epoch 12/50\n",
            "\n",
            "Epoch 00012: LearningRateScheduler reducing learning rate to 6.944283995835576e-07.\n",
            "114/114 [==============================] - 1s 12ms/step - loss: 0.6823 - accuracy: 0.5580 - precision_7: 0.5531 - recall_7: 0.5396 - f1_score: 0.6605 - val_loss: 0.6878 - val_accuracy: 0.5532 - val_precision_7: 0.5326 - val_recall_7: 0.6197 - val_f1_score: 0.6518\n",
            "Epoch 13/50\n",
            "\n",
            "Epoch 00013: LearningRateScheduler reducing learning rate to 6.944284223209252e-07.\n",
            "114/114 [==============================] - 1s 13ms/step - loss: 0.6831 - accuracy: 0.5468 - precision_7: 0.5421 - recall_7: 0.5217 - f1_score: 0.6605 - val_loss: 0.6878 - val_accuracy: 0.5544 - val_precision_7: 0.5345 - val_recall_7: 0.6065 - val_f1_score: 0.6518\n",
            "Epoch 14/50\n",
            "\n",
            "Epoch 00014: LearningRateScheduler reducing learning rate to 6.944284223209252e-07.\n",
            "114/114 [==============================] - 1s 13ms/step - loss: 0.6847 - accuracy: 0.5474 - precision_7: 0.5424 - recall_7: 0.5253 - f1_score: 0.6605 - val_loss: 0.6878 - val_accuracy: 0.5532 - val_precision_7: 0.5340 - val_recall_7: 0.5957 - val_f1_score: 0.6518\n",
            "Epoch 15/50\n",
            "\n",
            "Epoch 00015: LearningRateScheduler reducing learning rate to 6.597070012048788e-07.\n",
            "114/114 [==============================] - 1s 13ms/step - loss: 0.6790 - accuracy: 0.5674 - precision_7: 0.5633 - recall_7: 0.5462 - f1_score: 0.6605 - val_loss: 0.6878 - val_accuracy: 0.5561 - val_precision_7: 0.5364 - val_recall_7: 0.6029 - val_f1_score: 0.6518\n",
            "Epoch 16/50\n",
            "\n",
            "Epoch 00016: LearningRateScheduler reducing learning rate to 6.597069841518532e-07.\n",
            "114/114 [==============================] - 1s 12ms/step - loss: 0.6791 - accuracy: 0.5706 - precision_7: 0.5670 - recall_7: 0.5468 - f1_score: 0.6605 - val_loss: 0.6878 - val_accuracy: 0.5561 - val_precision_7: 0.5364 - val_recall_7: 0.6029 - val_f1_score: 0.6518\n",
            "Epoch 17/50\n",
            "\n",
            "Epoch 00017: LearningRateScheduler reducing learning rate to 6.597069841518532e-07.\n",
            "114/114 [==============================] - 1s 12ms/step - loss: 0.6818 - accuracy: 0.5592 - precision_7: 0.5539 - recall_7: 0.5444 - f1_score: 0.6605 - val_loss: 0.6878 - val_accuracy: 0.5532 - val_precision_7: 0.5331 - val_recall_7: 0.6113 - val_f1_score: 0.6518\n",
            "Epoch 18/50\n",
            "\n",
            "Epoch 00018: LearningRateScheduler reducing learning rate to 6.267216349442606e-07.\n",
            "114/114 [==============================] - 2s 13ms/step - loss: 0.6821 - accuracy: 0.5586 - precision_7: 0.5555 - recall_7: 0.5247 - f1_score: 0.6605 - val_loss: 0.6878 - val_accuracy: 0.5573 - val_precision_7: 0.5374 - val_recall_7: 0.6053 - val_f1_score: 0.6518\n",
            "Epoch 19/50\n",
            "\n",
            "Epoch 00019: LearningRateScheduler reducing learning rate to 6.267216576816281e-07.\n",
            "114/114 [==============================] - 1s 12ms/step - loss: 0.6820 - accuracy: 0.5498 - precision_7: 0.5452 - recall_7: 0.5247 - f1_score: 0.6605 - val_loss: 0.6878 - val_accuracy: 0.5561 - val_precision_7: 0.5364 - val_recall_7: 0.6029 - val_f1_score: 0.6518\n",
            "Epoch 20/50\n",
            "\n",
            "Epoch 00020: LearningRateScheduler reducing learning rate to 6.267216576816281e-07.\n",
            "114/114 [==============================] - 1s 12ms/step - loss: 0.6849 - accuracy: 0.5430 - precision_7: 0.5375 - recall_7: 0.5253 - f1_score: 0.6605 - val_loss: 0.6878 - val_accuracy: 0.5567 - val_precision_7: 0.5369 - val_recall_7: 0.6041 - val_f1_score: 0.6518\n",
            "Epoch 21/50\n",
            "\n",
            "Epoch 00021: LearningRateScheduler reducing learning rate to 5.953855747975467e-07.\n",
            "114/114 [==============================] - 1s 13ms/step - loss: 0.6811 - accuracy: 0.5621 - precision_7: 0.5582 - recall_7: 0.5366 - f1_score: 0.6605 - val_loss: 0.6878 - val_accuracy: 0.5567 - val_precision_7: 0.5369 - val_recall_7: 0.6041 - val_f1_score: 0.6518\n",
            "Epoch 22/50\n",
            "\n",
            "Epoch 00022: LearningRateScheduler reducing learning rate to 5.953855861662305e-07.\n",
            "114/114 [==============================] - 2s 13ms/step - loss: 0.6824 - accuracy: 0.5559 - precision_7: 0.5520 - recall_7: 0.5283 - f1_score: 0.6605 - val_loss: 0.6878 - val_accuracy: 0.5567 - val_precision_7: 0.5369 - val_recall_7: 0.6041 - val_f1_score: 0.6518\n",
            "Epoch 23/50\n",
            "\n",
            "Epoch 00023: LearningRateScheduler reducing learning rate to 5.953855861662305e-07.\n",
            "114/114 [==============================] - 1s 13ms/step - loss: 0.6822 - accuracy: 0.5554 - precision_7: 0.5512 - recall_7: 0.5289 - f1_score: 0.6605 - val_loss: 0.6878 - val_accuracy: 0.5532 - val_precision_7: 0.5340 - val_recall_7: 0.5957 - val_f1_score: 0.6518\n",
            "Epoch 24/50\n",
            "\n",
            "Epoch 00024: LearningRateScheduler reducing learning rate to 5.656163068579189e-07.\n",
            "114/114 [==============================] - 1s 13ms/step - loss: 0.6839 - accuracy: 0.5524 - precision_7: 0.5471 - recall_7: 0.5360 - f1_score: 0.6605 - val_loss: 0.6878 - val_accuracy: 0.5567 - val_precision_7: 0.5369 - val_recall_7: 0.6041 - val_f1_score: 0.6518\n",
            "Epoch 25/50\n",
            "\n",
            "Epoch 00025: LearningRateScheduler reducing learning rate to 5.656162898048933e-07.\n",
            "114/114 [==============================] - 1s 13ms/step - loss: 0.6811 - accuracy: 0.5642 - precision_7: 0.5616 - recall_7: 0.5295 - f1_score: 0.6605 - val_loss: 0.6878 - val_accuracy: 0.5567 - val_precision_7: 0.5369 - val_recall_7: 0.6041 - val_f1_score: 0.6518\n",
            "Epoch 26/50\n",
            "\n",
            "Epoch 00026: LearningRateScheduler reducing learning rate to 5.656162898048933e-07.\n",
            "114/114 [==============================] - 1s 12ms/step - loss: 0.6810 - accuracy: 0.5645 - precision_7: 0.5606 - recall_7: 0.5402 - f1_score: 0.6605 - val_loss: 0.6878 - val_accuracy: 0.5567 - val_precision_7: 0.5369 - val_recall_7: 0.6041 - val_f1_score: 0.6518\n",
            "Epoch 27/50\n",
            "\n",
            "Epoch 00027: LearningRateScheduler reducing learning rate to 5.373354753146487e-07.\n",
            "114/114 [==============================] - 2s 13ms/step - loss: 0.6797 - accuracy: 0.5653 - precision_7: 0.5614 - recall_7: 0.5420 - f1_score: 0.6605 - val_loss: 0.6878 - val_accuracy: 0.5567 - val_precision_7: 0.5369 - val_recall_7: 0.6041 - val_f1_score: 0.6518\n",
            "Epoch 28/50\n",
            "\n",
            "Epoch 00028: LearningRateScheduler reducing learning rate to 5.373354952098452e-07.\n",
            "114/114 [==============================] - 1s 13ms/step - loss: 0.6828 - accuracy: 0.5510 - precision_7: 0.5460 - recall_7: 0.5301 - f1_score: 0.6605 - val_loss: 0.6878 - val_accuracy: 0.5550 - val_precision_7: 0.5354 - val_recall_7: 0.6005 - val_f1_score: 0.6518\n",
            "Epoch 29/50\n",
            "\n",
            "Epoch 00029: LearningRateScheduler reducing learning rate to 5.373354952098452e-07.\n",
            "114/114 [==============================] - 1s 13ms/step - loss: 0.6814 - accuracy: 0.5642 - precision_7: 0.5604 - recall_7: 0.5390 - f1_score: 0.6605 - val_loss: 0.6878 - val_accuracy: 0.5567 - val_precision_7: 0.5369 - val_recall_7: 0.6041 - val_f1_score: 0.6518\n",
            "Epoch 30/50\n",
            "\n",
            "Epoch 00030: LearningRateScheduler reducing learning rate to 5.104687204493529e-07.\n",
            "114/114 [==============================] - 1s 12ms/step - loss: 0.6812 - accuracy: 0.5480 - precision_7: 0.5435 - recall_7: 0.5205 - f1_score: 0.6605 - val_loss: 0.6878 - val_accuracy: 0.5567 - val_precision_7: 0.5369 - val_recall_7: 0.6041 - val_f1_score: 0.6518\n",
            "Epoch 31/50\n",
            "\n",
            "Epoch 00031: LearningRateScheduler reducing learning rate to 5.104687375023786e-07.\n",
            "114/114 [==============================] - 1s 12ms/step - loss: 0.6828 - accuracy: 0.5468 - precision_7: 0.5429 - recall_7: 0.5122 - f1_score: 0.6605 - val_loss: 0.6878 - val_accuracy: 0.5567 - val_precision_7: 0.5369 - val_recall_7: 0.6041 - val_f1_score: 0.6518\n",
            "Epoch 32/50\n",
            "\n",
            "Epoch 00032: LearningRateScheduler reducing learning rate to 5.104687375023786e-07.\n",
            "114/114 [==============================] - 1s 13ms/step - loss: 0.6806 - accuracy: 0.5580 - precision_7: 0.5539 - recall_7: 0.5325 - f1_score: 0.6605 - val_loss: 0.6878 - val_accuracy: 0.5567 - val_precision_7: 0.5369 - val_recall_7: 0.6041 - val_f1_score: 0.6518\n",
            "Epoch 33/50\n",
            "\n",
            "Epoch 00033: LearningRateScheduler reducing learning rate to 4.849453006272597e-07.\n",
            "114/114 [==============================] - 1s 13ms/step - loss: 0.6829 - accuracy: 0.5612 - precision_7: 0.5569 - recall_7: 0.5396 - f1_score: 0.6605 - val_loss: 0.6878 - val_accuracy: 0.5567 - val_precision_7: 0.5369 - val_recall_7: 0.6041 - val_f1_score: 0.6518\n",
            "Epoch 34/50\n",
            "\n",
            "Epoch 00034: LearningRateScheduler reducing learning rate to 4.849453034694307e-07.\n",
            "114/114 [==============================] - 1s 13ms/step - loss: 0.6806 - accuracy: 0.5583 - precision_7: 0.5526 - recall_7: 0.5479 - f1_score: 0.6605 - val_loss: 0.6878 - val_accuracy: 0.5567 - val_precision_7: 0.5369 - val_recall_7: 0.6041 - val_f1_score: 0.6518\n",
            "Epoch 35/50\n",
            "\n",
            "Epoch 00035: LearningRateScheduler reducing learning rate to 4.849453034694307e-07.\n",
            "114/114 [==============================] - 1s 13ms/step - loss: 0.6790 - accuracy: 0.5692 - precision_7: 0.5656 - recall_7: 0.5444 - f1_score: 0.6605 - val_loss: 0.6878 - val_accuracy: 0.5567 - val_precision_7: 0.5369 - val_recall_7: 0.6041 - val_f1_score: 0.6518\n",
            "Epoch 36/50\n",
            "\n",
            "Epoch 00036: LearningRateScheduler reducing learning rate to 4.606980382959591e-07.\n",
            "114/114 [==============================] - 1s 13ms/step - loss: 0.6830 - accuracy: 0.5521 - precision_7: 0.5474 - recall_7: 0.5295 - f1_score: 0.6605 - val_loss: 0.6878 - val_accuracy: 0.5561 - val_precision_7: 0.5364 - val_recall_7: 0.6029 - val_f1_score: 0.6518\n",
            "Epoch 37/50\n",
            "\n",
            "Epoch 00037: LearningRateScheduler reducing learning rate to 4.6069803261161724e-07.\n",
            "114/114 [==============================] - 1s 13ms/step - loss: 0.6825 - accuracy: 0.5498 - precision_7: 0.5442 - recall_7: 0.5348 - f1_score: 0.6605 - val_loss: 0.6878 - val_accuracy: 0.5567 - val_precision_7: 0.5369 - val_recall_7: 0.6041 - val_f1_score: 0.6518\n",
            "Epoch 38/50\n",
            "\n",
            "Epoch 00038: LearningRateScheduler reducing learning rate to 4.6069803261161724e-07.\n",
            "114/114 [==============================] - 1s 13ms/step - loss: 0.6818 - accuracy: 0.5630 - precision_7: 0.5586 - recall_7: 0.5420 - f1_score: 0.6605 - val_loss: 0.6878 - val_accuracy: 0.5567 - val_precision_7: 0.5369 - val_recall_7: 0.6041 - val_f1_score: 0.6518\n",
            "Epoch 39/50\n",
            "\n",
            "Epoch 00039: LearningRateScheduler reducing learning rate to 4.3766313098103635e-07.\n",
            "114/114 [==============================] - 1s 13ms/step - loss: 0.6830 - accuracy: 0.5648 - precision_7: 0.5608 - recall_7: 0.5408 - f1_score: 0.6605 - val_loss: 0.6878 - val_accuracy: 0.5567 - val_precision_7: 0.5369 - val_recall_7: 0.6041 - val_f1_score: 0.6518\n",
            "Epoch 40/50\n",
            "\n",
            "Epoch 00040: LearningRateScheduler reducing learning rate to 4.3766311819126713e-07.\n",
            "114/114 [==============================] - 2s 13ms/step - loss: 0.6820 - accuracy: 0.5577 - precision_7: 0.5531 - recall_7: 0.5366 - f1_score: 0.6605 - val_loss: 0.6878 - val_accuracy: 0.5567 - val_precision_7: 0.5369 - val_recall_7: 0.6041 - val_f1_score: 0.6518\n",
            "Epoch 41/50\n",
            "\n",
            "Epoch 00041: LearningRateScheduler reducing learning rate to 4.3766311819126713e-07.\n",
            "114/114 [==============================] - 1s 13ms/step - loss: 0.6821 - accuracy: 0.5518 - precision_7: 0.5471 - recall_7: 0.5289 - f1_score: 0.6605 - val_loss: 0.6878 - val_accuracy: 0.5567 - val_precision_7: 0.5369 - val_recall_7: 0.6041 - val_f1_score: 0.6518\n",
            "Epoch 42/50\n",
            "\n",
            "Epoch 00042: LearningRateScheduler reducing learning rate to 4.1577996228170373e-07.\n",
            "114/114 [==============================] - 1s 13ms/step - loss: 0.6812 - accuracy: 0.5651 - precision_7: 0.5610 - recall_7: 0.5426 - f1_score: 0.6605 - val_loss: 0.6878 - val_accuracy: 0.5567 - val_precision_7: 0.5369 - val_recall_7: 0.6041 - val_f1_score: 0.6518\n",
            "Epoch 43/50\n",
            "\n",
            "Epoch 00043: LearningRateScheduler reducing learning rate to 4.157799651238747e-07.\n",
            "114/114 [==============================] - 2s 13ms/step - loss: 0.6800 - accuracy: 0.5683 - precision_7: 0.5650 - recall_7: 0.5408 - f1_score: 0.6605 - val_loss: 0.6878 - val_accuracy: 0.5544 - val_precision_7: 0.5342 - val_recall_7: 0.6101 - val_f1_score: 0.6518\n",
            "Epoch 44/50\n",
            "\n",
            "Epoch 00044: LearningRateScheduler reducing learning rate to 4.157799651238747e-07.\n",
            "114/114 [==============================] - 1s 12ms/step - loss: 0.6812 - accuracy: 0.5554 - precision_7: 0.5511 - recall_7: 0.5301 - f1_score: 0.6605 - val_loss: 0.6879 - val_accuracy: 0.5503 - val_precision_7: 0.5303 - val_recall_7: 0.6113 - val_f1_score: 0.6518\n",
            "Epoch 45/50\n",
            "\n",
            "Epoch 00045: LearningRateScheduler reducing learning rate to 3.9499096686768094e-07.\n",
            "114/114 [==============================] - 1s 12ms/step - loss: 0.6807 - accuracy: 0.5609 - precision_7: 0.5579 - recall_7: 0.5283 - f1_score: 0.6605 - val_loss: 0.6879 - val_accuracy: 0.5503 - val_precision_7: 0.5303 - val_recall_7: 0.6113 - val_f1_score: 0.6518\n",
            "Epoch 46/50\n",
            "\n",
            "Epoch 00046: LearningRateScheduler reducing learning rate to 3.9499096260442457e-07.\n",
            "114/114 [==============================] - 2s 13ms/step - loss: 0.6800 - accuracy: 0.5630 - precision_7: 0.5589 - recall_7: 0.5396 - f1_score: 0.6605 - val_loss: 0.6879 - val_accuracy: 0.5509 - val_precision_7: 0.5308 - val_recall_7: 0.6125 - val_f1_score: 0.6518\n",
            "Epoch 47/50\n",
            "\n",
            "Epoch 00047: LearningRateScheduler reducing learning rate to 3.9499096260442457e-07.\n",
            "114/114 [==============================] - 1s 13ms/step - loss: 0.6807 - accuracy: 0.5633 - precision_7: 0.5596 - recall_7: 0.5366 - f1_score: 0.6605 - val_loss: 0.6879 - val_accuracy: 0.5515 - val_precision_7: 0.5312 - val_recall_7: 0.6149 - val_f1_score: 0.6518\n",
            "Epoch 48/50\n",
            "\n",
            "Epoch 00048: LearningRateScheduler reducing learning rate to 3.752414144742033e-07.\n",
            "114/114 [==============================] - 1s 13ms/step - loss: 0.6835 - accuracy: 0.5651 - precision_7: 0.5607 - recall_7: 0.5450 - f1_score: 0.6605 - val_loss: 0.6879 - val_accuracy: 0.5503 - val_precision_7: 0.5302 - val_recall_7: 0.6125 - val_f1_score: 0.6518\n",
            "Epoch 49/50\n",
            "\n",
            "Epoch 00049: LearningRateScheduler reducing learning rate to 3.752414272639726e-07.\n",
            "114/114 [==============================] - 1s 13ms/step - loss: 0.6817 - accuracy: 0.5542 - precision_7: 0.5500 - recall_7: 0.5277 - f1_score: 0.6605 - val_loss: 0.6879 - val_accuracy: 0.5503 - val_precision_7: 0.5302 - val_recall_7: 0.6125 - val_f1_score: 0.6518\n",
            "Epoch 50/50\n",
            "\n",
            "Epoch 00050: LearningRateScheduler reducing learning rate to 3.752414272639726e-07.\n",
            "114/114 [==============================] - 1s 13ms/step - loss: 0.6813 - accuracy: 0.5557 - precision_7: 0.5507 - recall_7: 0.5372 - f1_score: 0.6605 - val_loss: 0.6879 - val_accuracy: 0.5503 - val_precision_7: 0.5302 - val_recall_7: 0.6125 - val_f1_score: 0.6518\n"
          ],
          "name": "stdout"
        }
      ]
    },
    {
      "cell_type": "code",
      "metadata": {
        "id": "yeT704PowDwE"
      },
      "source": [
        "model.save('bestmodel_vgg19_lstm_1.h5')\n",
        "new_model = tf.keras.models.load_model('bestmodel_vgg19_lstm_1.h5')"
      ],
      "execution_count": 67,
      "outputs": []
    },
    {
      "cell_type": "code",
      "metadata": {
        "colab": {
          "base_uri": "https://localhost:8080/"
        },
        "id": "d1RTNQ0UjXdF",
        "outputId": "fda8471c-abcd-49c3-c407-adc8eb3727f9"
      },
      "source": [
        "test_prediction=model.predict([predict_test,padded_Xtest_words,subreddit_test,is_nsfw_test,time_of_day_test,\n",
        "                    created_utc_test,subscribers_test])\n",
        "test_prediction=((test_prediction > 0.5)+0).ravel() \n",
        "print(test_prediction.shape)\n",
        "y_test =tf.keras.utils.to_categorical(test_data['dank_level'].values,2)\n",
        "y_test=np.argmax(y_test,axis=-1)\n",
        "y_test.shape"
      ],
      "execution_count": 74,
      "outputs": [
        {
          "output_type": "stream",
          "text": [
            "(1719,)\n"
          ],
          "name": "stdout"
        },
        {
          "output_type": "execute_result",
          "data": {
            "text/plain": [
              "(1719,)"
            ]
          },
          "metadata": {
            "tags": []
          },
          "execution_count": 74
        }
      ]
    },
    {
      "cell_type": "code",
      "metadata": {
        "colab": {
          "base_uri": "https://localhost:8080/",
          "height": 363
        },
        "id": "ak8pKqUpjk2W",
        "outputId": "ecddbd18-381c-41b7-8e2c-a5bcb7b8f55c"
      },
      "source": [
        "accuracy=accuracy_score(y_test,test_prediction)\n",
        "print(\"Test accuracy_score\",accuracy)\n",
        "f1_test_score=f1_score(y_test,test_prediction)\n",
        "print(\"Test F1_score\",f1_test_score)\n",
        "print(\"Test confusion matrix\")\n",
        "cnf_matrix2=confusion_matrix(y_test,test_prediction)\n",
        "p = sns.heatmap(pd.DataFrame(cnf_matrix2), annot=True, cmap=\"YlGnBu\" ,fmt='g')\n",
        "plt.title('Test confusion matrix', y=1.1)\n",
        "plt.ylabel('Actual label')\n",
        "plt.xlabel('Predicted label')"
      ],
      "execution_count": 75,
      "outputs": [
        {
          "output_type": "stream",
          "text": [
            "Test accuracy_score 0.5503199534613147\n",
            "Test F1_score 0.568397543271915\n",
            "Test confusion matrix\n"
          ],
          "name": "stdout"
        },
        {
          "output_type": "execute_result",
          "data": {
            "text/plain": [
              "Text(0.5, 15.0, 'Predicted label')"
            ]
          },
          "metadata": {
            "tags": []
          },
          "execution_count": 75
        },
        {
          "output_type": "display_data",
          "data": {
            "image/png": "[encoded data removed]",
            "text/plain": [
              "<Figure size 432x288 with 2 Axes>"
            ]
          },
          "metadata": {
            "tags": [],
            "needs_background": "light"
          }
        }
      ]
    },
    {
      "cell_type": "code",
      "metadata": {
        "id": "fP2LwhmO3tHB",
        "colab": {
          "base_uri": "https://localhost:8080/",
          "height": 610
        },
        "outputId": "c1c1eca3-3ef5-42c3-ca32-372685e51bde"
      },
      "source": [
        "file = '/content/model_1.png'\n",
        "tf.keras.utils.plot_model(model,to_file=file, show_shapes=True)"
      ],
      "execution_count": 34,
      "outputs": [
        {
          "output_type": "execute_result",
          "data": {
            "image/png": "[encoded data removed]",
            "text/plain": [
              "<IPython.core.display.Image object>"
            ]
          },
          "metadata": {
            "tags": []
          },
          "execution_count": 34
        }
      ]
    }
  ]
}